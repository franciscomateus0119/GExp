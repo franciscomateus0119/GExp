{
 "cells": [
  {
   "cell_type": "code",
   "execution_count": null,
   "id": "be977fe2-b158-4ae1-9656-4cfa7d5a0787",
   "metadata": {},
   "outputs": [],
   "source": [
    "import pandas as pd\n",
    "import numpy as np"
   ]
  },
  {
   "cell_type": "code",
   "execution_count": null,
   "id": "3bbb5f0a-a40f-4316-bb86-eff82cf6e0ab",
   "metadata": {},
   "outputs": [],
   "source": [
    "datasets = ['Iris',\n",
    "                'Blood_Transfusion',\n",
    "                'Banknote',\n",
    "                'Modeling',\n",
    "                'Vertebral-Column',\n",
    "                'Pima',\n",
    "                'Glass',\n",
    "                'Wine',\n",
    "                'Climate',\n",
    "                'Parkinsons',\n",
    "                'Breast_Cancer',\n",
    "                'Ionosphere',\n",
    "                'Sonar']\n",
    "p_value = 0.25\n",
    "metric = 2 # 0 == Time, 1 == Size, 2 == Ranges Sum, 3 == Coverage"
   ]
  },
  {
   "cell_type": "code",
   "execution_count": null,
   "id": "3ea7523e-ddfe-4b1b-949f-410970283694",
   "metadata": {},
   "outputs": [],
   "source": [
    "for dataset_name in datasets:\n",
    "    path = f'Anchors_vs_Twostep_Results/Original_{dataset_name}_{p_value}_results.csv'\n",
    "    df = pd.read_csv(path)\n",
    "    print(rf\"{df['ANCHORS_MEAN'][metric].round(2):.2f} $\\pm$ {df['ANCHORS_STD'][metric].round(2):.2f}\")"
   ]
  },
  {
   "cell_type": "code",
   "execution_count": null,
   "id": "d9887d0c-3ad6-4028-bb07-605e76d87596",
   "metadata": {},
   "outputs": [],
   "source": [
    "for dataset_name in datasets:\n",
    "    path = f'Anchors_vs_Twostep_Results/Original_{dataset_name}_{p_value}_results.csv'\n",
    "    df = pd.read_csv(path)\n",
    "    print(rf\"{df['TWOSTEP_MEAN'][metric].round(2):.2f} $\\pm$ {df['TWOSTEP_STD'][metric].round(2):.2f}\")"
   ]
  },
  {
   "cell_type": "code",
   "execution_count": null,
   "id": "533d0b68-3666-4762-bdb6-aa9ca528d0c6",
   "metadata": {},
   "outputs": [],
   "source": [
    "for dataset_name in datasets:\n",
    "    path = f'Anchors_vs_Twostep_Results/Original_{dataset_name}_{p_value}_results.csv'\n",
    "    df = pd.read_csv(path)\n",
    "    print(rf\"{df['MEAN_DIFF_%'][metric].round(3):.3f}\")"
   ]
  },
  {
   "cell_type": "code",
   "execution_count": null,
   "id": "870ef8ff-7eb2-454c-b7d6-5036517b0b58",
   "metadata": {},
   "outputs": [],
   "source": [
    "for dataset_name in datasets:\n",
    "    path = f'Anchors_vs_Twostep_Results/Original_{dataset_name}_{p_value}_results.csv'\n",
    "    df = pd.read_csv(path)\n",
    "    print(rf\"{df['POINTWISE_MEAN_%'][metric].round(2):.2f} $\\pm$ {df['POINTWISE_STD_%'][metric].round(2):.2f}\")"
   ]
  },
  {
   "cell_type": "code",
   "execution_count": null,
   "id": "1bf0bc21-fb86-4607-b6d4-039888fe859a",
   "metadata": {},
   "outputs": [],
   "source": [
    "for dataset_name in datasets:\n",
    "    path = f'Anchors_vs_Twostep_Results/Original_{dataset_name}_{p_value}_results.csv'\n",
    "    df = pd.read_csv(path)\n",
    "    print(rf\"{df['ANCHORS_ERROR_RATE_MEAN%'][metric].round(2):.2f} $\\pm$ {df['ANCHORS_ERROR_RATE_STD%'][metric].round(2):.2f}\")"
   ]
  },
  {
   "cell_type": "code",
   "execution_count": null,
   "id": "6a38e3b7-5cfd-42c0-8042-972803684336",
   "metadata": {},
   "outputs": [],
   "source": [
    "for dataset_name in datasets:\n",
    "    path = f'Anchors_vs_Twostep_Results/Original_{dataset_name}_{p_value}_results.csv'\n",
    "    df = pd.read_csv(path)\n",
    "    print(rf\"{df['ANCHORS_ERROR_RATE_MEAN%'][metric].round(2):.2f}\")"
   ]
  },
  {
   "cell_type": "code",
   "execution_count": null,
   "id": "a7fa1958-070b-4dc8-a411-ac69a8ec8e98",
   "metadata": {},
   "outputs": [],
   "source": [
    "df_anchors['ANCHORS_MEAN'][metric]"
   ]
  },
  {
   "cell_type": "code",
   "execution_count": null,
   "id": "7afa95ba-26d9-4f3b-990a-33edb8182813",
   "metadata": {},
   "outputs": [],
   "source": [
    "for p in [0.25,0.5,0.75]:\n",
    "    print('\\n')\n",
    "    for dataset in datasets:\n",
    "        path = f'Anchors_vs_Twostep_Results/Original_{dataset}_{p}_results.csv'\n",
    "        df = pd.read_csv(path)\n",
    "        df_anchors = pd.read_csv(f'Anchors_vs_Twostep_Results/Original_{dataset}_0.25_results.csv')\n",
    "        mean_diff = (df['TWOSTEP_MEAN'][metric].round(2) - df_anchors['ANCHORS_MEAN'][metric].round(2))/df_anchors['ANCHORS_MEAN'][metric].round(2) * 100\n",
    "        print(rf\"{mean_diff:.2f}\")"
   ]
  },
  {
   "cell_type": "code",
   "execution_count": null,
   "id": "7d0597ce-3108-4248-8af2-45100a335d3f",
   "metadata": {},
   "outputs": [],
   "source": []
  },
  {
   "cell_type": "code",
   "execution_count": null,
   "id": "bdc426cd-4d61-435a-9445-854cb7045f71",
   "metadata": {},
   "outputs": [],
   "source": [
    "#below is for artificial instances"
   ]
  },
  {
   "cell_type": "code",
   "execution_count": null,
   "id": "ccaaf3d3-4d7c-46c9-9b74-31d89df596a8",
   "metadata": {},
   "outputs": [],
   "source": [
    "metric_artificial = 0 #0 == Coverage"
   ]
  },
  {
   "cell_type": "code",
   "execution_count": null,
   "id": "b3a8a107-39c4-4514-b16e-92f19b216c16",
   "metadata": {},
   "outputs": [],
   "source": [
    "for dataset_name in datasets:\n",
    "    path = f'Anchors_vs_Twostep_Results/Artificial_{dataset_name}_results.csv'\n",
    "    df = pd.read_csv(path)\n",
    "    print(rf\"{df['ANCHORS_MEAN'][metric_artificial].round(2):.2f} $\\pm$ {df['ANCHORS_STD'][metric_artificial].round(2):.2f}\")"
   ]
  },
  {
   "cell_type": "code",
   "execution_count": null,
   "id": "0bf0b3a6-be41-46f4-a067-29590653611c",
   "metadata": {},
   "outputs": [],
   "source": [
    "for dataset_name in datasets:\n",
    "    path = f'Anchors_vs_Twostep_Results/Artificial_{dataset_name}_results.csv'\n",
    "    df = pd.read_csv(path)\n",
    "    print(rf\"{df['TWOSTEP_MEAN'][metric_artificial].round(2):.2f} $\\pm$ {df['TWOSTEP_STD'][metric_artificial].round(2):.2f}\")"
   ]
  },
  {
   "cell_type": "code",
   "execution_count": null,
   "id": "76a78dcf-3c7b-4fbc-a2eb-a044e2c73972",
   "metadata": {},
   "outputs": [],
   "source": [
    "for dataset_name in datasets:\n",
    "    path = f'Anchors_vs_Twostep_Results/Artificial_{dataset_name}_results.csv'\n",
    "    df = pd.read_csv(path)\n",
    "    print(rf\"{df['MEAN_DIFF_%'][metric_artificial].round(2):.2f}\")"
   ]
  },
  {
   "cell_type": "code",
   "execution_count": null,
   "id": "0fa1a36a-31ac-4954-adfd-d0e2e95ce72d",
   "metadata": {},
   "outputs": [],
   "source": [
    "for dataset_name in datasets:\n",
    "    path = f'Anchors_vs_Twostep_Results/Artificial_{dataset_name}_results.csv'\n",
    "    df = pd.read_csv(path)\n",
    "    print(rf\"{df['POINTWISE_MEAN_%'][metric_artificial].round(2):.2f} $\\pm$ {df['POINTWISE_STD_%'][metric_artificial].round(2):.2f}\")"
   ]
  },
  {
   "cell_type": "code",
   "execution_count": null,
   "id": "1302a7da-c010-46f9-ae9d-6473b6fc5543",
   "metadata": {},
   "outputs": [],
   "source": [
    "for dataset_name in datasets:\n",
    "    path = f'Anchors_vs_Twostep_Results/Artificial_{dataset_name}_results.csv'\n",
    "    df = pd.read_csv(path)\n",
    "    print(rf\"{df['ANCHORS_ERROR_RATE%'][metric_artificial].round(2):.2f} \")"
   ]
  },
  {
   "cell_type": "code",
   "execution_count": null,
   "id": "3b58a635-9447-4c83-b82b-7eab5d20def4",
   "metadata": {},
   "outputs": [],
   "source": [
    "test_df = pd.read_csv('datasets/sonar.csv')"
   ]
  },
  {
   "cell_type": "code",
   "execution_count": null,
   "id": "b7d17b69-0086-46ad-9451-1188a1a251ae",
   "metadata": {},
   "outputs": [],
   "source": [
    "test_df"
   ]
  },
  {
   "cell_type": "code",
   "execution_count": null,
   "id": "098ddc23-ae33-465b-8d7e-b964aa131eb8",
   "metadata": {},
   "outputs": [],
   "source": []
  }
 ],
 "metadata": {
  "kernelspec": {
   "display_name": "Python 3 (ipykernel)",
   "language": "python",
   "name": "python3"
  },
  "language_info": {
   "codemirror_mode": {
    "name": "ipython",
    "version": 3
   },
   "file_extension": ".py",
   "mimetype": "text/x-python",
   "name": "python",
   "nbconvert_exporter": "python",
   "pygments_lexer": "ipython3",
   "version": "3.12.3"
  }
 },
 "nbformat": 4,
 "nbformat_minor": 5
}
