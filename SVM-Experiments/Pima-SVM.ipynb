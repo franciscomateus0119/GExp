{
 "cells": [
  {
   "cell_type": "code",
   "execution_count": 7,
   "id": "53035e6d-87d7-47c8-bc06-4d169b7c7909",
   "metadata": {
    "tags": []
   },
   "outputs": [],
   "source": [
    "from pulp import *\n",
    "from pulp import LpProblem, LpVariable, LpMinimize, LpInteger, lpSum, value, LpBinary,LpStatusOptimal\n",
    "import pulp\n",
    "import numpy as np\n",
    "import pandas as pd\n",
    "import time\n",
    "from sklearn.preprocessing import MinMaxScaler\n",
    "from sklearn import datasets\n",
    "from sklearn.model_selection import train_test_split\n",
    "from sklearn import svm\n",
    "from sklearn.metrics import classification_report\n",
    "import warnings\n",
    "warnings.filterwarnings(\"ignore\", message=\"Overwriting previously set objective.\")\n",
    "import utility\n",
    "import docplex.mp.model\n",
    "import docplex\n",
    "import docplex_explainer\n",
    "import mymetrics\n",
    "import joblib"
   ]
  },
  {
   "cell_type": "code",
   "execution_count": 8,
   "id": "68fcc08c-b55c-4dbf-9e66-b4815409bce7",
   "metadata": {
    "id": "PW90CcDBHbaM",
    "tags": []
   },
   "outputs": [],
   "source": [
    "# Load Dataset\n",
    "dataset_name = 'Pima'\n",
    "df = pd.read_csv('./datasets/diabetes.csv')"
   ]
  },
  {
   "cell_type": "code",
   "execution_count": 9,
   "id": "b5952206-3fd7-4636-89ec-88e61cfb5702",
   "metadata": {
    "id": "q5plsclR7tUW",
    "tags": []
   },
   "outputs": [],
   "source": [
    "# Scale\n",
    "scaler = MinMaxScaler()\n",
    "scaler.fit(df.values[:, :-1])\n",
    "scaled_df = scaler.transform(df.values[:, :-1])"
   ]
  },
  {
   "cell_type": "code",
   "execution_count": 10,
   "id": "7fa2d6f3-445f-47a7-8d13-dd2891c6bb73",
   "metadata": {
    "colab": {
     "base_uri": "https://localhost:8080/"
    },
    "id": "BMHNARKC8KJR",
    "outputId": "bbe60b5e-fc61-4253-dfb8-75efb51dfe0a",
    "tags": []
   },
   "outputs": [
    {
     "name": "stdout",
     "output_type": "stream",
     "text": [
      "0.0 1.0\n"
     ]
    }
   ],
   "source": [
    "# Get scaled bounds\n",
    "lower_bound = scaled_df.min()\n",
    "upper_bound = scaled_df.max()\n",
    "np.savez(f'models/{dataset_name}_data_bounds.npz', lower_bound=lower_bound, upper_bound=upper_bound)\n",
    "\n",
    "print(lower_bound, upper_bound)"
   ]
  },
  {
   "cell_type": "code",
   "execution_count": 5,
   "id": "ca020aa3-16dc-49f9-acc3-164a3f45dee8",
   "metadata": {
    "tags": []
   },
   "outputs": [
    {
     "name": "stdout",
     "output_type": "stream",
     "text": [
      "Original Targets:  [0. 1.] \n",
      "Desired Targets: [0,1]\n",
      "Is original the desired [0, 1]?  True\n"
     ]
    }
   ],
   "source": [
    "# Check if binary targets\n",
    "df_scaled = pd.DataFrame(scaled_df, columns=df.columns[:-1])\n",
    "targets = (utility.check_targets_0_1(df.values[:,-1])).astype(np.int32)\n",
    "df_scaled['target'] = targets"
   ]
  },
  {
   "cell_type": "code",
   "execution_count": 6,
   "id": "a29c6a96-f261-4650-84ec-260b47b2e9e4",
   "metadata": {
    "colab": {
     "base_uri": "https://localhost:8080/"
    },
    "id": "dx90Sjfwh9cz",
    "outputId": "565c216c-c6e3-48bf-a20b-c64f577ab7f1",
    "tags": []
   },
   "outputs": [
    {
     "name": "stdout",
     "output_type": "stream",
     "text": [
      "              precision    recall  f1-score   support\n",
      "\n",
      "           0       0.76      0.90      0.82       375\n",
      "           1       0.72      0.46      0.56       201\n",
      "\n",
      "    accuracy                           0.75       576\n",
      "   macro avg       0.74      0.68      0.69       576\n",
      "weighted avg       0.75      0.75      0.73       576\n",
      "\n"
     ]
    }
   ],
   "source": [
    "# Train model with 25% of data\n",
    "X_train, X_test, y_train, y_test = train_test_split(scaled_df, targets, test_size=0.75,random_state=50,stratify=targets)\n",
    "X = np.concatenate((X_train,X_test),axis=0)\n",
    "y = np.concatenate((y_train,y_test),axis=0)\n",
    "\n",
    "clf = svm.SVC(kernel='linear')\n",
    "\n",
    "# Train the model using the training set\n",
    "clf.fit(X_train, y_train)\n",
    "joblib.dump(clf, f'models/{dataset_name}_svm_model.pkl')\n",
    "\n",
    "# Predict the response for test dataset\n",
    "y_pred = clf.predict(X_test)\n",
    "print(classification_report(y_test, y_pred))"
   ]
  },
  {
   "cell_type": "code",
   "execution_count": 7,
   "id": "98e16f6f-4d86-439e-aab7-50b8de70db0f",
   "metadata": {
    "tags": []
   },
   "outputs": [
    {
     "name": "stdout",
     "output_type": "stream",
     "text": [
      "Positive patterns = 129,\n",
      "Negative patterns = 447\n"
     ]
    }
   ],
   "source": [
    "# Finding patterns classified as positive/negative\n",
    "positive_indexes,negative_indexes = utility.find_indexes(clf, X_test, threshold=0)\n",
    "print(f\"Positive patterns = {len(positive_indexes)},\\nNegative patterns = {len(negative_indexes)}\")"
   ]
  },
  {
   "cell_type": "code",
   "execution_count": 8,
   "id": "5128478c-c069-4deb-96ae-991e087e4158",
   "metadata": {},
   "outputs": [],
   "source": [
    "# Make a dataframe with the test data. For comparing Onestep against Twostep.\n",
    "test_df_names = list(df.columns)\n",
    "test_df_names[-1] = 'target' #Change 'Outcome' to 'target'\n",
    "if 'target' not in test_df_names:\n",
    "    test_df_names.append('target')\n",
    "test_dataset = []\n",
    "for instance, test_class in zip(X_test, y_test.astype('int32')):\n",
    "    test_dataset.append(np.append(instance, test_class))\n",
    "test_dataset_df = pd.DataFrame(np.asarray(test_dataset), columns=test_df_names)"
   ]
  },
  {
   "cell_type": "code",
   "execution_count": 9,
   "id": "1eeba5a3-6dc2-42db-8f8d-9859c99e3d35",
   "metadata": {},
   "outputs": [],
   "source": [
    "# Parameter p value\n",
    "p = 0.75\n",
    "\n",
    "#Variables for results\n",
    "times_twostep = []\n",
    "rsum_twostep = []\n",
    "coverage_twostep = []\n",
    "pos_exp_twostep = []\n",
    "neg_exp_twostep = []\n",
    "\n",
    "times_onestep = []\n",
    "rsum_onestep = []\n",
    "coverage_onestep = []\n",
    "pos_exp_onestep = []\n",
    "neg_exp_onestep = []"
   ]
  },
  {
   "cell_type": "markdown",
   "id": "0187334d-f823-4b09-bb5a-83fc45976160",
   "metadata": {},
   "source": [
    "#### Onestep"
   ]
  },
  {
   "cell_type": "code",
   "execution_count": 10,
   "id": "75d1bfce-a363-48cd-afc6-cf0785a5c77b",
   "metadata": {},
   "outputs": [],
   "source": [
    "#Generate Explanations for the patterns classified as negative\n",
    "for idx in  negative_indexes:  \n",
    "    #Onestep\n",
    "    start = time.perf_counter()\n",
    "    exp = docplex_explainer.onestep(\n",
    "            classifier = clf,\n",
    "            dual_coef = clf.dual_coef_,\n",
    "            support_vectors = clf.support_vectors_,\n",
    "            intercept = clf.intercept_,\n",
    "            lower_bound = lower_bound,\n",
    "            upper_bound = upper_bound,\n",
    "            data = (X_test[idx]),\n",
    "            positive = False)\n",
    "    end = time.perf_counter()\n",
    "    times_onestep.append((end - start))\n",
    "    neg_exp_onestep.append(exp)\n",
    "    rsum_onestep.append(mymetrics.range_sum(exp))\n",
    "    coverage_onestep.append(len(mymetrics.calculate_coverage(test_dataset_df, exp)))\n",
    "\n",
    "#Generate Explanations for the patterns classfied as positive\n",
    "for idx in positive_indexes:\n",
    "    #Onestep\n",
    "    start = time.perf_counter()\n",
    "    exp = docplex_explainer.onestep(\n",
    "            classifier = clf,\n",
    "            dual_coef = clf.dual_coef_,\n",
    "            support_vectors = clf.support_vectors_,\n",
    "            intercept = clf.intercept_,\n",
    "            lower_bound = lower_bound,\n",
    "            upper_bound = upper_bound,\n",
    "            data = (X_test[idx]),\n",
    "            positive = True)\n",
    "    end = time.perf_counter()\n",
    "    times_onestep.append((end - start))\n",
    "    pos_exp_onestep.append(exp)\n",
    "    rsum_onestep.append(mymetrics.range_sum(exp))\n",
    "    coverage_onestep.append(len(mymetrics.calculate_coverage(test_dataset_df, exp)))"
   ]
  },
  {
   "cell_type": "markdown",
   "id": "d8e9b43e-170c-48b0-970d-3f2dce9a2520",
   "metadata": {},
   "source": [
    "#### Twostep"
   ]
  },
  {
   "cell_type": "code",
   "execution_count": 11,
   "id": "31f75d41-dbcb-4786-8f57-0308a162910b",
   "metadata": {
    "tags": []
   },
   "outputs": [],
   "source": [
    "#Generate Explanations for the patterns classified as negative\n",
    "for idx in  negative_indexes:\n",
    "    \n",
    "    #Twostep\n",
    "    start = time.perf_counter()\n",
    "    exp_ = docplex_explainer.twostep(\n",
    "            classifier = clf,\n",
    "            dual_coef = clf.dual_coef_,\n",
    "            support_vectors = clf.support_vectors_,\n",
    "            intercept = clf.intercept_,\n",
    "            lower_bound = lower_bound,\n",
    "            upper_bound = upper_bound,\n",
    "            data = (X_test[idx]),\n",
    "            p = p,\n",
    "            positive = False)\n",
    "    end = time.perf_counter()\n",
    "    times_twostep.append((end - start))\n",
    "    neg_exp_twostep.append(exp_)\n",
    "    rsum_twostep.append(mymetrics.range_sum(exp_))\n",
    "    coverage_twostep.append(len(mymetrics.calculate_coverage(test_dataset_df, exp_)))\n",
    "\n",
    "\n",
    "#Generate Explanations for the patterns classfied as positive\n",
    "for idx in positive_indexes:\n",
    "    \n",
    "    #Twostep\n",
    "    start = time.perf_counter()\n",
    "    exp_ = docplex_explainer.twostep(\n",
    "            classifier = clf,\n",
    "            dual_coef = clf.dual_coef_,\n",
    "            support_vectors = clf.support_vectors_,\n",
    "            intercept = clf.intercept_,\n",
    "            lower_bound = lower_bound,\n",
    "            upper_bound = upper_bound,\n",
    "            data = (X_test[idx]),\n",
    "            p = p,\n",
    "            positive = True)\n",
    "    end = time.perf_counter()\n",
    "    times_twostep.append((end - start))\n",
    "    pos_exp_twostep.append(exp_)\n",
    "    rsum_twostep.append(mymetrics.range_sum(exp_))\n",
    "    coverage_twostep.append(len(mymetrics.calculate_coverage(test_dataset_df, exp_)))"
   ]
  },
  {
   "cell_type": "markdown",
   "id": "8597f13a-b41a-478a-a62c-13f24752a20f",
   "metadata": {},
   "source": [
    "#### Metrics"
   ]
  },
  {
   "cell_type": "code",
   "execution_count": 12,
   "id": "dfc23c7b-6ef8-4b12-8934-e51489be91bc",
   "metadata": {},
   "outputs": [],
   "source": [
    "# Compute feature expansion sizes for Twostep\n",
    "frequency_twostep_neg = utility.detail_exp(\n",
    "    explanations=neg_exp_twostep, \n",
    "    patterns=X_test[negative_indexes],\n",
    "    number_of_features=len(X_test[0]), \n",
    "    show_explanation=False, \n",
    "    show_frequency=False, \n",
    "    low_val=lower_bound, \n",
    "    upp_val=upper_bound\n",
    ")\n",
    "\n",
    "frequency_twostep_pos = utility.detail_exp(\n",
    "    explanations=pos_exp_twostep, \n",
    "    patterns=X_test[positive_indexes],\n",
    "    number_of_features=len(X_test[0]), \n",
    "    show_explanation=False, \n",
    "    show_frequency=False, \n",
    "    low_val=lower_bound, \n",
    "    upp_val=upper_bound\n",
    ")\n",
    "\n",
    "neg_sizes_twostep = np.count_nonzero(frequency_twostep_neg.to_numpy() == 1, axis=1)\n",
    "pos_sizes_twostep = np.count_nonzero(frequency_twostep_pos.to_numpy() == 1, axis=1)\n",
    "feature_sizes_twostep = np.concatenate([neg_sizes_twostep, pos_sizes_twostep])"
   ]
  },
  {
   "cell_type": "code",
   "execution_count": 13,
   "id": "9ca404cc-4e44-4cba-975a-e1b0d94172d3",
   "metadata": {},
   "outputs": [],
   "source": [
    "# Compute feature expansion sizes for Onestep\n",
    "frequency_onestep_neg = utility.detail_exp(\n",
    "    explanations=neg_exp_onestep, \n",
    "    patterns=X_test[negative_indexes],\n",
    "    number_of_features=len(X_test[0]), \n",
    "    show_explanation=False, \n",
    "    show_frequency=False, \n",
    "    low_val=lower_bound, \n",
    "    upp_val=upper_bound\n",
    ")\n",
    "\n",
    "frequency_onestep_pos = utility.detail_exp(\n",
    "    explanations=pos_exp_onestep, \n",
    "    patterns=X_test[positive_indexes],\n",
    "    number_of_features=len(X_test[0]), \n",
    "    show_explanation=False, \n",
    "    show_frequency=False, \n",
    "    low_val=lower_bound, \n",
    "    upp_val=upper_bound\n",
    ")\n",
    "\n",
    "# Use np.count_nonzero\n",
    "neg_sizes_onestep = np.count_nonzero(frequency_onestep_neg.to_numpy() == 1, axis=1)\n",
    "pos_sizes_onestep = np.count_nonzero(frequency_onestep_pos.to_numpy() == 1, axis=1)\n",
    "\n",
    "# Concatenate directly\n",
    "feature_sizes_onestep = np.concatenate([neg_sizes_onestep, pos_sizes_onestep])"
   ]
  },
  {
   "cell_type": "code",
   "execution_count": 14,
   "id": "9d68788c-b895-4bde-9ff4-ca09c26de101",
   "metadata": {},
   "outputs": [
    {
     "data": {
      "text/html": [
       "<div>\n",
       "<style scoped>\n",
       "    .dataframe tbody tr th:only-of-type {\n",
       "        vertical-align: middle;\n",
       "    }\n",
       "\n",
       "    .dataframe tbody tr th {\n",
       "        vertical-align: top;\n",
       "    }\n",
       "\n",
       "    .dataframe thead th {\n",
       "        text-align: right;\n",
       "    }\n",
       "</style>\n",
       "<table border=\"1\" class=\"dataframe\">\n",
       "  <thead>\n",
       "    <tr style=\"text-align: right;\">\n",
       "      <th></th>\n",
       "      <th>Metric</th>\n",
       "      <th>ONESTEP_MEAN</th>\n",
       "      <th>ONESTEP_STD</th>\n",
       "      <th>TWOSTEP_MEAN</th>\n",
       "      <th>TWOSTEP_STD</th>\n",
       "      <th>MEAN_DIFF_%</th>\n",
       "      <th>STD_DIFF_%</th>\n",
       "      <th>POINTWISE_MEAN_%</th>\n",
       "      <th>POINTWISE_STD_%</th>\n",
       "    </tr>\n",
       "  </thead>\n",
       "  <tbody>\n",
       "    <tr>\n",
       "      <th>0</th>\n",
       "      <td>Time</td>\n",
       "      <td>0.026331</td>\n",
       "      <td>0.004632</td>\n",
       "      <td>0.036539</td>\n",
       "      <td>0.006641</td>\n",
       "      <td>38.770736</td>\n",
       "      <td>43.394430</td>\n",
       "      <td>39.590442</td>\n",
       "      <td>20.565530</td>\n",
       "    </tr>\n",
       "    <tr>\n",
       "      <th>1</th>\n",
       "      <td>Size</td>\n",
       "      <td>5.098958</td>\n",
       "      <td>1.246773</td>\n",
       "      <td>5.098958</td>\n",
       "      <td>1.246773</td>\n",
       "      <td>0.000000</td>\n",
       "      <td>0.000000</td>\n",
       "      <td>0.000000</td>\n",
       "      <td>0.000000</td>\n",
       "    </tr>\n",
       "    <tr>\n",
       "      <th>2</th>\n",
       "      <td>Ranges_Sum</td>\n",
       "      <td>4.745900</td>\n",
       "      <td>0.802430</td>\n",
       "      <td>4.764283</td>\n",
       "      <td>0.801824</td>\n",
       "      <td>0.387359</td>\n",
       "      <td>-0.075564</td>\n",
       "      <td>0.397809</td>\n",
       "      <td>0.697762</td>\n",
       "    </tr>\n",
       "    <tr>\n",
       "      <th>3</th>\n",
       "      <td>Coverage</td>\n",
       "      <td>12.065972</td>\n",
       "      <td>13.599013</td>\n",
       "      <td>13.024306</td>\n",
       "      <td>13.931483</td>\n",
       "      <td>7.942446</td>\n",
       "      <td>2.444811</td>\n",
       "      <td>14.244322</td>\n",
       "      <td>34.308172</td>\n",
       "    </tr>\n",
       "  </tbody>\n",
       "</table>\n",
       "</div>"
      ],
      "text/plain": [
       "       Metric  ONESTEP_MEAN  ONESTEP_STD  TWOSTEP_MEAN  TWOSTEP_STD  \\\n",
       "0        Time      0.026331     0.004632      0.036539     0.006641   \n",
       "1        Size      5.098958     1.246773      5.098958     1.246773   \n",
       "2  Ranges_Sum      4.745900     0.802430      4.764283     0.801824   \n",
       "3    Coverage     12.065972    13.599013     13.024306    13.931483   \n",
       "\n",
       "   MEAN_DIFF_%  STD_DIFF_%  POINTWISE_MEAN_%  POINTWISE_STD_%  \n",
       "0    38.770736   43.394430         39.590442        20.565530  \n",
       "1     0.000000    0.000000          0.000000         0.000000  \n",
       "2     0.387359   -0.075564          0.397809         0.697762  \n",
       "3     7.942446    2.444811         14.244322        34.308172  "
      ]
     },
     "metadata": {},
     "output_type": "display_data"
    }
   ],
   "source": [
    "# Compute means and standard deviations\n",
    "def compute_mean_std(arr):\n",
    "    return np.mean(arr), np.std(arr)\n",
    "\n",
    "# Compute relative percentage differences\n",
    "def relative_percentage_diff(new, old):\n",
    "    if np.any(old == 0):\n",
    "        print(f'Warning: found possible division by zero')\n",
    "        return np.where(old != 0, ((new - old) / old) * 100, np.nan)\n",
    "    return ((new - old) / old) * 100\n",
    "\n",
    "# Ensure all lists are NumPy arrays\n",
    "times_onestep = np.array(times_onestep)\n",
    "times_twostep = np.array(times_twostep)\n",
    "feature_sizes_onestep = np.array(feature_sizes_onestep)\n",
    "feature_sizes_twostep = np.array(feature_sizes_twostep)\n",
    "rsum_onestep = np.array(rsum_onestep)\n",
    "rsum_twostep = np.array(rsum_twostep)\n",
    "coverage_onestep = np.array(coverage_onestep)\n",
    "coverage_twostep = np.array(coverage_twostep)\n",
    "\n",
    "# Compute means and standard deviations\n",
    "(time_mean_onestep, time_std_onestep) = compute_mean_std(times_onestep)\n",
    "(time_mean_twostep, time_std_twostep) = compute_mean_std(times_twostep)\n",
    "\n",
    "(sizes_mean_onestep, sizes_std_onestep) = compute_mean_std(feature_sizes_onestep)\n",
    "(sizes_mean_twostep, sizes_std_twostep) = compute_mean_std(feature_sizes_twostep)\n",
    "\n",
    "(rsum_mean_onestep, rsum_std_onestep) = compute_mean_std(rsum_onestep)\n",
    "(rsum_mean_twostep, rsum_std_twostep) = compute_mean_std(rsum_twostep)\n",
    "\n",
    "(coverage_mean_onestep, coverage_std_onestep) = compute_mean_std(coverage_onestep)\n",
    "(coverage_mean_twostep, coverage_std_twostep) = compute_mean_std(coverage_twostep)\n",
    "\n",
    "# Compute relative percentage differences (Mean & Std)\n",
    "time_mean_diff = relative_percentage_diff(time_mean_twostep, time_mean_onestep)\n",
    "sizes_mean_diff = relative_percentage_diff(sizes_mean_twostep, sizes_mean_onestep)\n",
    "rsum_mean_diff = relative_percentage_diff(rsum_mean_twostep, rsum_mean_onestep)\n",
    "coverage_mean_diff = relative_percentage_diff(coverage_mean_twostep, coverage_mean_onestep)\n",
    "\n",
    "time_std_diff = relative_percentage_diff(time_std_twostep, time_std_onestep)\n",
    "sizes_std_diff = relative_percentage_diff(sizes_std_twostep, sizes_std_onestep)\n",
    "rsum_std_diff = relative_percentage_diff(rsum_std_twostep, rsum_std_onestep)\n",
    "coverage_std_diff = relative_percentage_diff(coverage_std_twostep, coverage_std_onestep)\n",
    "\n",
    "# Compute pointwise relative differences\n",
    "time_relative_pointwise = relative_percentage_diff(times_twostep, times_onestep)\n",
    "sizes_relative_pointwise = relative_percentage_diff(feature_sizes_twostep, feature_sizes_onestep)\n",
    "rsum_relative_pointwise = relative_percentage_diff(rsum_twostep, rsum_onestep)\n",
    "coverage_relative_pointwise = relative_percentage_diff(coverage_twostep, coverage_onestep)\n",
    "\n",
    "# Compute pointwise means\n",
    "time_relative_mean = np.mean(time_relative_pointwise) \n",
    "sizes_relative_mean = np.mean(sizes_relative_pointwise)\n",
    "rsum_relative_mean = np.mean(rsum_relative_pointwise)\n",
    "coverage_relative_mean = np.mean(coverage_relative_pointwise)\n",
    "\n",
    "# Compute pointwise standard deviations\n",
    "time_relative_std = np.std(time_relative_pointwise) \n",
    "sizes_relative_std = np.std(sizes_relative_pointwise)\n",
    "rsum_relative_std = np.std(rsum_relative_pointwise)\n",
    "coverage_relative_std = np.std(coverage_relative_pointwise)\n",
    "\n",
    "# Organize Data\n",
    "all_metrics_data = {\n",
    "    'Metric': ['Time', 'Size', 'Ranges_Sum', 'Coverage'],\n",
    "    'ONESTEP_MEAN': [time_mean_onestep, sizes_mean_onestep, rsum_mean_onestep, coverage_mean_onestep],\n",
    "    'ONESTEP_STD': [time_std_onestep, sizes_std_onestep, rsum_std_onestep, coverage_std_onestep],\n",
    "    'TWOSTEP_MEAN': [time_mean_twostep, sizes_mean_twostep, rsum_mean_twostep, coverage_mean_twostep],\n",
    "    'TWOSTEP_STD': [time_std_twostep, sizes_std_twostep, rsum_std_twostep, coverage_std_twostep],\n",
    "    'MEAN_DIFF_%': [time_mean_diff, sizes_mean_diff, rsum_mean_diff, coverage_mean_diff],\n",
    "    'STD_DIFF_%': [time_std_diff, sizes_std_diff, rsum_std_diff, coverage_std_diff],\n",
    "    'POINTWISE_MEAN_%': [time_relative_mean, sizes_relative_mean, rsum_relative_mean, coverage_relative_mean],\n",
    "    'POINTWISE_STD_%': [time_relative_std, sizes_relative_std, rsum_relative_std, coverage_relative_std]\n",
    "}\n",
    "# Display and save\n",
    "all_metrics_df = pd.DataFrame(all_metrics_data)\n",
    "display(all_metrics_df)\n",
    "all_metrics_df.to_csv(f'{dataset_name}/results_{p}.csv', index=False)\n",
    "\n",
    "#Save Raw Metric Data\n",
    "raw_df = pd.DataFrame({\n",
    "    \"times_onestep\": times_onestep, \n",
    "    \"times_twostep\": times_twostep,\n",
    "    \"feature_sizes_onestep\": feature_sizes_onestep, \n",
    "    \"feature_sizes_twostep\": feature_sizes_twostep,\n",
    "    \"rsum_onestep\": rsum_onestep, \n",
    "    \"rsum_twostep\": rsum_twostep,\n",
    "    \"coverage_onestep\": coverage_onestep, \n",
    "    \"coverage_twostep\": coverage_twostep,\n",
    "    \"time_relative_%\": time_relative_pointwise,\n",
    "    \"sizes_relative_%\": sizes_relative_pointwise,\n",
    "    \"rsum_relative_%\": rsum_relative_pointwise,\n",
    "    \"coverage_relative_%\": coverage_relative_pointwise\n",
    "})\n",
    "\n",
    "# Save to CSV\n",
    "raw_df.to_csv(f\"{dataset_name}/raw_metric_data_{p}.csv\", index=False)\n",
    "\n",
    "np.savez(f'{dataset_name}/neg_explanations_{p}.npz', \n",
    "         neg_exp_onestep=neg_exp_onestep, \n",
    "         neg_exp_twostep=neg_exp_twostep)\n",
    "\n",
    "# Save positive explanations\n",
    "np.savez(f'{dataset_name}/pos_explanations_{p}.npz', \n",
    "         pos_exp_onestep=pos_exp_onestep, \n",
    "         pos_exp_twostep=pos_exp_twostep)"
   ]
  },
  {
   "cell_type": "code",
   "execution_count": null,
   "id": "addac62e-d1b2-447b-b2da-0875b0647e16",
   "metadata": {},
   "outputs": [],
   "source": []
  }
 ],
 "metadata": {
  "kernelspec": {
   "display_name": "Python 3 (ipykernel)",
   "language": "python",
   "name": "python3"
  },
  "language_info": {
   "codemirror_mode": {
    "name": "ipython",
    "version": 3
   },
   "file_extension": ".py",
   "mimetype": "text/x-python",
   "name": "python",
   "nbconvert_exporter": "python",
   "pygments_lexer": "ipython3",
   "version": "3.12.3"
  }
 },
 "nbformat": 4,
 "nbformat_minor": 5
}
