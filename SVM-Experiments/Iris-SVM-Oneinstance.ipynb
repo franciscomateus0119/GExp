{
 "cells": [
  {
   "cell_type": "code",
   "execution_count": 1,
   "id": "3aee1b33-d48d-4d2c-83d7-116778ae92d8",
   "metadata": {
    "tags": []
   },
   "outputs": [],
   "source": [
    "from pulp import *\n",
    "from pulp import LpProblem, LpVariable, LpMinimize, LpInteger, lpSum, value, LpBinary,LpStatusOptimal\n",
    "import pulp\n",
    "import numpy as np\n",
    "import pandas as pd\n",
    "import time\n",
    "from sklearn.preprocessing import MinMaxScaler\n",
    "from sklearn import datasets\n",
    "from sklearn.model_selection import train_test_split\n",
    "from sklearn import svm\n",
    "from sklearn import metrics\n",
    "import warnings\n",
    "warnings.filterwarnings(\"ignore\", message=\"Overwriting previously set objective.\")\n",
    "import utility\n",
    "import docplex.mp.model\n",
    "import docplex\n",
    "import docplex_explainer\n",
    "import mymetrics"
   ]
  },
  {
   "cell_type": "code",
   "execution_count": 2,
   "id": "c6235082-c4ce-429d-98f7-650fb04ebb27",
   "metadata": {
    "id": "PW90CcDBHbaM",
    "tags": []
   },
   "outputs": [],
   "source": [
    "# Load Dataset\n",
    "dataset = datasets.load_iris()\n",
    "dataset_name = 'Iris'\n",
    "df = pd.DataFrame(dataset.data, columns = dataset.feature_names)"
   ]
  },
  {
   "cell_type": "code",
   "execution_count": 3,
   "id": "5a6aacbc-b3ea-4850-aa6a-67e4c5e6a40a",
   "metadata": {
    "id": "q5plsclR7tUW",
    "tags": []
   },
   "outputs": [],
   "source": [
    "# Scale\n",
    "scaler = MinMaxScaler()\n",
    "scaler.fit(dataset.data)\n",
    "scaled_df = scaler.transform(dataset.data)"
   ]
  },
  {
   "cell_type": "code",
   "execution_count": 4,
   "id": "94ef750c-80fa-4b0d-afc0-326aa43a44cf",
   "metadata": {
    "colab": {
     "base_uri": "https://localhost:8080/"
    },
    "id": "BMHNARKC8KJR",
    "outputId": "bbe60b5e-fc61-4253-dfb8-75efb51dfe0a",
    "tags": []
   },
   "outputs": [
    {
     "name": "stdout",
     "output_type": "stream",
     "text": [
      "0.0 1.0\n"
     ]
    }
   ],
   "source": [
    "# Get scaled bounds\n",
    "lower_bound = scaled_df.min()\n",
    "upper_bound = scaled_df.max()\n",
    "print(lower_bound, upper_bound)"
   ]
  },
  {
   "cell_type": "code",
   "execution_count": 5,
   "id": "dc87de2a-29a2-4679-b9aa-f5fb251fc39f",
   "metadata": {
    "tags": []
   },
   "outputs": [
    {
     "name": "stdout",
     "output_type": "stream",
     "text": [
      "Original Targets:  [0 1] \n",
      "Desired Targets: [0,1]\n",
      "Is original the desired [0, 1]?  True\n"
     ]
    }
   ],
   "source": [
    "# Check if binary targets\n",
    "df_scaled = pd.DataFrame(scaled_df, columns=df.columns)\n",
    "targets = (utility.check_targets_0_1(np.where(dataset.target == dataset.target[0],0,1))).astype(np.int32)\n",
    "df_scaled['target'] = targets"
   ]
  },
  {
   "cell_type": "code",
   "execution_count": 6,
   "id": "1151ac54-faff-413d-9709-7d5a81834c96",
   "metadata": {
    "colab": {
     "base_uri": "https://localhost:8080/"
    },
    "id": "dx90Sjfwh9cz",
    "outputId": "565c216c-c6e3-48bf-a20b-c64f577ab7f1",
    "tags": []
   },
   "outputs": [
    {
     "name": "stdout",
     "output_type": "stream",
     "text": [
      "Accuracy Linear: 1.0\n"
     ]
    }
   ],
   "source": [
    "# Train model\n",
    "X_train, X_test, y_train, y_test = train_test_split(scaled_df, targets, test_size=0.3,random_state=50,stratify=targets)\n",
    "X = np.concatenate((X_train,X_test),axis=0)\n",
    "y = np.concatenate((y_train,y_test),axis=0)\n",
    "\n",
    "clf = svm.SVC(kernel='linear')\n",
    "\n",
    "# Train the model using the training set\n",
    "clf.fit(X_train, y_train)\n",
    "\n",
    "# Predict the response for test dataset\n",
    "y_pred = clf.predict(X_test)\n",
    "print(\"Accuracy Linear:\", metrics.accuracy_score(y_test, y_pred))"
   ]
  },
  {
   "cell_type": "code",
   "execution_count": 7,
   "id": "a4cabe33-2a04-4070-b80f-ddbce68589d6",
   "metadata": {
    "tags": []
   },
   "outputs": [
    {
     "name": "stdout",
     "output_type": "stream",
     "text": [
      "Positive patterns = 30,\n",
      "Negative patterns = 15\n"
     ]
    }
   ],
   "source": [
    "# Finding patterns classified as positive/negative\n",
    "positive_indexes,negative_indexes = utility.find_indexes(clf, X_test, threshold=0)\n",
    "print(f\"Positive patterns = {len(positive_indexes)},\\nNegative patterns = {len(negative_indexes)}\")"
   ]
  },
  {
   "cell_type": "code",
   "execution_count": 8,
   "id": "a262a1af-6803-4e51-a494-d9084adab969",
   "metadata": {},
   "outputs": [],
   "source": [
    "# Make a dataframe with the test data. For comparing Onestep against Twostep.\n",
    "test_df_names = list(df.columns)\n",
    "if 'target' not in test_df_names:\n",
    "    test_df_names.append('target')\n",
    "test_dataset = []\n",
    "for instance, test_class in zip(X_test, y_test.astype('int32')):\n",
    "    test_dataset.append(np.append(instance, test_class))\n",
    "test_dataset_df = pd.DataFrame(np.asarray(test_dataset), columns=test_df_names)"
   ]
  },
  {
   "cell_type": "code",
   "execution_count": 9,
   "id": "dbe31998-2858-467e-9bdd-71d099d5ce55",
   "metadata": {},
   "outputs": [],
   "source": [
    "# Parameter p value\n",
    "p = 0.5"
   ]
  },
  {
   "cell_type": "code",
   "execution_count": 10,
   "id": "9357b3e1-e9b4-40db-9887-b146de253553",
   "metadata": {},
   "outputs": [
    {
     "data": {
      "text/plain": [
       "array([[0.30555556, 0.79166667, 0.11864407, 0.125     ]])"
      ]
     },
     "execution_count": 10,
     "metadata": {},
     "output_type": "execute_result"
    }
   ],
   "source": [
    "# Instance to be explained\n",
    "instance = X_test[negative_indexes[0:1]]\n",
    "instance"
   ]
  },
  {
   "cell_type": "code",
   "execution_count": 11,
   "id": "b7b23664-a35f-4546-ac90-f8b7d6b3b126",
   "metadata": {},
   "outputs": [
    {
     "data": {
      "text/plain": [
       "array([[5.4, 3.9, 1.7, 0.4]])"
      ]
     },
     "execution_count": 11,
     "metadata": {},
     "output_type": "execute_result"
    }
   ],
   "source": [
    "scaler.inverse_transform(np.atleast_2d(instance))"
   ]
  },
  {
   "cell_type": "code",
   "execution_count": 12,
   "id": "0c01ffec-2a54-49e4-a34c-ffba3af2b9ce",
   "metadata": {},
   "outputs": [
    {
     "data": {
      "text/plain": [
       "array([0])"
      ]
     },
     "execution_count": 12,
     "metadata": {},
     "output_type": "execute_result"
    }
   ],
   "source": [
    "clf.predict(instance)"
   ]
  },
  {
   "cell_type": "code",
   "execution_count": 13,
   "id": "20a6cdc1-dc2b-4350-9cdf-ee969a2a4a2e",
   "metadata": {},
   "outputs": [],
   "source": [
    "#Onestep\n",
    "onestep_exp = docplex_explainer.onestep(\n",
    "        classifier = clf,\n",
    "        dual_coef = clf.dual_coef_,\n",
    "        support_vectors = clf.support_vectors_,\n",
    "        intercept = clf.intercept_,\n",
    "        lower_bound = lower_bound,\n",
    "        upper_bound = upper_bound,\n",
    "        data = (instance),\n",
    "        positive = False)"
   ]
  },
  {
   "cell_type": "code",
   "execution_count": 14,
   "id": "780f89c0-eff7-4130-9e0b-5f21989124c2",
   "metadata": {},
   "outputs": [
    {
     "data": {
      "text/plain": [
       "[[0.0, 1.0],\n",
       " [0.352021508800505, 1.0],\n",
       " [0.0, 0.11864406779661013],\n",
       " [0.0, 0.125]]"
      ]
     },
     "execution_count": 14,
     "metadata": {},
     "output_type": "execute_result"
    }
   ],
   "source": [
    "onestep_exp"
   ]
  },
  {
   "cell_type": "code",
   "execution_count": 15,
   "id": "37c89a4e-b65d-4e02-990e-b8a02419641d",
   "metadata": {},
   "outputs": [
    {
     "data": {
      "text/plain": [
       "array([[4.3       , 2.84485162, 1.        , 0.1       ]])"
      ]
     },
     "execution_count": 15,
     "metadata": {},
     "output_type": "execute_result"
    }
   ],
   "source": [
    "#Onestep Lowerbound\n",
    "scaler.inverse_transform(np.atleast_2d([0,\n",
    "                                       0.352021508800505,\n",
    "                                       0,\n",
    "                                       0]))"
   ]
  },
  {
   "cell_type": "code",
   "execution_count": 16,
   "id": "93211748-b8f1-4874-a953-cf5d88b5ae7e",
   "metadata": {},
   "outputs": [
    {
     "data": {
      "text/plain": [
       "array([[7.9, 4.4, 1.7, 0.4]])"
      ]
     },
     "execution_count": 16,
     "metadata": {},
     "output_type": "execute_result"
    }
   ],
   "source": [
    "#Onestep Upperbound\n",
    "scaler.inverse_transform(np.atleast_2d([1.0,\n",
    "                                       1.0,\n",
    "                                       0.11864406779661013,\n",
    "                                       0.125]))"
   ]
  },
  {
   "cell_type": "code",
   "execution_count": 17,
   "id": "7a2b404c-1de2-44d3-882d-b35540203a69",
   "metadata": {},
   "outputs": [],
   "source": [
    "#Twostep\n",
    "twostep_exp = docplex_explainer.twostep(\n",
    "        classifier = clf,\n",
    "        dual_coef = clf.dual_coef_,\n",
    "        support_vectors = clf.support_vectors_,\n",
    "        intercept = clf.intercept_,\n",
    "        lower_bound = lower_bound,\n",
    "        upper_bound = upper_bound,\n",
    "        data = (instance),\n",
    "        p = p,\n",
    "        positive = False)"
   ]
  },
  {
   "cell_type": "code",
   "execution_count": 18,
   "id": "90f84278-6cbc-4694-9cfd-01d5126aa546",
   "metadata": {},
   "outputs": [
    {
     "data": {
      "text/plain": [
       "[[0.0, 1.0],\n",
       " [0.5137114203688846, 1.0],\n",
       " [0.0, 0.18765790040017305],\n",
       " [0.0, 0.16512991270501043]]"
      ]
     },
     "execution_count": 18,
     "metadata": {},
     "output_type": "execute_result"
    }
   ],
   "source": [
    "twostep_exp"
   ]
  },
  {
   "cell_type": "code",
   "execution_count": 19,
   "id": "6b5cdbdc-cd27-4de1-a5b9-0eb041d15002",
   "metadata": {},
   "outputs": [
    {
     "data": {
      "text/plain": [
       "array([[4.3       , 3.23290741, 1.        , 0.1       ]])"
      ]
     },
     "execution_count": 19,
     "metadata": {},
     "output_type": "execute_result"
    }
   ],
   "source": [
    "#Twostep Lowerbound\n",
    "scaler.inverse_transform(np.atleast_2d([0,\n",
    "                                       0.5137114203688846,\n",
    "                                       0,\n",
    "                                       0]))"
   ]
  },
  {
   "cell_type": "code",
   "execution_count": 20,
   "id": "9aa5a27a-894b-49f3-824a-f7a283ac2836",
   "metadata": {},
   "outputs": [
    {
     "data": {
      "text/plain": [
       "array([[7.9       , 4.4       , 2.10718161, 0.49631179]])"
      ]
     },
     "execution_count": 20,
     "metadata": {},
     "output_type": "execute_result"
    }
   ],
   "source": [
    "#Twostep Powerbound\n",
    "scaler.inverse_transform(np.atleast_2d([1,\n",
    "                                       1,\n",
    "                                       0.18765790040017305,\n",
    "                                       0.16512991270501043]))"
   ]
  },
  {
   "cell_type": "code",
   "execution_count": null,
   "id": "41a410c4-5850-464a-a34c-2c99d99db08d",
   "metadata": {},
   "outputs": [],
   "source": []
  }
 ],
 "metadata": {
  "kernelspec": {
   "display_name": "Python 3 (ipykernel)",
   "language": "python",
   "name": "python3"
  },
  "language_info": {
   "codemirror_mode": {
    "name": "ipython",
    "version": 3
   },
   "file_extension": ".py",
   "mimetype": "text/x-python",
   "name": "python",
   "nbconvert_exporter": "python",
   "pygments_lexer": "ipython3",
   "version": "3.10.14"
  }
 },
 "nbformat": 4,
 "nbformat_minor": 5
}
