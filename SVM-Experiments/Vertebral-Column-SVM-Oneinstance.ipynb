{
 "cells": [
  {
   "cell_type": "code",
   "execution_count": 1,
   "id": "3aee1b33-d48d-4d2c-83d7-116778ae92d8",
   "metadata": {
    "tags": []
   },
   "outputs": [],
   "source": [
    "from pulp import *\n",
    "from pulp import LpProblem, LpVariable, LpMinimize, LpInteger, lpSum, value, LpBinary,LpStatusOptimal\n",
    "import pulp\n",
    "import numpy as np\n",
    "import pandas as pd\n",
    "import time\n",
    "from sklearn.preprocessing import MinMaxScaler\n",
    "from sklearn import datasets\n",
    "from sklearn.model_selection import train_test_split\n",
    "from sklearn import svm\n",
    "from sklearn import metrics\n",
    "import warnings\n",
    "warnings.filterwarnings(\"ignore\", message=\"Overwriting previously set objective.\")\n",
    "import utility\n",
    "import docplex.mp.model\n",
    "import docplex\n",
    "import docplex_explainer\n",
    "import mymetrics"
   ]
  },
  {
   "cell_type": "code",
   "execution_count": 2,
   "id": "8f64245a-7cba-4394-9fb2-f5ee9560d0b3",
   "metadata": {
    "id": "PW90CcDBHbaM",
    "tags": []
   },
   "outputs": [],
   "source": [
    "# Load Dataset\n",
    "dataset_name = 'Column'\n",
    "df = pd.read_csv('./datasets/column_2C.dat', sep=\" \", names=['pelvic_incidence', 'pelvic_tilt', 'lumbar_lordosis_angle', 'sacral_slope', 'pelvic_radius', 'degree_spondylolisthesis','target'])\n",
    "df['target']=np.where(df['target']=='AB',1,0)"
   ]
  },
  {
   "cell_type": "code",
   "execution_count": 3,
   "id": "e3222cb1-b239-4491-aa40-653f5be11d55",
   "metadata": {
    "id": "q5plsclR7tUW",
    "tags": []
   },
   "outputs": [],
   "source": [
    "# Scale\n",
    "scaler = MinMaxScaler()\n",
    "scaler.fit(df.values[:, :-1])\n",
    "scaled_df = scaler.transform(df.values[:, :-1])"
   ]
  },
  {
   "cell_type": "code",
   "execution_count": 4,
   "id": "4132372a-561a-49c8-8dcb-a2de90d9cfc1",
   "metadata": {
    "colab": {
     "base_uri": "https://localhost:8080/"
    },
    "id": "BMHNARKC8KJR",
    "outputId": "bbe60b5e-fc61-4253-dfb8-75efb51dfe0a",
    "tags": []
   },
   "outputs": [
    {
     "name": "stdout",
     "output_type": "stream",
     "text": [
      "0.0 1.0000000000000002\n"
     ]
    }
   ],
   "source": [
    "# Get scaled bounds\n",
    "lower_bound = scaled_df.min()\n",
    "upper_bound = scaled_df.max()\n",
    "print(lower_bound, upper_bound)"
   ]
  },
  {
   "cell_type": "code",
   "execution_count": 5,
   "id": "09071c90-db13-4bfb-aad3-03614c2c6795",
   "metadata": {
    "tags": []
   },
   "outputs": [
    {
     "name": "stdout",
     "output_type": "stream",
     "text": [
      "Original Targets:  [0. 1.] \n",
      "Desired Targets: [0,1]\n",
      "Is original the desired [0, 1]?  True\n"
     ]
    }
   ],
   "source": [
    "# Check if binary targets\n",
    "df_scaled = pd.DataFrame(scaled_df, columns=df.columns[:-1])\n",
    "targets = (utility.check_targets_0_1(df.values[:,-1])).astype(np.int32)\n",
    "df_scaled['target'] = targets"
   ]
  },
  {
   "cell_type": "code",
   "execution_count": 6,
   "id": "dc7555ab-630b-462c-b746-c378f4a1d73a",
   "metadata": {
    "colab": {
     "base_uri": "https://localhost:8080/"
    },
    "id": "dx90Sjfwh9cz",
    "outputId": "565c216c-c6e3-48bf-a20b-c64f577ab7f1",
    "tags": []
   },
   "outputs": [
    {
     "name": "stdout",
     "output_type": "stream",
     "text": [
      "Accuracy Linear: 0.8064516129032258\n"
     ]
    }
   ],
   "source": [
    "# Train model\n",
    "X_train, X_test, y_train, y_test = train_test_split(scaled_df, targets, test_size=0.3,random_state=50,stratify=targets)\n",
    "X = np.concatenate((X_train,X_test),axis=0)\n",
    "y = np.concatenate((y_train,y_test),axis=0)\n",
    "\n",
    "clf = svm.SVC(kernel='linear')\n",
    "\n",
    "# Train the model using the training set\n",
    "clf.fit(X_train, y_train)\n",
    "\n",
    "# Predict the response for test dataset\n",
    "y_pred = clf.predict(X_test)\n",
    "print(\"Accuracy Linear:\", metrics.accuracy_score(y_test, y_pred))"
   ]
  },
  {
   "cell_type": "code",
   "execution_count": 7,
   "id": "06f016f7-52e7-4bca-b99e-88f44f03eeb7",
   "metadata": {
    "tags": []
   },
   "outputs": [
    {
     "name": "stdout",
     "output_type": "stream",
     "text": [
      "Positive patterns = 73,\n",
      "Negative patterns = 20\n"
     ]
    }
   ],
   "source": [
    "# Finding patterns classified as positive/negative\n",
    "positive_indexes,negative_indexes = utility.find_indexes(clf, X_test, threshold=0)\n",
    "print(f\"Positive patterns = {len(positive_indexes)},\\nNegative patterns = {len(negative_indexes)}\")"
   ]
  },
  {
   "cell_type": "code",
   "execution_count": 8,
   "id": "94efa9e6-4ccd-450c-a8a7-96e6aa9745df",
   "metadata": {},
   "outputs": [],
   "source": [
    "# Make a dataframe with the test data. For comparing Onestep against Twostep.\n",
    "test_df_names = list(df.columns)\n",
    "if 'target' not in test_df_names:\n",
    "    test_df_names.append('target')\n",
    "test_dataset = []\n",
    "for instance, test_class in zip(X_test, y_test.astype('int32')):\n",
    "    test_dataset.append(np.append(instance, test_class))\n",
    "test_dataset_df = pd.DataFrame(np.asarray(test_dataset), columns=test_df_names)"
   ]
  },
  {
   "cell_type": "code",
   "execution_count": 9,
   "id": "dbe31998-2858-467e-9bdd-71d099d5ce55",
   "metadata": {},
   "outputs": [],
   "source": [
    "# Parameter p value\n",
    "p = 0.5"
   ]
  },
  {
   "cell_type": "code",
   "execution_count": 10,
   "id": "9357b3e1-e9b4-40db-9887-b146de253553",
   "metadata": {},
   "outputs": [
    {
     "data": {
      "text/plain": [
       "array([[0.19560185, 0.23526259, 0.30517272, 0.24467888, 0.64813421,\n",
       "        0.03144786]])"
      ]
     },
     "execution_count": 10,
     "metadata": {},
     "output_type": "execute_result"
    }
   ],
   "source": [
    "# Instance to be explained\n",
    "instance = X_test[negative_indexes[0:1]]\n",
    "instance"
   ]
  },
  {
   "cell_type": "code",
   "execution_count": 11,
   "id": "b7b23664-a35f-4546-ac90-f8b7d6b3b126",
   "metadata": {},
   "outputs": [
    {
     "data": {
      "text/plain": [
       "array([[ 46.43,   6.62,  48.1 ,  39.81, 130.35,   2.45]])"
      ]
     },
     "execution_count": 11,
     "metadata": {},
     "output_type": "execute_result"
    }
   ],
   "source": [
    "scaler.inverse_transform(np.atleast_2d(instance))"
   ]
  },
  {
   "cell_type": "code",
   "execution_count": null,
   "id": "4dac6c56-34bc-480d-b164-d16a7293e1a7",
   "metadata": {},
   "outputs": [],
   "source": []
  },
  {
   "cell_type": "code",
   "execution_count": 12,
   "id": "20a6cdc1-dc2b-4350-9cdf-ee969a2a4a2e",
   "metadata": {},
   "outputs": [],
   "source": [
    "#Onestep\n",
    "onestep_exp = docplex_explainer.onestep(\n",
    "        classifier = clf,\n",
    "        dual_coef = clf.dual_coef_,\n",
    "        support_vectors = clf.support_vectors_,\n",
    "        intercept = clf.intercept_,\n",
    "        lower_bound = lower_bound,\n",
    "        upper_bound = upper_bound,\n",
    "        data = (instance),\n",
    "        positive = False)"
   ]
  },
  {
   "cell_type": "code",
   "execution_count": 13,
   "id": "780f89c0-eff7-4130-9e0b-5f21989124c2",
   "metadata": {},
   "outputs": [
    {
     "data": {
      "text/plain": [
       "[[0.0, 0.4166936583818535],\n",
       " [0.0, 0.23526259378349412],\n",
       " [0.0, 0.30517272239126547],\n",
       " [0.0, 1.0000000000000002],\n",
       " [0.6481342079793527, 1.0000000000000002],\n",
       " [0.0, 0.031447858472998136]]"
      ]
     },
     "execution_count": 13,
     "metadata": {},
     "output_type": "execute_result"
    }
   ],
   "source": [
    "onestep_exp"
   ]
  },
  {
   "cell_type": "code",
   "execution_count": 14,
   "id": "37c89a4e-b65d-4e02-990e-b8a02419641d",
   "metadata": {},
   "outputs": [
    {
     "data": {
      "text/plain": [
       "array([[ 26.15,  -6.55,  14.  ,  13.37, 130.35, -11.06]])"
      ]
     },
     "execution_count": 14,
     "metadata": {},
     "output_type": "execute_result"
    }
   ],
   "source": [
    "#Onestep Lowerbound\n",
    "scaler.inverse_transform(np.atleast_2d([0,\n",
    "                                       0,\n",
    "                                       0,\n",
    "                                       0.0,\n",
    "                                       0.6481342079793527,\n",
    "                                       0]))"
   ]
  },
  {
   "cell_type": "code",
   "execution_count": 15,
   "id": "6a2384af-2a91-453c-9caf-7ddc03a72c13",
   "metadata": {},
   "outputs": [
    {
     "data": {
      "text/plain": [
       "array([[ 69.3527985,   6.62     ,  48.1      , 121.43     , 163.07     ,\n",
       "          2.45     ]])"
      ]
     },
     "execution_count": 15,
     "metadata": {},
     "output_type": "execute_result"
    }
   ],
   "source": [
    "#Onestep Upperbound\n",
    "scaler.inverse_transform(np.atleast_2d([0.4166936583818535,\n",
    "                                       0.23526259378349412,\n",
    "                                       0.30517272239126547,\n",
    "                                       1.0000000000000002,\n",
    "                                       1.0000000000000002,\n",
    "                                       0.031447858472998136]))"
   ]
  },
  {
   "cell_type": "code",
   "execution_count": 16,
   "id": "7a2b404c-1de2-44d3-882d-b35540203a69",
   "metadata": {},
   "outputs": [],
   "source": [
    "#Twostep\n",
    "twostep_exp = docplex_explainer.twostep(\n",
    "        classifier = clf,\n",
    "        dual_coef = clf.dual_coef_,\n",
    "        support_vectors = clf.support_vectors_,\n",
    "        intercept = clf.intercept_,\n",
    "        lower_bound = lower_bound,\n",
    "        upper_bound = upper_bound,\n",
    "        data = (instance),\n",
    "        p = p,\n",
    "        positive = False)"
   ]
  },
  {
   "cell_type": "code",
   "execution_count": 17,
   "id": "90f84278-6cbc-4694-9cfd-01d5126aa546",
   "metadata": {},
   "outputs": [
    {
     "data": {
      "text/plain": [
       "[[0.0, 0.3458420450855359],\n",
       " [0.0, 0.24798878079013423],\n",
       " [0.0, 0.3176440586350507],\n",
       " [0.0, 1.0000000000000002],\n",
       " [0.6481342079793527, 1.0000000000000002],\n",
       " [0.0, 0.031447858472998136]]"
      ]
     },
     "execution_count": 17,
     "metadata": {},
     "output_type": "execute_result"
    }
   ],
   "source": [
    "twostep_exp"
   ]
  },
  {
   "cell_type": "code",
   "execution_count": 18,
   "id": "6b5cdbdc-cd27-4de1-a5b9-0eb041d15002",
   "metadata": {},
   "outputs": [
    {
     "data": {
      "text/plain": [
       "array([[ 26.15,  -6.55,  14.  ,  13.37, 130.35, -11.06]])"
      ]
     },
     "execution_count": 18,
     "metadata": {},
     "output_type": "execute_result"
    }
   ],
   "source": [
    "#Twostep Lowerbound\n",
    "scaler.inverse_transform(np.atleast_2d([0,\n",
    "                                       0,\n",
    "                                       0,\n",
    "                                       0,\n",
    "                                       0.6481342079793527,\n",
    "                                       0]))"
   ]
  },
  {
   "cell_type": "code",
   "execution_count": 19,
   "id": "9aa5a27a-894b-49f3-824a-f7a283ac2836",
   "metadata": {},
   "outputs": [
    {
     "data": {
      "text/plain": [
       "array([[ 62.00690323,   7.33241195,  49.49354711, 121.43      ,\n",
       "        163.07      ,   2.45      ]])"
      ]
     },
     "execution_count": 19,
     "metadata": {},
     "output_type": "execute_result"
    }
   ],
   "source": [
    "#Twostep Upperbound\n",
    "scaler.inverse_transform(np.atleast_2d([0.3458420450855359,\n",
    "                                       0.24798878079013423,\n",
    "                                       0.3176440586350507,\n",
    "                                       1.0000000000000002,\n",
    "                                       1.0000000000000002,\n",
    "                                       0.031447858472998136]))"
   ]
  },
  {
   "cell_type": "code",
   "execution_count": null,
   "id": "b6eb20f2-b479-496d-8864-cc17c61d0dff",
   "metadata": {},
   "outputs": [],
   "source": []
  }
 ],
 "metadata": {
  "kernelspec": {
   "display_name": "Python 3 (ipykernel)",
   "language": "python",
   "name": "python3"
  },
  "language_info": {
   "codemirror_mode": {
    "name": "ipython",
    "version": 3
   },
   "file_extension": ".py",
   "mimetype": "text/x-python",
   "name": "python",
   "nbconvert_exporter": "python",
   "pygments_lexer": "ipython3",
   "version": "3.10.14"
  }
 },
 "nbformat": 4,
 "nbformat_minor": 5
}
