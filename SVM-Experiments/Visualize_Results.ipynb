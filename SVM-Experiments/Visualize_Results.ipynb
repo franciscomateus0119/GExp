{
 "cells": [
  {
   "cell_type": "code",
   "execution_count": 1,
   "id": "c2a87596-7f59-444a-8de7-d8deb1648a1c",
   "metadata": {},
   "outputs": [],
   "source": [
    "import pandas as pd\n",
    "import numpy as np"
   ]
  },
  {
   "cell_type": "code",
   "execution_count": 2,
   "id": "001ae3a0-1ef4-494c-a435-d9d9529b36fa",
   "metadata": {},
   "outputs": [],
   "source": [
    "results_list = ['Iris_results',\n",
    "                'Blood_Transfusion_results',\n",
    "                'Banknote_results',\n",
    "                'Modeling_results',\n",
    "                'Vertebral-Column_results',\n",
    "                'Pima_results',\n",
    "                'Glass_results',\n",
    "                'Wine_results',\n",
    "                'Climate_results',\n",
    "                'Parkinsons_results',\n",
    "                'Breast_Cancer_results',\n",
    "                'Ionosphere_results',\n",
    "                'Sonar_results']\n",
    "\n"
   ]
  },
  {
   "cell_type": "markdown",
   "id": "8f3f2d8e-e3d2-4fd3-af55-692c4f019cd4",
   "metadata": {},
   "source": [
    "### SVM"
   ]
  },
  {
   "cell_type": "markdown",
   "id": "cb72800a-94ca-442b-abe9-6cca95289400",
   "metadata": {},
   "source": [
    "#### 0.25"
   ]
  },
  {
   "cell_type": "code",
   "execution_count": 3,
   "id": "37da533f-2d8d-44dd-82f6-3b0d71efc254",
   "metadata": {},
   "outputs": [
    {
     "name": "stdout",
     "output_type": "stream",
     "text": [
      "30.41 $\\pm$ 19.51\n",
      "519.92 $\\pm$ 94.91\n",
      "36.03 $\\pm$ 36.37\n",
      "38.29 $\\pm$ 28.95\n",
      "27.51 $\\pm$ 22.43\n",
      "12.07 $\\pm$ 13.60\n",
      "24.66 $\\pm$ 22.73\n",
      "1.19 $\\pm$ 0.59\n",
      "1.01 $\\pm$ 0.10\n",
      "2.20 $\\pm$ 2.54\n",
      "1.04 $\\pm$ 0.28\n",
      "1.02 $\\pm$ 0.15\n",
      "1.00 $\\pm$ 0.00\n"
     ]
    },
    {
     "name": "stderr",
     "output_type": "stream",
     "text": [
      "<>:5: SyntaxWarning: invalid escape sequence '\\p'\n",
      "<>:5: SyntaxWarning: invalid escape sequence '\\p'\n",
      "C:\\Users\\Mateus\\AppData\\Local\\Temp\\ipykernel_22212\\144521468.py:5: SyntaxWarning: invalid escape sequence '\\p'\n",
      "  print(f\"{df['ONESTEP_MEAN'][3]:.2f} $\\pm$ {df['ONESTEP_STD'][3]:.2f}\")\n"
     ]
    }
   ],
   "source": [
    "for dataset in results_list:\n",
    "    path = dataset+ '/results_0.25.csv'\n",
    "    df = pd.read_csv(path)\n",
    "    #print(f\"{df['ONESTEP_MEAN'][3])[:5]} $\\pm$ {df['ONESTEP_STD'][3])[:5]}\")\n",
    "    print(f\"{df['ONESTEP_MEAN'][3]:.2f} $\\pm$ {df['ONESTEP_STD'][3]:.2f}\")"
   ]
  },
  {
   "cell_type": "code",
   "execution_count": 5,
   "id": "ba5cdd03-1cb1-48e6-9019-ba365b64394c",
   "metadata": {},
   "outputs": [
    {
     "name": "stdout",
     "output_type": "stream",
     "text": [
      "35.04 $\\pm$ 15.35\n",
      "520.85 $\\pm$ 90.60\n",
      "49.60 $\\pm$ 36.08\n",
      "37.81 $\\pm$ 27.69\n",
      "27.89 $\\pm$ 22.51\n",
      "15.52 $\\pm$ 15.19\n",
      "26.19 $\\pm$ 23.25\n",
      "1.22 $\\pm$ 0.64\n",
      "1.01 $\\pm$ 0.11\n",
      "2.21 $\\pm$ 2.47\n",
      "1.06 $\\pm$ 0.40\n",
      "1.02 $\\pm$ 0.15\n",
      "1.00 $\\pm$ 0.00\n"
     ]
    },
    {
     "name": "stderr",
     "output_type": "stream",
     "text": [
      "<>:5: SyntaxWarning: invalid escape sequence '\\p'\n",
      "<>:5: SyntaxWarning: invalid escape sequence '\\p'\n",
      "C:\\Users\\Mateus\\AppData\\Local\\Temp\\ipykernel_22212\\1503629983.py:5: SyntaxWarning: invalid escape sequence '\\p'\n",
      "  print(f\"{df['TWOSTEP_MEAN'][3]:.2f} $\\pm$ {df['TWOSTEP_STD'][3]:.2f}\")\n"
     ]
    }
   ],
   "source": [
    "for dataset in results_list:\n",
    "    path = dataset+ '/results_0.25.csv'\n",
    "    df = pd.read_csv(path)\n",
    "    #print(f\"{df['TWOSTEP_MEAN'][3])[:5]} $\\pm$ {df['TWOSTEP_STD'][3])[:5]}\")\n",
    "    print(f\"{df['TWOSTEP_MEAN'][3]:.2f} $\\pm$ {df['TWOSTEP_STD'][3]:.2f}\")"
   ]
  },
  {
   "cell_type": "code",
   "execution_count": 6,
   "id": "56df8a1a-c65d-49ae-8dc9-95558e6b84d4",
   "metadata": {},
   "outputs": [
    {
     "name": "stdout",
     "output_type": "stream",
     "text": [
      "15.25\n",
      "0.18\n",
      "37.65\n",
      "-1.28\n",
      "1.39\n",
      "28.59\n",
      "6.17\n",
      "2.50\n",
      "0.24\n",
      "0.31\n",
      "1.57\n",
      "0.00\n",
      "0.00\n"
     ]
    }
   ],
   "source": [
    "for dataset in results_list:\n",
    "    path = dataset+ '/results_0.25.csv'\n",
    "    df = pd.read_csv(path)\n",
    "    #print(f\"{df['MEAN_DIFF_%'][3])[:5]}\")\n",
    "    print(f\"{df['MEAN_DIFF_%'][3]:.2f}\")"
   ]
  },
  {
   "cell_type": "code",
   "execution_count": 7,
   "id": "1aec0cc3-178a-41c0-91e9-fb63872a819d",
   "metadata": {},
   "outputs": [
    {
     "ename": "SyntaxError",
     "evalue": "f-string: unmatched ')' (3142458501.py, line 5)",
     "output_type": "error",
     "traceback": [
      "\u001b[1;36m  Cell \u001b[1;32mIn[7], line 5\u001b[1;36m\u001b[0m\n\u001b[1;33m    print(f\"{df['POINTWISE_MEAN_%'][3])[:5]}\")\u001b[0m\n\u001b[1;37m                                      ^\u001b[0m\n\u001b[1;31mSyntaxError\u001b[0m\u001b[1;31m:\u001b[0m f-string: unmatched ')'\n"
     ]
    }
   ],
   "source": [
    "for dataset in results_list:\n",
    "    path = dataset+ '/results_0.25.csv'\n",
    "    df = pd.read_csv(path)\n",
    "    #print(f\"{df['POINTWISE_MEAN_%'][3])[:5]} $\\pm$ {df['POINTWISE_STD_%'][3])[:5]}\")\n",
    "    print(f\"{df['POINTWISE_MEAN_%'][3])[:5]}\")"
   ]
  },
  {
   "cell_type": "markdown",
   "id": "21a47469-1e27-49d0-8be6-2ebae98766d2",
   "metadata": {},
   "source": [
    "#### 0.50"
   ]
  },
  {
   "cell_type": "code",
   "execution_count": 8,
   "id": "715b63a4-7524-4e22-8133-31248ab0b070",
   "metadata": {},
   "outputs": [
    {
     "name": "stdout",
     "output_type": "stream",
     "text": [
      "35.56 $\\pm$ 14.62\n",
      "521.02 $\\pm$ 89.80\n",
      "51.00 $\\pm$ 36.77\n",
      "37.76 $\\pm$ 27.57\n",
      "27.83 $\\pm$ 22.71\n",
      "14.35 $\\pm$ 14.39\n",
      "26.45 $\\pm$ 23.36\n",
      "1.23 $\\pm$ 0.66\n",
      "1.01 $\\pm$ 0.11\n",
      "2.22 $\\pm$ 2.47\n",
      "1.06 $\\pm$ 0.40\n",
      "1.02 $\\pm$ 0.15\n",
      "1.00 $\\pm$ 0.00\n"
     ]
    },
    {
     "name": "stderr",
     "output_type": "stream",
     "text": [
      "<>:5: SyntaxWarning: invalid escape sequence '\\p'\n",
      "<>:5: SyntaxWarning: invalid escape sequence '\\p'\n",
      "C:\\Users\\Mateus\\AppData\\Local\\Temp\\ipykernel_22212\\1185082983.py:5: SyntaxWarning: invalid escape sequence '\\p'\n",
      "  print(f\"{df['TWOSTEP_MEAN'][3]:.2f} $\\pm$ {df['TWOSTEP_STD'][3]:.2f}\")\n"
     ]
    }
   ],
   "source": [
    "for dataset in results_list:\n",
    "    path = dataset+ '/results_0.5.csv'\n",
    "    df = pd.read_csv(path)\n",
    "    #print(f\"{df['TWOSTEP_MEAN'][3])[:5]} $\\pm$ {df['TWOSTEP_STD'][3])[:5]}\")\n",
    "    print(f\"{df['TWOSTEP_MEAN'][3]:.2f} $\\pm$ {df['TWOSTEP_STD'][3]:.2f}\")"
   ]
  },
  {
   "cell_type": "code",
   "execution_count": 9,
   "id": "319da047-b607-4d8e-b1ff-aa45d7c00d1c",
   "metadata": {
    "scrolled": true
   },
   "outputs": [
    {
     "name": "stdout",
     "output_type": "stream",
     "text": [
      "16.94\n",
      "0.21\n",
      "41.53\n",
      "-1.40\n",
      "1.19\n",
      "18.94\n",
      "7.23\n",
      "3.12\n",
      "0.24\n",
      "0.93\n",
      "1.57\n",
      "0.00\n",
      "0.00\n"
     ]
    }
   ],
   "source": [
    "for dataset in results_list:\n",
    "    path = dataset+ '/results_0.5.csv'\n",
    "    df = pd.read_csv(path)\n",
    "    #print(f\"{df['MEAN_DIFF_%'][3])[:5]}\")\n",
    "    print(f\"{df['MEAN_DIFF_%'][3]:.2f}\")"
   ]
  },
  {
   "cell_type": "code",
   "execution_count": 10,
   "id": "bd72d367-0487-462a-bf1b-d4ac439e71ae",
   "metadata": {},
   "outputs": [
    {
     "ename": "SyntaxError",
     "evalue": "f-string: unmatched ')' (4019901236.py, line 5)",
     "output_type": "error",
     "traceback": [
      "\u001b[1;36m  Cell \u001b[1;32mIn[10], line 5\u001b[1;36m\u001b[0m\n\u001b[1;33m    print(f\"{df['POINTWISE_MEAN_%'][3])[:5]}\")\u001b[0m\n\u001b[1;37m                                      ^\u001b[0m\n\u001b[1;31mSyntaxError\u001b[0m\u001b[1;31m:\u001b[0m f-string: unmatched ')'\n"
     ]
    }
   ],
   "source": [
    "for dataset in results_list:\n",
    "    path = dataset+ '/results_0.5.csv'\n",
    "    df = pd.read_csv(path)\n",
    "    #print(f\"{df['POINTWISE_MEAN_%'][3])[:5]} $\\pm$ {df['POINTWISE_STD_%'][3])[:5]}\")\n",
    "    print(f\"{df['POINTWISE_MEAN_%'][3])[:5]}\")"
   ]
  },
  {
   "cell_type": "markdown",
   "id": "de60ab52-d1c3-4051-aaff-c48ee11da147",
   "metadata": {},
   "source": [
    "#### 0.75"
   ]
  },
  {
   "cell_type": "code",
   "execution_count": 14,
   "id": "84dd8314-5811-4a87-8f08-24ec39df78e0",
   "metadata": {},
   "outputs": [
    {
     "name": "stdout",
     "output_type": "stream",
     "text": [
      "34.44 $\\pm$ 15.87\n",
      "520.89 $\\pm$ 90.41\n",
      "46.57 $\\pm$ 36.92\n",
      "38.10 $\\pm$ 28.12\n",
      "27.75 $\\pm$ 22.68\n",
      "13.02 $\\pm$ 13.93\n",
      "25.98 $\\pm$ 23.23\n",
      "1.22 $\\pm$ 0.62\n",
      "1.01 $\\pm$ 0.10\n",
      "2.20 $\\pm$ 2.50\n",
      "1.06 $\\pm$ 0.38\n",
      "1.02 $\\pm$ 0.15\n",
      "1.00 $\\pm$ 0.00\n"
     ]
    },
    {
     "name": "stderr",
     "output_type": "stream",
     "text": [
      "<>:5: SyntaxWarning: invalid escape sequence '\\p'\n",
      "<>:5: SyntaxWarning: invalid escape sequence '\\p'\n",
      "C:\\Users\\Mateus\\AppData\\Local\\Temp\\ipykernel_22212\\2698684084.py:5: SyntaxWarning: invalid escape sequence '\\p'\n",
      "  print(f\"{df['TWOSTEP_MEAN'][3]:.2f} $\\pm$ {df['TWOSTEP_STD'][3]:.2f}\")\n"
     ]
    }
   ],
   "source": [
    "for dataset in results_list:\n",
    "    path = dataset+ '/results_0.75.csv'\n",
    "    df = pd.read_csv(path)\n",
    "    #print(f\"{df['TWOSTEP_MEAN'][3])[:5]} $\\pm$ {df['TWOSTEP_STD'][3])[:5]}\")\n",
    "    print(f\"{df['TWOSTEP_MEAN'][3]:.2f} $\\pm$ {df['TWOSTEP_STD'][3]:.2f}\")"
   ]
  },
  {
   "cell_type": "code",
   "execution_count": 12,
   "id": "4f1647cf-878f-4597-8c74-baedefe17ebe",
   "metadata": {
    "scrolled": true
   },
   "outputs": [
    {
     "name": "stdout",
     "output_type": "stream",
     "text": [
      "13.27\n",
      "0.19\n",
      "29.24\n",
      "-0.50\n",
      "0.87\n",
      "7.94\n",
      "5.31\n",
      "1.88\n",
      "0.00\n",
      "0.00\n",
      "1.12\n",
      "0.00\n",
      "0.00\n"
     ]
    }
   ],
   "source": [
    "for dataset in results_list:\n",
    "    path = dataset+ '/results_0.75.csv'\n",
    "    df = pd.read_csv(path)\n",
    "    #print(f\"{df['MEAN_DIFF_%'][3])[:5]}\")\n",
    "    print(f\"{df['MEAN_DIFF_%'][3]:.2f}\")"
   ]
  },
  {
   "cell_type": "code",
   "execution_count": 13,
   "id": "8382de55-f3f3-40cc-b97e-9e04f5911c6a",
   "metadata": {},
   "outputs": [
    {
     "ename": "SyntaxError",
     "evalue": "f-string: unmatched ')' (2044502591.py, line 5)",
     "output_type": "error",
     "traceback": [
      "\u001b[1;36m  Cell \u001b[1;32mIn[13], line 5\u001b[1;36m\u001b[0m\n\u001b[1;33m    print(f\"{df['POINTWISE_MEAN_%'][3])[:5]}\")\u001b[0m\n\u001b[1;37m                                      ^\u001b[0m\n\u001b[1;31mSyntaxError\u001b[0m\u001b[1;31m:\u001b[0m f-string: unmatched ')'\n"
     ]
    }
   ],
   "source": [
    "for dataset in results_list:\n",
    "    path = dataset+ '/results_0.75.csv'\n",
    "    df = pd.read_csv(path)\n",
    "    #print(f\"{df['POINTWISE_MEAN_%'][3])[:5]} $\\pm$ {df['POINTWISE_STD_%'][3])[:5]}\")\n",
    "    print(f\"{df['POINTWISE_MEAN_%'][3])[:5]}\")"
   ]
  },
  {
   "cell_type": "code",
   "execution_count": null,
   "id": "6c421195-fe32-49be-bb2d-7874e48f6255",
   "metadata": {},
   "outputs": [],
   "source": []
  }
 ],
 "metadata": {
  "kernelspec": {
   "display_name": "Python 3 (ipykernel)",
   "language": "python",
   "name": "python3"
  },
  "language_info": {
   "codemirror_mode": {
    "name": "ipython",
    "version": 3
   },
   "file_extension": ".py",
   "mimetype": "text/x-python",
   "name": "python",
   "nbconvert_exporter": "python",
   "pygments_lexer": "ipython3",
   "version": "3.12.3"
  }
 },
 "nbformat": 4,
 "nbformat_minor": 5
}
