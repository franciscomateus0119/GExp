{
 "cells": [
  {
   "cell_type": "code",
   "execution_count": 1,
   "id": "c2a87596-7f59-444a-8de7-d8deb1648a1c",
   "metadata": {},
   "outputs": [],
   "source": [
    "import pandas as pd\n",
    "import numpy as np"
   ]
  },
  {
   "cell_type": "code",
   "execution_count": 2,
   "id": "001ae3a0-1ef4-494c-a435-d9d9529b36fa",
   "metadata": {},
   "outputs": [
    {
     "data": {
      "text/plain": [
       "\"['Iris_results',\\n                'Blood_Transfusion_results',\\n                'Banknote_results',\\n                'Modeling_results',\\n                'Vertebral-Column_results',\\n                'Pima_results',\\n                'Glass_results',\\n                'Wine_results',\\n                'Climate_results',\\n                'Parkinsons_results',\\n                'Breast_Cancer_results',\\n                'Ionosphere_results',]\""
      ]
     },
     "execution_count": 2,
     "metadata": {},
     "output_type": "execute_result"
    }
   ],
   "source": [
    "results_list = ['Sonar_results']\n",
    "\n",
    "'''['Iris_results',\n",
    "                'Blood_Transfusion_results',\n",
    "                'Banknote_results',\n",
    "                'Modeling_results',\n",
    "                'Vertebral-Column_results',\n",
    "                'Pima_results',\n",
    "                'Glass_results',\n",
    "                'Wine_results',\n",
    "                'Climate_results',\n",
    "                'Parkinsons_results',\n",
    "                'Breast_Cancer_results',\n",
    "                'Ionosphere_results',]'''\n",
    "\n"
   ]
  },
  {
   "cell_type": "markdown",
   "id": "8f3f2d8e-e3d2-4fd3-af55-692c4f019cd4",
   "metadata": {},
   "source": [
    "### SVM"
   ]
  },
  {
   "cell_type": "markdown",
   "id": "cb72800a-94ca-442b-abe9-6cca95289400",
   "metadata": {},
   "source": [
    "#### 0.25"
   ]
  },
  {
   "cell_type": "code",
   "execution_count": 3,
   "id": "37da533f-2d8d-44dd-82f6-3b0d71efc254",
   "metadata": {},
   "outputs": [
    {
     "name": "stdout",
     "output_type": "stream",
     "text": [
      "31.85 $\\pm$ 2.60\n"
     ]
    },
    {
     "name": "stderr",
     "output_type": "stream",
     "text": [
      "<>:5: SyntaxWarning: invalid escape sequence '\\p'\n",
      "<>:5: SyntaxWarning: invalid escape sequence '\\p'\n",
      "C:\\Users\\Mateus\\AppData\\Local\\Temp\\ipykernel_19952\\2272737227.py:5: SyntaxWarning: invalid escape sequence '\\p'\n",
      "  print(f\"{df['ONESTEP_MEAN'][2].round(2):.2f} $\\pm$ {df['ONESTEP_STD'][2].round(2):.2f}\")\n"
     ]
    }
   ],
   "source": [
    "for dataset in results_list:\n",
    "    path = dataset+ '/results_0.25.csv'\n",
    "    df = pd.read_csv(path)\n",
    "    #print(f\"{df['ONESTEP_MEAN'][2])[:5]} $\\pm$ {df['ONESTEP_STD'][2])[:5]}\")\n",
    "    print(f\"{df['ONESTEP_MEAN'][2].round(2):.2f} $\\pm$ {df['ONESTEP_STD'][2].round(2):.2f}\")"
   ]
  },
  {
   "cell_type": "code",
   "execution_count": 4,
   "id": "ba5cdd03-1cb1-48e6-9019-ba365b64394c",
   "metadata": {},
   "outputs": [
    {
     "name": "stdout",
     "output_type": "stream",
     "text": [
      "31.86 $\\pm$ 2.60\n"
     ]
    },
    {
     "name": "stderr",
     "output_type": "stream",
     "text": [
      "<>:5: SyntaxWarning: invalid escape sequence '\\p'\n",
      "<>:5: SyntaxWarning: invalid escape sequence '\\p'\n",
      "C:\\Users\\Mateus\\AppData\\Local\\Temp\\ipykernel_19952\\3822928003.py:5: SyntaxWarning: invalid escape sequence '\\p'\n",
      "  print(f\"{df['TWOSTEP_MEAN'][2].round(2):.2f} $\\pm$ {df['TWOSTEP_STD'][2].round(2):.2f}\")\n"
     ]
    }
   ],
   "source": [
    "for dataset in results_list:\n",
    "    path = dataset+ '/results_0.25.csv'\n",
    "    df = pd.read_csv(path)\n",
    "    #print(f\"{df['TWOSTEP_MEAN'][2])[:5]} $\\pm$ {df['TWOSTEP_STD'][2])[:5]}\")\n",
    "    print(f\"{df['TWOSTEP_MEAN'][2].round(2):.2f} $\\pm$ {df['TWOSTEP_STD'][2].round(2):.2f}\")"
   ]
  },
  {
   "cell_type": "code",
   "execution_count": 5,
   "id": "56df8a1a-c65d-49ae-8dc9-95558e6b84d4",
   "metadata": {},
   "outputs": [
    {
     "name": "stdout",
     "output_type": "stream",
     "text": [
      "0.03\n"
     ]
    }
   ],
   "source": [
    "for dataset in results_list:\n",
    "    path = dataset+ '/results_0.25.csv'\n",
    "    df = pd.read_csv(path)\n",
    "    #print(f\"{df['MEAN_DIFF_%'][2])[:5]}\")\n",
    "    mean_diff = (df['TWOSTEP_MEAN'][2].round(2) - df['ONESTEP_MEAN'][2].round(2))/df['ONESTEP_MEAN'][2].round(2) * 100\n",
    "    print(f\"{mean_diff:.2f}\")"
   ]
  },
  {
   "cell_type": "markdown",
   "id": "21a47469-1e27-49d0-8be6-2ebae98766d2",
   "metadata": {},
   "source": [
    "#### 0.50"
   ]
  },
  {
   "cell_type": "code",
   "execution_count": 6,
   "id": "cc53d49e-5cf7-474a-99ab-dea764503b6d",
   "metadata": {},
   "outputs": [
    {
     "name": "stdout",
     "output_type": "stream",
     "text": [
      "31.85 $\\pm$ 2.60\n"
     ]
    },
    {
     "name": "stderr",
     "output_type": "stream",
     "text": [
      "<>:5: SyntaxWarning: invalid escape sequence '\\p'\n",
      "<>:5: SyntaxWarning: invalid escape sequence '\\p'\n",
      "C:\\Users\\Mateus\\AppData\\Local\\Temp\\ipykernel_19952\\1663322949.py:5: SyntaxWarning: invalid escape sequence '\\p'\n",
      "  print(f\"{df['TWOSTEP_MEAN'][2].round(2):.2f} $\\pm$ {df['TWOSTEP_STD'][2].round(2):.2f}\")\n"
     ]
    }
   ],
   "source": [
    "for dataset in results_list:\n",
    "    path = dataset+ '/results_0.5.csv'\n",
    "    df = pd.read_csv(path)\n",
    "    #print(f\"{df['TWOSTEP_MEAN'][2])[:5]} $\\pm$ {df['TWOSTEP_STD'][2])[:5]}\")\n",
    "    print(f\"{df['TWOSTEP_MEAN'][2].round(2):.2f} $\\pm$ {df['TWOSTEP_STD'][2].round(2):.2f}\")"
   ]
  },
  {
   "cell_type": "code",
   "execution_count": 7,
   "id": "bd7a4b2c-a722-4d22-94e3-6f7d386692cd",
   "metadata": {},
   "outputs": [
    {
     "name": "stdout",
     "output_type": "stream",
     "text": [
      "0.00\n"
     ]
    }
   ],
   "source": [
    "for dataset in results_list:\n",
    "    path = dataset+ '/results_0.5.csv'\n",
    "    df = pd.read_csv(path)\n",
    "    #print(f\"{df['MEAN_DIFF_%'][2])[:5]}\")\n",
    "    mean_diff = (df['TWOSTEP_MEAN'][2].round(2) - df['ONESTEP_MEAN'][2].round(2))/df['ONESTEP_MEAN'][2].round(2) * 100\n",
    "    print(f\"{mean_diff:.2f}\")"
   ]
  },
  {
   "cell_type": "markdown",
   "id": "de60ab52-d1c3-4051-aaff-c48ee11da147",
   "metadata": {},
   "source": [
    "#### 0.75"
   ]
  },
  {
   "cell_type": "code",
   "execution_count": 8,
   "id": "308776a3-e4cd-4a0a-a80f-cbfdc858d48c",
   "metadata": {},
   "outputs": [
    {
     "name": "stdout",
     "output_type": "stream",
     "text": [
      "31.85 $\\pm$ 2.60\n"
     ]
    },
    {
     "name": "stderr",
     "output_type": "stream",
     "text": [
      "<>:5: SyntaxWarning: invalid escape sequence '\\p'\n",
      "<>:5: SyntaxWarning: invalid escape sequence '\\p'\n",
      "C:\\Users\\Mateus\\AppData\\Local\\Temp\\ipykernel_19952\\2021942841.py:5: SyntaxWarning: invalid escape sequence '\\p'\n",
      "  print(f\"{df['TWOSTEP_MEAN'][2].round(2):.2f} $\\pm$ {df['TWOSTEP_STD'][2].round(2):.2f}\")\n"
     ]
    }
   ],
   "source": [
    "for dataset in results_list:\n",
    "    path = dataset+ '/results_0.75.csv'\n",
    "    df = pd.read_csv(path)\n",
    "    #print(f\"{df['TWOSTEP_MEAN'][2])[:5]} $\\pm$ {df['TWOSTEP_STD'][2])[:5]}\")\n",
    "    print(f\"{df['TWOSTEP_MEAN'][2].round(2):.2f} $\\pm$ {df['TWOSTEP_STD'][2].round(2):.2f}\")"
   ]
  },
  {
   "cell_type": "code",
   "execution_count": 9,
   "id": "5f06af30-dd17-4c69-9926-86e47c5c2fb5",
   "metadata": {},
   "outputs": [
    {
     "name": "stdout",
     "output_type": "stream",
     "text": [
      "0.00\n"
     ]
    }
   ],
   "source": [
    "for dataset in results_list:\n",
    "    path = dataset+ '/results_0.75.csv'\n",
    "    df = pd.read_csv(path)\n",
    "    #print(f\"{df['MEAN_DIFF_%'][2])[:5]}\")\n",
    "    mean_diff = (df['TWOSTEP_MEAN'][2].round(2) - df['ONESTEP_MEAN'][2].round(2))/df['ONESTEP_MEAN'][2].round(2) * 100\n",
    "    print(f\"{mean_diff:.2f}\")"
   ]
  },
  {
   "cell_type": "code",
   "execution_count": null,
   "id": "6c421195-fe32-49be-bb2d-7874e48f6255",
   "metadata": {},
   "outputs": [],
   "source": []
  }
 ],
 "metadata": {
  "kernelspec": {
   "display_name": "Python 3 (ipykernel)",
   "language": "python",
   "name": "python3"
  },
  "language_info": {
   "codemirror_mode": {
    "name": "ipython",
    "version": 3
   },
   "file_extension": ".py",
   "mimetype": "text/x-python",
   "name": "python",
   "nbconvert_exporter": "python",
   "pygments_lexer": "ipython3",
   "version": "3.12.3"
  }
 },
 "nbformat": 4,
 "nbformat_minor": 5
}
