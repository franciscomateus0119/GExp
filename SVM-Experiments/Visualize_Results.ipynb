{
 "cells": [
  {
   "cell_type": "code",
   "execution_count": 1,
   "id": "c2a87596-7f59-444a-8de7-d8deb1648a1c",
   "metadata": {},
   "outputs": [],
   "source": [
    "import pandas as pd\n",
    "import numpy as np"
   ]
  },
  {
   "cell_type": "code",
   "execution_count": 2,
   "id": "001ae3a0-1ef4-494c-a435-d9d9529b36fa",
   "metadata": {},
   "outputs": [],
   "source": [
    "results_list = ['Iris_results',\n",
    "                'Blood_Transfusion-SVM_results',\n",
    "                'Vertebral-Column-SVM_results',\n",
    "                'Pima-SVM_results',\n",
    "                'Wine_results',\n",
    "                'Parkinsons-SVM_results',\n",
    "                'Breast_Cancer_results',\n",
    "                'Ionosphere-SVM_results']"
   ]
  },
  {
   "cell_type": "markdown",
   "id": "8f3f2d8e-e3d2-4fd3-af55-692c4f019cd4",
   "metadata": {},
   "source": [
    "### SVM"
   ]
  },
  {
   "cell_type": "markdown",
   "id": "cb72800a-94ca-442b-abe9-6cca95289400",
   "metadata": {},
   "source": [
    "#### 0.25"
   ]
  },
  {
   "cell_type": "code",
   "execution_count": 3,
   "id": "37da533f-2d8d-44dd-82f6-3b0d71efc254",
   "metadata": {},
   "outputs": [
    {
     "name": "stdout",
     "output_type": "stream",
     "text": [
      "30.40 $\\pm$ 19.50\n",
      "519.9 $\\pm$ 94.91\n",
      "27.50 $\\pm$ 22.42\n",
      "12.06 $\\pm$ 13.59\n",
      "1.194 $\\pm$ 0.591\n",
      "2.204 $\\pm$ 2.541\n",
      "1.044 $\\pm$ 0.282\n",
      "1.015 $\\pm$ 0.149\n"
     ]
    },
    {
     "name": "stderr",
     "output_type": "stream",
     "text": [
      "<>:4: SyntaxWarning: invalid escape sequence '\\p'\n",
      "<>:4: SyntaxWarning: invalid escape sequence '\\p'\n",
      "C:\\Users\\Mateus\\AppData\\Local\\Temp\\ipykernel_22664\\2395484124.py:4: SyntaxWarning: invalid escape sequence '\\p'\n",
      "  print(f\"{str(df['ONESTEP_MEAN'][3])[:5]} $\\pm$ {str(df['ONESTEP_STD'][3])[:5]}\")\n"
     ]
    }
   ],
   "source": [
    "for dataset in results_list:\n",
    "    path = dataset+ '/results_0.25.csv'\n",
    "    df = pd.read_csv(path)\n",
    "    print(f\"{str(df['ONESTEP_MEAN'][3])[:5]} $\\pm$ {str(df['ONESTEP_STD'][3])[:5]}\")"
   ]
  },
  {
   "cell_type": "code",
   "execution_count": 4,
   "id": "ba5cdd03-1cb1-48e6-9019-ba365b64394c",
   "metadata": {},
   "outputs": [
    {
     "name": "stdout",
     "output_type": "stream",
     "text": [
      "35.04 $\\pm$ 15.35\n",
      "520.8 $\\pm$ 90.59\n",
      "27.88 $\\pm$ 22.51\n",
      "15.51 $\\pm$ 15.18\n",
      "1.223 $\\pm$ 0.642\n",
      "2.210 $\\pm$ 2.469\n",
      "1.060 $\\pm$ 0.400\n",
      "1.015 $\\pm$ 0.149\n"
     ]
    },
    {
     "name": "stderr",
     "output_type": "stream",
     "text": [
      "<>:4: SyntaxWarning: invalid escape sequence '\\p'\n",
      "<>:4: SyntaxWarning: invalid escape sequence '\\p'\n",
      "C:\\Users\\Mateus\\AppData\\Local\\Temp\\ipykernel_22664\\3827209369.py:4: SyntaxWarning: invalid escape sequence '\\p'\n",
      "  print(f\"{str(df['TWOSTEP_MEAN'][3])[:5]} $\\pm$ {str(df['TWOSTEP_STD'][3])[:5]}\")\n"
     ]
    }
   ],
   "source": [
    "for dataset in results_list:\n",
    "    path = dataset+ '/results_0.25.csv'\n",
    "    df = pd.read_csv(path)\n",
    "    print(f\"{str(df['TWOSTEP_MEAN'][3])[:5]} $\\pm$ {str(df['TWOSTEP_STD'][3])[:5]}\")"
   ]
  },
  {
   "cell_type": "code",
   "execution_count": 5,
   "id": "56df8a1a-c65d-49ae-8dc9-95558e6b84d4",
   "metadata": {
    "scrolled": true
   },
   "outputs": [
    {
     "name": "stdout",
     "output_type": "stream",
     "text": [
      "15.25\n",
      "0.178\n",
      "1.388\n",
      "28.58\n",
      "2.500\n",
      "0.308\n",
      "1.569\n",
      "0.0\n"
     ]
    }
   ],
   "source": [
    "for dataset in results_list:\n",
    "    path = dataset+ '/results_0.25.csv'\n",
    "    df = pd.read_csv(path)\n",
    "    print(f\"{str(df['MEAN_DIFF_%'][3])[:5]}\")"
   ]
  },
  {
   "cell_type": "code",
   "execution_count": 6,
   "id": "1aec0cc3-178a-41c0-91e9-fb63872a819d",
   "metadata": {},
   "outputs": [
    {
     "name": "stdout",
     "output_type": "stream",
     "text": [
      "86.91\n",
      "2.338\n",
      "12.30\n",
      "59.21\n",
      "2.238\n",
      "2.973\n",
      "0.839\n",
      "0.0\n"
     ]
    }
   ],
   "source": [
    "for dataset in results_list:\n",
    "    path = dataset+ '/results_0.25.csv'\n",
    "    df = pd.read_csv(path)\n",
    "    #print(f\"{str(df['POINTWISE_MEAN_%'][3])[:5]} $\\pm$ {str(df['POINTWISE_STD_%'][3])[:5]}\")\n",
    "    print(f\"{str(df['POINTWISE_MEAN_%'][3])[:5]}\")"
   ]
  },
  {
   "cell_type": "markdown",
   "id": "21a47469-1e27-49d0-8be6-2ebae98766d2",
   "metadata": {},
   "source": [
    "#### 0.50"
   ]
  },
  {
   "cell_type": "code",
   "execution_count": 7,
   "id": "715b63a4-7524-4e22-8133-31248ab0b070",
   "metadata": {},
   "outputs": [
    {
     "name": "stdout",
     "output_type": "stream",
     "text": [
      "35.55 $\\pm$ 14.62\n",
      "521.0 $\\pm$ 89.80\n",
      "27.83 $\\pm$ 22.70\n",
      "14.35 $\\pm$ 14.39\n",
      "1.231 $\\pm$ 0.656\n",
      "2.224 $\\pm$ 2.471\n",
      "1.060 $\\pm$ 0.400\n",
      "1.015 $\\pm$ 0.149\n"
     ]
    },
    {
     "name": "stderr",
     "output_type": "stream",
     "text": [
      "<>:4: SyntaxWarning: invalid escape sequence '\\p'\n",
      "<>:4: SyntaxWarning: invalid escape sequence '\\p'\n",
      "C:\\Users\\Mateus\\AppData\\Local\\Temp\\ipykernel_22664\\3470846169.py:4: SyntaxWarning: invalid escape sequence '\\p'\n",
      "  print(f\"{str(df['TWOSTEP_MEAN'][3])[:5]} $\\pm$ {str(df['TWOSTEP_STD'][3])[:5]}\")\n"
     ]
    }
   ],
   "source": [
    "for dataset in results_list:\n",
    "    path = dataset+ '/results_0.5.csv'\n",
    "    df = pd.read_csv(path)\n",
    "    print(f\"{str(df['TWOSTEP_MEAN'][3])[:5]} $\\pm$ {str(df['TWOSTEP_STD'][3])[:5]}\")"
   ]
  },
  {
   "cell_type": "code",
   "execution_count": 8,
   "id": "319da047-b607-4d8e-b1ff-aa45d7c00d1c",
   "metadata": {
    "scrolled": true
   },
   "outputs": [
    {
     "name": "stdout",
     "output_type": "stream",
     "text": [
      "16.93\n",
      "0.212\n",
      "1.185\n",
      "18.93\n",
      "3.125\n",
      "0.925\n",
      "1.569\n",
      "0.0\n"
     ]
    }
   ],
   "source": [
    "for dataset in results_list:\n",
    "    path = dataset+ '/results_0.5.csv'\n",
    "    df = pd.read_csv(path)\n",
    "    print(f\"{str(df['MEAN_DIFF_%'][3])[:5]}\")"
   ]
  },
  {
   "cell_type": "code",
   "execution_count": 9,
   "id": "bd72d367-0487-462a-bf1b-d4ac439e71ae",
   "metadata": {},
   "outputs": [
    {
     "name": "stdout",
     "output_type": "stream",
     "text": [
      "106.8\n",
      "2.938\n",
      "7.586\n",
      "39.22\n",
      "2.611\n",
      "4.357\n",
      "0.839\n",
      "0.0\n"
     ]
    }
   ],
   "source": [
    "for dataset in results_list:\n",
    "    path = dataset+ '/results_0.5.csv'\n",
    "    df = pd.read_csv(path)\n",
    "    #print(f\"{str(df['POINTWISE_MEAN_%'][3])[:5]} $\\pm$ {str(df['POINTWISE_STD_%'][3])[:5]}\")\n",
    "    print(f\"{str(df['POINTWISE_MEAN_%'][3])[:5]}\")"
   ]
  },
  {
   "cell_type": "markdown",
   "id": "de60ab52-d1c3-4051-aaff-c48ee11da147",
   "metadata": {},
   "source": [
    "#### 0.75"
   ]
  },
  {
   "cell_type": "code",
   "execution_count": 10,
   "id": "84dd8314-5811-4a87-8f08-24ec39df78e0",
   "metadata": {},
   "outputs": [
    {
     "name": "stdout",
     "output_type": "stream",
     "text": [
      "34.44 $\\pm$ 15.87\n",
      "520.8 $\\pm$ 90.41\n",
      "27.74 $\\pm$ 22.68\n",
      "13.02 $\\pm$ 13.93\n",
      "1.216 $\\pm$ 0.615\n",
      "2.204 $\\pm$ 2.498\n",
      "1.056 $\\pm$ 0.376\n",
      "1.015 $\\pm$ 0.149\n"
     ]
    },
    {
     "name": "stderr",
     "output_type": "stream",
     "text": [
      "<>:4: SyntaxWarning: invalid escape sequence '\\p'\n",
      "<>:4: SyntaxWarning: invalid escape sequence '\\p'\n",
      "C:\\Users\\Mateus\\AppData\\Local\\Temp\\ipykernel_22664\\2697531321.py:4: SyntaxWarning: invalid escape sequence '\\p'\n",
      "  print(f\"{str(df['TWOSTEP_MEAN'][3])[:5]} $\\pm$ {str(df['TWOSTEP_STD'][3])[:5]}\")\n"
     ]
    }
   ],
   "source": [
    "for dataset in results_list:\n",
    "    path = dataset+ '/results_0.75.csv'\n",
    "    df = pd.read_csv(path)\n",
    "    print(f\"{str(df['TWOSTEP_MEAN'][3])[:5]} $\\pm$ {str(df['TWOSTEP_STD'][3])[:5]}\")"
   ]
  },
  {
   "cell_type": "code",
   "execution_count": 11,
   "id": "4f1647cf-878f-4597-8c74-baedefe17ebe",
   "metadata": {
    "scrolled": true
   },
   "outputs": [
    {
     "name": "stdout",
     "output_type": "stream",
     "text": [
      "13.27\n",
      "0.185\n",
      "0.873\n",
      "7.942\n",
      "1.875\n",
      "0.0\n",
      "1.121\n",
      "0.0\n"
     ]
    }
   ],
   "source": [
    "for dataset in results_list:\n",
    "    path = dataset+ '/results_0.75.csv'\n",
    "    df = pd.read_csv(path)\n",
    "    print(f\"{str(df['MEAN_DIFF_%'][3])[:5]}\")"
   ]
  },
  {
   "cell_type": "code",
   "execution_count": 12,
   "id": "8382de55-f3f3-40cc-b97e-9e04f5911c6a",
   "metadata": {},
   "outputs": [
    {
     "name": "stdout",
     "output_type": "stream",
     "text": [
      "65.82\n",
      "2.431\n",
      "3.100\n",
      "14.24\n",
      "1.865\n",
      "1.206\n",
      "0.487\n",
      "0.0\n"
     ]
    }
   ],
   "source": [
    "for dataset in results_list:\n",
    "    path = dataset+ '/results_0.75.csv'\n",
    "    df = pd.read_csv(path)\n",
    "    #print(f\"{str(df['POINTWISE_MEAN_%'][3])[:5]} $\\pm$ {str(df['POINTWISE_STD_%'][3])[:5]}\")\n",
    "    print(f\"{str(df['POINTWISE_MEAN_%'][3])[:5]}\")"
   ]
  }
 ],
 "metadata": {
  "kernelspec": {
   "display_name": "Python 3 (ipykernel)",
   "language": "python",
   "name": "python3"
  },
  "language_info": {
   "codemirror_mode": {
    "name": "ipython",
    "version": 3
   },
   "file_extension": ".py",
   "mimetype": "text/x-python",
   "name": "python",
   "nbconvert_exporter": "python",
   "pygments_lexer": "ipython3",
   "version": "3.12.3"
  }
 },
 "nbformat": 4,
 "nbformat_minor": 5
}
