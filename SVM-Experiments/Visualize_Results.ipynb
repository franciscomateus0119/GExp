{
 "cells": [
  {
   "cell_type": "code",
   "execution_count": 1,
   "id": "c2a87596-7f59-444a-8de7-d8deb1648a1c",
   "metadata": {},
   "outputs": [],
   "source": [
    "import pandas as pd\n",
    "import numpy as np"
   ]
  },
  {
   "cell_type": "code",
   "execution_count": 2,
   "id": "001ae3a0-1ef4-494c-a435-d9d9529b36fa",
   "metadata": {},
   "outputs": [],
   "source": [
    "results_list = ['Iris_results',\n",
    "                'Blood_Transfusion_results',\n",
    "                'Banknote_results',\n",
    "                'Modeling_results',\n",
    "                'Vertebral-Column_results',\n",
    "                'Pima_results',\n",
    "                'Glass_results',\n",
    "                'Wine_results',\n",
    "                'Climate_results',\n",
    "                'Parkinsons_results',\n",
    "                'Breast_Cancer_results',\n",
    "                'Ionosphere_results',]\n",
    "\n"
   ]
  },
  {
   "cell_type": "markdown",
   "id": "8f3f2d8e-e3d2-4fd3-af55-692c4f019cd4",
   "metadata": {},
   "source": [
    "### SVM"
   ]
  },
  {
   "cell_type": "markdown",
   "id": "cb72800a-94ca-442b-abe9-6cca95289400",
   "metadata": {},
   "source": [
    "#### 0.25"
   ]
  },
  {
   "cell_type": "code",
   "execution_count": 3,
   "id": "37da533f-2d8d-44dd-82f6-3b0d71efc254",
   "metadata": {},
   "outputs": [
    {
     "name": "stdout",
     "output_type": "stream",
     "text": [
      "0.017 $\\pm$ 0.003\n",
      "0.014 $\\pm$ 0.004\n",
      "0.017 $\\pm$ 0.004\n",
      "0.018 $\\pm$ 0.005\n",
      "0.021 $\\pm$ 0.005\n",
      "0.026 $\\pm$ 0.005\n",
      "0.025 $\\pm$ 0.004\n",
      "0.037 $\\pm$ 0.005\n",
      "0.050 $\\pm$ 0.007\n",
      "0.052 $\\pm$ 0.011\n",
      "0.087 $\\pm$ 0.008\n",
      "0.099 $\\pm$ 0.012\n"
     ]
    },
    {
     "name": "stderr",
     "output_type": "stream",
     "text": [
      "<>:5: SyntaxWarning: invalid escape sequence '\\p'\n",
      "<>:5: SyntaxWarning: invalid escape sequence '\\p'\n",
      "C:\\Users\\Mateus\\AppData\\Local\\Temp\\ipykernel_23360\\688525064.py:5: SyntaxWarning: invalid escape sequence '\\p'\n",
      "  print(f\"{df['ONESTEP_MEAN'][0]:.3f} $\\pm$ {df['ONESTEP_STD'][0]:.3f}\")\n"
     ]
    }
   ],
   "source": [
    "for dataset in results_list:\n",
    "    path = dataset+ '/results_0.25.csv'\n",
    "    df = pd.read_csv(path)\n",
    "    #print(f\"{df['ONESTEP_MEAN'][0])[:5]} $\\pm$ {df['ONESTEP_STD'][0])[:5]}\")\n",
    "    print(f\"{df['ONESTEP_MEAN'][0]:.3f} $\\pm$ {df['ONESTEP_STD'][0]:.3f}\")"
   ]
  },
  {
   "cell_type": "code",
   "execution_count": 4,
   "id": "ba5cdd03-1cb1-48e6-9019-ba365b64394c",
   "metadata": {},
   "outputs": [
    {
     "name": "stdout",
     "output_type": "stream",
     "text": [
      "0.022 $\\pm$ 0.004\n",
      "0.015 $\\pm$ 0.004\n",
      "0.023 $\\pm$ 0.004\n",
      "0.023 $\\pm$ 0.006\n",
      "0.028 $\\pm$ 0.007\n",
      "0.036 $\\pm$ 0.006\n",
      "0.034 $\\pm$ 0.007\n",
      "0.053 $\\pm$ 0.009\n",
      "0.072 $\\pm$ 0.011\n",
      "0.072 $\\pm$ 0.019\n",
      "0.136 $\\pm$ 0.016\n",
      "0.149 $\\pm$ 0.019\n"
     ]
    },
    {
     "name": "stderr",
     "output_type": "stream",
     "text": [
      "<>:5: SyntaxWarning: invalid escape sequence '\\p'\n",
      "<>:5: SyntaxWarning: invalid escape sequence '\\p'\n",
      "C:\\Users\\Mateus\\AppData\\Local\\Temp\\ipykernel_23360\\357774129.py:5: SyntaxWarning: invalid escape sequence '\\p'\n",
      "  print(f\"{df['TWOSTEP_MEAN'][0]:.3f} $\\pm$ {df['TWOSTEP_STD'][0]:.3f}\")\n"
     ]
    }
   ],
   "source": [
    "for dataset in results_list:\n",
    "    path = dataset+ '/results_0.25.csv'\n",
    "    df = pd.read_csv(path)\n",
    "    #print(f\"{df['TWOSTEP_MEAN'][0])[:5]} $\\pm$ {df['TWOSTEP_STD'][0])[:5]}\")\n",
    "    print(f\"{df['TWOSTEP_MEAN'][0]:.3f} $\\pm$ {df['TWOSTEP_STD'][0]:.3f}\")"
   ]
  },
  {
   "cell_type": "code",
   "execution_count": 5,
   "id": "56df8a1a-c65d-49ae-8dc9-95558e6b84d4",
   "metadata": {},
   "outputs": [
    {
     "name": "stdout",
     "output_type": "stream",
     "text": [
      "30.173\n",
      "13.848\n",
      "31.084\n",
      "29.070\n",
      "33.380\n",
      "40.128\n",
      "36.161\n",
      "43.727\n",
      "43.191\n",
      "39.516\n",
      "56.407\n",
      "50.546\n"
     ]
    }
   ],
   "source": [
    "for dataset in results_list:\n",
    "    path = dataset+ '/results_0.25.csv'\n",
    "    df = pd.read_csv(path)\n",
    "    #print(f\"{df['MEAN_DIFF_%'][0])[:5]}\")\n",
    "    print(f\"{df['MEAN_DIFF_%'][0]:.3f}\")"
   ]
  },
  {
   "cell_type": "code",
   "execution_count": 6,
   "id": "1aec0cc3-178a-41c0-91e9-fb63872a819d",
   "metadata": {},
   "outputs": [],
   "source": [
    "for dataset in results_list:\n",
    "    path = dataset+ '/results_0.25.csv'\n",
    "    df = pd.read_csv(path)\n",
    "    #print(f\"{df['POINTWISE_MEAN_%'][0])[:5]} $\\pm$ {df['POINTWISE_STD_%'][0])[:5]}\")\n",
    "    #print(f\"{df['POINTWISE_MEAN_%'][0])[:5]}\")"
   ]
  },
  {
   "cell_type": "markdown",
   "id": "21a47469-1e27-49d0-8be6-2ebae98766d2",
   "metadata": {},
   "source": [
    "#### 0.50"
   ]
  },
  {
   "cell_type": "code",
   "execution_count": 7,
   "id": "715b63a4-7524-4e22-8133-31248ab0b070",
   "metadata": {},
   "outputs": [
    {
     "name": "stdout",
     "output_type": "stream",
     "text": [
      "0.022 $\\pm$ 0.004\n",
      "0.015 $\\pm$ 0.003\n",
      "0.023 $\\pm$ 0.004\n",
      "0.023 $\\pm$ 0.006\n",
      "0.028 $\\pm$ 0.007\n",
      "0.036 $\\pm$ 0.007\n",
      "0.033 $\\pm$ 0.006\n",
      "0.054 $\\pm$ 0.010\n",
      "0.074 $\\pm$ 0.011\n",
      "0.074 $\\pm$ 0.020\n",
      "0.133 $\\pm$ 0.014\n",
      "0.148 $\\pm$ 0.019\n"
     ]
    },
    {
     "name": "stderr",
     "output_type": "stream",
     "text": [
      "<>:5: SyntaxWarning: invalid escape sequence '\\p'\n",
      "<>:5: SyntaxWarning: invalid escape sequence '\\p'\n",
      "C:\\Users\\Mateus\\AppData\\Local\\Temp\\ipykernel_23360\\2834054873.py:5: SyntaxWarning: invalid escape sequence '\\p'\n",
      "  print(f\"{df['TWOSTEP_MEAN'][0]:.3f} $\\pm$ {df['TWOSTEP_STD'][0]:.3f}\")\n"
     ]
    }
   ],
   "source": [
    "for dataset in results_list:\n",
    "    path = dataset+ '/results_0.5.csv'\n",
    "    df = pd.read_csv(path)\n",
    "    #print(f\"{df['TWOSTEP_MEAN'][0])[:5]} $\\pm$ {df['TWOSTEP_STD'][0])[:5]}\")\n",
    "    print(f\"{df['TWOSTEP_MEAN'][0]:.3f} $\\pm$ {df['TWOSTEP_STD'][0]:.3f}\")"
   ]
  },
  {
   "cell_type": "code",
   "execution_count": 8,
   "id": "319da047-b607-4d8e-b1ff-aa45d7c00d1c",
   "metadata": {
    "scrolled": true
   },
   "outputs": [
    {
     "name": "stdout",
     "output_type": "stream",
     "text": [
      "32.831\n",
      "13.512\n",
      "29.916\n",
      "28.235\n",
      "32.526\n",
      "37.066\n",
      "31.517\n",
      "43.150\n",
      "45.529\n",
      "40.456\n",
      "55.189\n",
      "53.474\n"
     ]
    }
   ],
   "source": [
    "for dataset in results_list:\n",
    "    path = dataset+ '/results_0.5.csv'\n",
    "    df = pd.read_csv(path)\n",
    "    #print(f\"{df['MEAN_DIFF_%'][0])[:5]}\")\n",
    "    print(f\"{df['MEAN_DIFF_%'][0]:.3f}\")"
   ]
  },
  {
   "cell_type": "code",
   "execution_count": 9,
   "id": "bd72d367-0487-462a-bf1b-d4ac439e71ae",
   "metadata": {},
   "outputs": [],
   "source": [
    "for dataset in results_list:\n",
    "    path = dataset+ '/results_0.5.csv'\n",
    "    df = pd.read_csv(path)\n",
    "    #print(f\"{df['POINTWISE_MEAN_%'][0])[:5]} $\\pm$ {df['POINTWISE_STD_%'][0])[:5]}\")\n",
    "    #print(f\"{df['POINTWISE_MEAN_%'][0])[:5]}\")"
   ]
  },
  {
   "cell_type": "markdown",
   "id": "de60ab52-d1c3-4051-aaff-c48ee11da147",
   "metadata": {},
   "source": [
    "#### 0.75"
   ]
  },
  {
   "cell_type": "code",
   "execution_count": 10,
   "id": "84dd8314-5811-4a87-8f08-24ec39df78e0",
   "metadata": {},
   "outputs": [
    {
     "name": "stdout",
     "output_type": "stream",
     "text": [
      "0.022 $\\pm$ 0.004\n",
      "0.015 $\\pm$ 0.004\n",
      "0.023 $\\pm$ 0.004\n",
      "0.023 $\\pm$ 0.006\n",
      "0.028 $\\pm$ 0.007\n",
      "0.037 $\\pm$ 0.007\n",
      "0.033 $\\pm$ 0.005\n",
      "0.052 $\\pm$ 0.009\n",
      "0.072 $\\pm$ 0.011\n",
      "0.073 $\\pm$ 0.020\n",
      "0.134 $\\pm$ 0.014\n",
      "0.148 $\\pm$ 0.019\n"
     ]
    },
    {
     "name": "stderr",
     "output_type": "stream",
     "text": [
      "<>:5: SyntaxWarning: invalid escape sequence '\\p'\n",
      "<>:5: SyntaxWarning: invalid escape sequence '\\p'\n",
      "C:\\Users\\Mateus\\AppData\\Local\\Temp\\ipykernel_23360\\707983074.py:5: SyntaxWarning: invalid escape sequence '\\p'\n",
      "  print(f\"{df['TWOSTEP_MEAN'][0]:.3f} $\\pm$ {df['TWOSTEP_STD'][0]:.3f}\")\n"
     ]
    }
   ],
   "source": [
    "for dataset in results_list:\n",
    "    path = dataset+ '/results_0.75.csv'\n",
    "    df = pd.read_csv(path)\n",
    "    #print(f\"{df['TWOSTEP_MEAN'][0])[:5]} $\\pm$ {df['TWOSTEP_STD'][0])[:5]}\")\n",
    "    print(f\"{df['TWOSTEP_MEAN'][0]:.3f} $\\pm$ {df['TWOSTEP_STD'][0]:.3f}\")"
   ]
  },
  {
   "cell_type": "code",
   "execution_count": 11,
   "id": "4f1647cf-878f-4597-8c74-baedefe17ebe",
   "metadata": {
    "scrolled": true
   },
   "outputs": [
    {
     "name": "stdout",
     "output_type": "stream",
     "text": [
      "32.205\n",
      "13.299\n",
      "31.077\n",
      "28.512\n",
      "35.661\n",
      "38.771\n",
      "31.057\n",
      "41.213\n",
      "44.656\n",
      "40.028\n",
      "53.148\n",
      "53.155\n"
     ]
    }
   ],
   "source": [
    "for dataset in results_list:\n",
    "    path = dataset+ '/results_0.75.csv'\n",
    "    df = pd.read_csv(path)\n",
    "    #print(f\"{df['MEAN_DIFF_%'][0])[:5]}\")\n",
    "    print(f\"{df['MEAN_DIFF_%'][0]:.3f}\")"
   ]
  },
  {
   "cell_type": "code",
   "execution_count": 12,
   "id": "8382de55-f3f3-40cc-b97e-9e04f5911c6a",
   "metadata": {},
   "outputs": [
    {
     "ename": "SyntaxError",
     "evalue": "f-string: unmatched ')' (3808030704.py, line 5)",
     "output_type": "error",
     "traceback": [
      "\u001b[1;36m  Cell \u001b[1;32mIn[12], line 5\u001b[1;36m\u001b[0m\n\u001b[1;33m    print(f\"{df['POINTWISE_MEAN_%'][0])[:5]}\")\u001b[0m\n\u001b[1;37m                                      ^\u001b[0m\n\u001b[1;31mSyntaxError\u001b[0m\u001b[1;31m:\u001b[0m f-string: unmatched ')'\n"
     ]
    }
   ],
   "source": [
    "for dataset in results_list:\n",
    "    path = dataset+ '/results_0.75.csv'\n",
    "    df = pd.read_csv(path)\n",
    "    #print(f\"{df['POINTWISE_MEAN_%'][0])[:5]} $\\pm$ {df['POINTWISE_STD_%'][0])[:5]}\")\n",
    "    print(f\"{df['POINTWISE_MEAN_%'][0])[:5]}\")"
   ]
  },
  {
   "cell_type": "code",
   "execution_count": null,
   "id": "6c421195-fe32-49be-bb2d-7874e48f6255",
   "metadata": {},
   "outputs": [],
   "source": []
  }
 ],
 "metadata": {
  "kernelspec": {
   "display_name": "Python 3 (ipykernel)",
   "language": "python",
   "name": "python3"
  },
  "language_info": {
   "codemirror_mode": {
    "name": "ipython",
    "version": 3
   },
   "file_extension": ".py",
   "mimetype": "text/x-python",
   "name": "python",
   "nbconvert_exporter": "python",
   "pygments_lexer": "ipython3",
   "version": "3.12.3"
  }
 },
 "nbformat": 4,
 "nbformat_minor": 5
}
