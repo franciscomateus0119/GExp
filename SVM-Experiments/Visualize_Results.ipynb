{
 "cells": [
  {
   "cell_type": "code",
   "execution_count": 1,
   "id": "c2a87596-7f59-444a-8de7-d8deb1648a1c",
   "metadata": {},
   "outputs": [],
   "source": [
    "import pandas as pd\n",
    "import numpy as np"
   ]
  },
  {
   "cell_type": "code",
   "execution_count": 2,
   "id": "001ae3a0-1ef4-494c-a435-d9d9529b36fa",
   "metadata": {},
   "outputs": [],
   "source": [
    "results_list = ['Iris_results',\n",
    "                'Blood_Transfusion_results',\n",
    "                'Banknote_results',\n",
    "                'Modeling_results',\n",
    "                'Vertebral-Column_results',\n",
    "                'Pima_results',\n",
    "                'Glass_results',\n",
    "                'Wine_results',\n",
    "                'Climate_results',\n",
    "                'Parkinsons_results',\n",
    "                'Breast_Cancer_results',\n",
    "                'Ionosphere_results',]\n",
    "\n"
   ]
  },
  {
   "cell_type": "markdown",
   "id": "8f3f2d8e-e3d2-4fd3-af55-692c4f019cd4",
   "metadata": {},
   "source": [
    "### SVM"
   ]
  },
  {
   "cell_type": "markdown",
   "id": "cb72800a-94ca-442b-abe9-6cca95289400",
   "metadata": {},
   "source": [
    "#### 0.25"
   ]
  },
  {
   "cell_type": "code",
   "execution_count": 3,
   "id": "37da533f-2d8d-44dd-82f6-3b0d71efc254",
   "metadata": {},
   "outputs": [
    {
     "name": "stdout",
     "output_type": "stream",
     "text": [
      "2.55 $\\pm$ 0.43\n",
      "3.29 $\\pm$ 0.11\n",
      "2.47 $\\pm$ 0.13\n",
      "3.55 $\\pm$ 0.63\n",
      "4.45 $\\pm$ 1.21\n",
      "4.75 $\\pm$ 0.80\n",
      "6.17 $\\pm$ 0.60\n",
      "8.33 $\\pm$ 0.76\n",
      "11.75 $\\pm$ 1.16\n",
      "16.07 $\\pm$ 3.00\n",
      "14.86 $\\pm$ 4.07\n",
      "17.52 $\\pm$ 2.08\n"
     ]
    },
    {
     "name": "stderr",
     "output_type": "stream",
     "text": [
      "<>:5: SyntaxWarning: invalid escape sequence '\\p'\n",
      "<>:5: SyntaxWarning: invalid escape sequence '\\p'\n",
      "C:\\Users\\Mateus\\AppData\\Local\\Temp\\ipykernel_26976\\579750921.py:5: SyntaxWarning: invalid escape sequence '\\p'\n",
      "  print(f\"{df['ONESTEP_MEAN'][2]:.2f} $\\pm$ {df['ONESTEP_STD'][2]:.2f}\")\n"
     ]
    }
   ],
   "source": [
    "for dataset in results_list:\n",
    "    path = dataset+ '/results_0.25.csv'\n",
    "    df = pd.read_csv(path)\n",
    "    #print(f\"{df['ONESTEP_MEAN'][2])[:5]} $\\pm$ {df['ONESTEP_STD'][2])[:5]}\")\n",
    "    print(f\"{df['ONESTEP_MEAN'][2]:.2f} $\\pm$ {df['ONESTEP_STD'][2]:.2f}\")"
   ]
  },
  {
   "cell_type": "code",
   "execution_count": 4,
   "id": "ba5cdd03-1cb1-48e6-9019-ba365b64394c",
   "metadata": {},
   "outputs": [
    {
     "name": "stdout",
     "output_type": "stream",
     "text": [
      "2.52 $\\pm$ 0.44\n",
      "3.29 $\\pm$ 0.11\n",
      "2.48 $\\pm$ 0.13\n",
      "3.53 $\\pm$ 0.62\n",
      "4.45 $\\pm$ 1.21\n",
      "4.79 $\\pm$ 0.80\n",
      "6.18 $\\pm$ 0.59\n",
      "8.35 $\\pm$ 0.77\n",
      "11.77 $\\pm$ 1.16\n",
      "16.09 $\\pm$ 3.00\n",
      "14.88 $\\pm$ 4.07\n",
      "17.54 $\\pm$ 2.08\n"
     ]
    },
    {
     "name": "stderr",
     "output_type": "stream",
     "text": [
      "<>:5: SyntaxWarning: invalid escape sequence '\\p'\n",
      "<>:5: SyntaxWarning: invalid escape sequence '\\p'\n",
      "C:\\Users\\Mateus\\AppData\\Local\\Temp\\ipykernel_26976\\1779801057.py:5: SyntaxWarning: invalid escape sequence '\\p'\n",
      "  print(f\"{df['TWOSTEP_MEAN'][2]:.2f} $\\pm$ {df['TWOSTEP_STD'][2]:.2f}\")\n"
     ]
    }
   ],
   "source": [
    "for dataset in results_list:\n",
    "    path = dataset+ '/results_0.25.csv'\n",
    "    df = pd.read_csv(path)\n",
    "    #print(f\"{df['TWOSTEP_MEAN'][2])[:5]} $\\pm$ {df['TWOSTEP_STD'][2])[:5]}\")\n",
    "    print(f\"{df['TWOSTEP_MEAN'][2]:.2f} $\\pm$ {df['TWOSTEP_STD'][2]:.2f}\")"
   ]
  },
  {
   "cell_type": "code",
   "execution_count": 5,
   "id": "56df8a1a-c65d-49ae-8dc9-95558e6b84d4",
   "metadata": {},
   "outputs": [
    {
     "name": "stdout",
     "output_type": "stream",
     "text": [
      "-1.06\n",
      "0.04\n",
      "0.16\n",
      "-0.44\n",
      "-0.04\n",
      "0.86\n",
      "0.22\n",
      "0.18\n",
      "0.17\n",
      "0.15\n",
      "0.14\n",
      "0.11\n"
     ]
    }
   ],
   "source": [
    "for dataset in results_list:\n",
    "    path = dataset+ '/results_0.25.csv'\n",
    "    df = pd.read_csv(path)\n",
    "    #print(f\"{df['MEAN_DIFF_%'][2])[:5]}\")\n",
    "    print(f\"{df['MEAN_DIFF_%'][2]:.2f}\")"
   ]
  },
  {
   "cell_type": "code",
   "execution_count": 6,
   "id": "1aec0cc3-178a-41c0-91e9-fb63872a819d",
   "metadata": {},
   "outputs": [
    {
     "ename": "SyntaxError",
     "evalue": "f-string: unmatched ')' (726681398.py, line 5)",
     "output_type": "error",
     "traceback": [
      "\u001b[1;36m  Cell \u001b[1;32mIn[6], line 5\u001b[1;36m\u001b[0m\n\u001b[1;33m    print(f\"{df['POINTWISE_MEAN_%'][2])[:5]}\")\u001b[0m\n\u001b[1;37m                                      ^\u001b[0m\n\u001b[1;31mSyntaxError\u001b[0m\u001b[1;31m:\u001b[0m f-string: unmatched ')'\n"
     ]
    }
   ],
   "source": [
    "for dataset in results_list:\n",
    "    path = dataset+ '/results_0.25.csv'\n",
    "    df = pd.read_csv(path)\n",
    "    #print(f\"{df['POINTWISE_MEAN_%'][2])[:5]} $\\pm$ {df['POINTWISE_STD_%'][2])[:5]}\")\n",
    "    #print(f\"{df['POINTWISE_MEAN_%'][2])[:5]}\")"
   ]
  },
  {
   "cell_type": "markdown",
   "id": "21a47469-1e27-49d0-8be6-2ebae98766d2",
   "metadata": {},
   "source": [
    "#### 0.50"
   ]
  },
  {
   "cell_type": "code",
   "execution_count": 7,
   "id": "715b63a4-7524-4e22-8133-31248ab0b070",
   "metadata": {},
   "outputs": [
    {
     "name": "stdout",
     "output_type": "stream",
     "text": [
      "2.52 $\\pm$ 0.45\n",
      "3.29 $\\pm$ 0.11\n",
      "2.48 $\\pm$ 0.13\n",
      "3.53 $\\pm$ 0.62\n",
      "4.45 $\\pm$ 1.21\n",
      "4.78 $\\pm$ 0.80\n",
      "6.18 $\\pm$ 0.60\n",
      "8.35 $\\pm$ 0.76\n",
      "11.76 $\\pm$ 1.16\n",
      "16.09 $\\pm$ 3.00\n",
      "14.87 $\\pm$ 4.07\n",
      "17.54 $\\pm$ 2.08\n"
     ]
    },
    {
     "name": "stderr",
     "output_type": "stream",
     "text": [
      "<>:5: SyntaxWarning: invalid escape sequence '\\p'\n",
      "<>:5: SyntaxWarning: invalid escape sequence '\\p'\n",
      "C:\\Users\\Mateus\\AppData\\Local\\Temp\\ipykernel_26976\\1167450679.py:5: SyntaxWarning: invalid escape sequence '\\p'\n",
      "  print(f\"{df['TWOSTEP_MEAN'][2]:.2f} $\\pm$ {df['TWOSTEP_STD'][2]:.2f}\")\n"
     ]
    }
   ],
   "source": [
    "for dataset in results_list:\n",
    "    path = dataset+ '/results_0.5.csv'\n",
    "    df = pd.read_csv(path)\n",
    "    #print(f\"{df['TWOSTEP_MEAN'][2])[:5]} $\\pm$ {df['TWOSTEP_STD'][2])[:5]}\")\n",
    "    print(f\"{df['TWOSTEP_MEAN'][2]:.2f} $\\pm$ {df['TWOSTEP_STD'][2]:.2f}\")"
   ]
  },
  {
   "cell_type": "code",
   "execution_count": 8,
   "id": "319da047-b607-4d8e-b1ff-aa45d7c00d1c",
   "metadata": {
    "scrolled": true
   },
   "outputs": [
    {
     "name": "stdout",
     "output_type": "stream",
     "text": [
      "-1.21\n",
      "0.06\n",
      "0.19\n",
      "-0.44\n",
      "-0.03\n",
      "0.68\n",
      "0.16\n",
      "0.16\n",
      "0.16\n",
      "0.13\n",
      "0.10\n",
      "0.07\n"
     ]
    }
   ],
   "source": [
    "for dataset in results_list:\n",
    "    path = dataset+ '/results_0.5.csv'\n",
    "    df = pd.read_csv(path)\n",
    "    #print(f\"{df['MEAN_DIFF_%'][2])[:5]}\")\n",
    "    print(f\"{df['MEAN_DIFF_%'][2]:.2f}\")"
   ]
  },
  {
   "cell_type": "code",
   "execution_count": 9,
   "id": "bd72d367-0487-462a-bf1b-d4ac439e71ae",
   "metadata": {},
   "outputs": [],
   "source": [
    "for dataset in results_list:\n",
    "    path = dataset+ '/results_0.5.csv'\n",
    "    df = pd.read_csv(path)\n",
    "    #print(f\"{df['POINTWISE_MEAN_%'][2])[:5]} $\\pm$ {df['POINTWISE_STD_%'][2])[:5]}\")\n",
    "    #print(f\"{df['POINTWISE_MEAN_%'][2])[:5]}\")"
   ]
  },
  {
   "cell_type": "markdown",
   "id": "de60ab52-d1c3-4051-aaff-c48ee11da147",
   "metadata": {},
   "source": [
    "#### 0.75"
   ]
  },
  {
   "cell_type": "code",
   "execution_count": 10,
   "id": "84dd8314-5811-4a87-8f08-24ec39df78e0",
   "metadata": {},
   "outputs": [
    {
     "name": "stdout",
     "output_type": "stream",
     "text": [
      "2.53 $\\pm$ 0.44\n",
      "3.29 $\\pm$ 0.11\n",
      "2.48 $\\pm$ 0.13\n",
      "3.54 $\\pm$ 0.62\n",
      "4.45 $\\pm$ 1.21\n",
      "4.76 $\\pm$ 0.80\n",
      "6.17 $\\pm$ 0.60\n",
      "8.34 $\\pm$ 0.76\n",
      "11.76 $\\pm$ 1.16\n",
      "16.08 $\\pm$ 3.00\n",
      "14.87 $\\pm$ 4.07\n",
      "17.53 $\\pm$ 2.08\n"
     ]
    },
    {
     "name": "stderr",
     "output_type": "stream",
     "text": [
      "<>:5: SyntaxWarning: invalid escape sequence '\\p'\n",
      "<>:5: SyntaxWarning: invalid escape sequence '\\p'\n",
      "C:\\Users\\Mateus\\AppData\\Local\\Temp\\ipykernel_26976\\4260853972.py:5: SyntaxWarning: invalid escape sequence '\\p'\n",
      "  print(f\"{df['TWOSTEP_MEAN'][2]:.2f} $\\pm$ {df['TWOSTEP_STD'][2]:.2f}\")\n"
     ]
    }
   ],
   "source": [
    "for dataset in results_list:\n",
    "    path = dataset+ '/results_0.75.csv'\n",
    "    df = pd.read_csv(path)\n",
    "    #print(f\"{df['TWOSTEP_MEAN'][2])[:5]} $\\pm$ {df['TWOSTEP_STD'][2])[:5]}\")\n",
    "    print(f\"{df['TWOSTEP_MEAN'][2]:.2f} $\\pm$ {df['TWOSTEP_STD'][2]:.2f}\")"
   ]
  },
  {
   "cell_type": "code",
   "execution_count": 11,
   "id": "4f1647cf-878f-4597-8c74-baedefe17ebe",
   "metadata": {
    "scrolled": true
   },
   "outputs": [
    {
     "name": "stdout",
     "output_type": "stream",
     "text": [
      "-0.74\n",
      "0.04\n",
      "0.13\n",
      "-0.19\n",
      "-0.01\n",
      "0.39\n",
      "0.06\n",
      "0.10\n",
      "0.08\n",
      "0.08\n",
      "0.05\n",
      "0.03\n"
     ]
    }
   ],
   "source": [
    "for dataset in results_list:\n",
    "    path = dataset+ '/results_0.75.csv'\n",
    "    df = pd.read_csv(path)\n",
    "    #print(f\"{df['MEAN_DIFF_%'][2])[:5]}\")\n",
    "    print(f\"{df['MEAN_DIFF_%'][2]:.2f}\")"
   ]
  },
  {
   "cell_type": "code",
   "execution_count": null,
   "id": "8382de55-f3f3-40cc-b97e-9e04f5911c6a",
   "metadata": {},
   "outputs": [],
   "source": [
    "for dataset in results_list:\n",
    "    path = dataset+ '/results_0.75.csv'\n",
    "    df = pd.read_csv(path)\n",
    "    #print(f\"{df['POINTWISE_MEAN_%'][2])[:5]} $\\pm$ {df['POINTWISE_STD_%'][2])[:5]}\")\n",
    "    print(f\"{df['POINTWISE_MEAN_%'][2])[:5]}\")"
   ]
  },
  {
   "cell_type": "code",
   "execution_count": null,
   "id": "6c421195-fe32-49be-bb2d-7874e48f6255",
   "metadata": {},
   "outputs": [],
   "source": []
  }
 ],
 "metadata": {
  "kernelspec": {
   "display_name": "Python 3 (ipykernel)",
   "language": "python",
   "name": "python3"
  },
  "language_info": {
   "codemirror_mode": {
    "name": "ipython",
    "version": 3
   },
   "file_extension": ".py",
   "mimetype": "text/x-python",
   "name": "python",
   "nbconvert_exporter": "python",
   "pygments_lexer": "ipython3",
   "version": "3.12.3"
  }
 },
 "nbformat": 4,
 "nbformat_minor": 5
}
