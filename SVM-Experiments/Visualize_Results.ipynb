{
 "cells": [
  {
   "cell_type": "code",
   "execution_count": null,
   "id": "c2a87596-7f59-444a-8de7-d8deb1648a1c",
   "metadata": {},
   "outputs": [],
   "source": [
    "import pandas as pd\n",
    "import numpy as np"
   ]
  },
  {
   "cell_type": "code",
   "execution_count": null,
   "id": "001ae3a0-1ef4-494c-a435-d9d9529b36fa",
   "metadata": {},
   "outputs": [],
   "source": [
    "results_list = ['Iris_results',\n",
    "                'Blood_Transfusion_results',\n",
    "                'Banknote_results',\n",
    "                'Modeling_results',\n",
    "                'Vertebral-Column_results',\n",
    "                'Pima_results',\n",
    "                'Glass_results',\n",
    "                'Wine_results',\n",
    "                'Climate_results',\n",
    "                'Parkinsons_results',\n",
    "                'Breast_Cancer_results',\n",
    "                'Ionosphere_results',\n",
    "'Sonar_results']\n",
    "\n"
   ]
  },
  {
   "cell_type": "code",
   "execution_count": null,
   "id": "7823ee2b-f0ff-4b3c-a46f-ebc1ada4a544",
   "metadata": {},
   "outputs": [],
   "source": [
    "metric = 2 # 0 Time, 1 Size, 2 Rsum, 3 Coverage"
   ]
  },
  {
   "cell_type": "markdown",
   "id": "8f3f2d8e-e3d2-4fd3-af55-692c4f019cd4",
   "metadata": {},
   "source": [
    "### SVM"
   ]
  },
  {
   "cell_type": "markdown",
   "id": "cb72800a-94ca-442b-abe9-6cca95289400",
   "metadata": {},
   "source": [
    "#### 0.25"
   ]
  },
  {
   "cell_type": "code",
   "execution_count": null,
   "id": "37da533f-2d8d-44dd-82f6-3b0d71efc254",
   "metadata": {},
   "outputs": [],
   "source": [
    "for dataset in results_list:\n",
    "    path = dataset+ '/results_0.25.csv'\n",
    "    df = pd.read_csv(path)\n",
    "    #print(rf\"{df['ONESTEP_MEAN'][metric])[:5]} $\\pm$ {df['ONESTEP_STD'][metric])[:5]}\")\n",
    "    print(rf\"{df['ONESTEP_MEAN'][metric].round(2):.2f} $\\pm$ {df['ONESTEP_STD'][metric].round(2):.2f}\")"
   ]
  },
  {
   "cell_type": "code",
   "execution_count": null,
   "id": "ba5cdd03-1cb1-48e6-9019-ba365b64394c",
   "metadata": {},
   "outputs": [],
   "source": [
    "for dataset in results_list:\n",
    "    path = dataset+ '/results_0.25.csv'\n",
    "    df = pd.read_csv(path)\n",
    "    #print(rf\"{df['TWOSTEP_MEAN'][metric])[:5]} $\\pm$ {df['TWOSTEP_STD'][metric])[:5]}\")\n",
    "    print(rf\"{df['TWOSTEP_MEAN'][metric].round(2):.2f} $\\pm$ {df['TWOSTEP_STD'][metric].round(2):.2f}\")"
   ]
  },
  {
   "cell_type": "code",
   "execution_count": null,
   "id": "56df8a1a-c65d-49ae-8dc9-95558e6b84d4",
   "metadata": {},
   "outputs": [],
   "source": [
    "for dataset in results_list:\n",
    "    path = dataset+ '/results_0.25.csv'\n",
    "    df = pd.read_csv(path)\n",
    "    #print(rf\"{df['MEAN_DIFF_%'][metric])[:5]}\")\n",
    "    mean_diff = (df['TWOSTEP_MEAN'][metric].round(2) - df['ONESTEP_MEAN'][metric].round(2))/df['ONESTEP_MEAN'][metric].round(2) * 100\n",
    "    print(rf\"{mean_diff:.2f}\")"
   ]
  },
  {
   "cell_type": "code",
   "execution_count": null,
   "id": "bc53c6cc-be1a-4ac6-af19-81a1faa7f144",
   "metadata": {},
   "outputs": [],
   "source": [
    "df['TWOSTEP_MEAN'][metric].round(2)- df['ONESTEP_MEAN'][metric].round(2), - df['ONESTEP_MEAN'][metric].round(2)"
   ]
  },
  {
   "cell_type": "markdown",
   "id": "21a47469-1e27-49d0-8be6-2ebae98766d2",
   "metadata": {},
   "source": [
    "#### 0.50"
   ]
  },
  {
   "cell_type": "code",
   "execution_count": null,
   "id": "cc53d49e-5cf7-474a-99ab-dea764503b6d",
   "metadata": {},
   "outputs": [],
   "source": [
    "for dataset in results_list:\n",
    "    path = dataset+ '/results_0.5.csv'\n",
    "    df = pd.read_csv(path)\n",
    "    #print(rf\"{df['TWOSTEP_MEAN'][metric])[:5]} $\\pm$ {df['TWOSTEP_STD'][metric])[:5]}\")\n",
    "    print(rf\"{df['TWOSTEP_MEAN'][metric].round(2):.2f} $\\pm$ {df['TWOSTEP_STD'][metric].round(2):.2f}\")"
   ]
  },
  {
   "cell_type": "code",
   "execution_count": null,
   "id": "bd7a4b2c-a722-4d22-94e3-6f7d386692cd",
   "metadata": {},
   "outputs": [],
   "source": [
    "for dataset in results_list:\n",
    "    path = dataset+ '/results_0.5.csv'\n",
    "    df = pd.read_csv(path)\n",
    "    #print(rf\"{df['MEAN_DIFF_%'][metric])[:5]}\")\n",
    "    mean_diff = (df['TWOSTEP_MEAN'][metric].round(2) - df['ONESTEP_MEAN'][metric].round(2))/df['ONESTEP_MEAN'][metric].round(2) * 100\n",
    "    print(rf\"{mean_diff:.2f}\")"
   ]
  },
  {
   "cell_type": "markdown",
   "id": "de60ab52-d1c3-4051-aaff-c48ee11da147",
   "metadata": {},
   "source": [
    "#### 0.75"
   ]
  },
  {
   "cell_type": "code",
   "execution_count": null,
   "id": "308776a3-e4cd-4a0a-a80f-cbfdc858d48c",
   "metadata": {},
   "outputs": [],
   "source": [
    "for dataset in results_list:\n",
    "    path = dataset+ '/results_0.75.csv'\n",
    "    df = pd.read_csv(path)\n",
    "    #print(rf\"{df['TWOSTEP_MEAN'][metric])[:5]} $\\pm$ {df['TWOSTEP_STD'][metric])[:5]}\")\n",
    "    print(rf\"{df['TWOSTEP_MEAN'][metric].round(2):.2f} $\\pm$ {df['TWOSTEP_STD'][metric].round(2):.2f}\")"
   ]
  },
  {
   "cell_type": "code",
   "execution_count": null,
   "id": "5f06af30-dd17-4c69-9926-86e47c5c2fb5",
   "metadata": {},
   "outputs": [],
   "source": [
    "for dataset in results_list:\n",
    "    path = dataset+ '/results_0.75.csv'\n",
    "    df = pd.read_csv(path)\n",
    "    #print(rf\"{df['MEAN_DIFF_%'][metric])[:5]}\")\n",
    "    mean_diff = (df['TWOSTEP_MEAN'][metric].round(2) - df['ONESTEP_MEAN'][metric].round(2))/df['ONESTEP_MEAN'][metric].round(2) * 100\n",
    "    print(rf\"{mean_diff:.2f}\")"
   ]
  },
  {
   "cell_type": "markdown",
   "id": "7c2bd787-d3ab-44d1-a776-ced5e367f4c3",
   "metadata": {},
   "source": [
    "#### ALL"
   ]
  },
  {
   "cell_type": "code",
   "execution_count": null,
   "id": "9a79baaf-6962-40cb-b4a6-21d566057812",
   "metadata": {},
   "outputs": [],
   "source": [
    "for p in [0.25,0.5,0.75]:\n",
    "    print('\\n')\n",
    "\n",
    "    \n",
    "    for dataset in results_list:\n",
    "        path = dataset+ f'/results_{p}.csv'\n",
    "        df = pd.read_csv(path)\n",
    "        df_onestep = pd.read_csv(dataset+ f'/results_0.25.csv')\n",
    "        #print(rf\"{df['MEAN_DIFF_%'][metric])[:5]}\")\n",
    "        mean_diff = (df['TWOSTEP_MEAN'][metric].round(2) - df_onestep['ONESTEP_MEAN'][metric].round(2))/df_onestep['ONESTEP_MEAN'][metric].round(2) * 100\n",
    "        print(rf\"{mean_diff:.2f}\")"
   ]
  },
  {
   "cell_type": "code",
   "execution_count": null,
   "id": "5f6bb220-40c0-4f0e-938f-3ec8ff79733a",
   "metadata": {},
   "outputs": [],
   "source": [
    "df['TWOSTEP_MEAN'][metric].round(2),df_onestep['ONESTEP_MEAN'][metric].round(2), df['TWOSTEP_MEAN'][metric].round(2) - df_onestep['ONESTEP_MEAN'][metric].round(2)"
   ]
  },
  {
   "cell_type": "code",
   "execution_count": null,
   "id": "e3596277-5e32-4e3f-8f81-2e0885deeb73",
   "metadata": {},
   "outputs": [],
   "source": []
  }
 ],
 "metadata": {
  "kernelspec": {
   "display_name": "Python 3 (ipykernel)",
   "language": "python",
   "name": "python3"
  },
  "language_info": {
   "codemirror_mode": {
    "name": "ipython",
    "version": 3
   },
   "file_extension": ".py",
   "mimetype": "text/x-python",
   "name": "python",
   "nbconvert_exporter": "python",
   "pygments_lexer": "ipython3",
   "version": "3.12.3"
  }
 },
 "nbformat": 4,
 "nbformat_minor": 5
}
