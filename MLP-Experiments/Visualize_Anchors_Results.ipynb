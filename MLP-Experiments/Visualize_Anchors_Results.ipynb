{
 "cells": [
  {
   "cell_type": "code",
   "execution_count": null,
   "id": "d7d14bb7-eda8-4c1d-8cab-f41b2289a950",
   "metadata": {},
   "outputs": [],
   "source": [
    "import pandas as pd\n",
    "import numpy as np"
   ]
  },
  {
   "cell_type": "code",
   "execution_count": null,
   "id": "ca3cccda-f2ff-4792-996d-d0a4a2781609",
   "metadata": {},
   "outputs": [],
   "source": [
    "datasets = ['Iris',\n",
    "                'Blood_Transfusion',\n",
    "                'Banknote',\n",
    "                'Modeling',\n",
    "                'Column',\n",
    "                'Pima',\n",
    "                'Glass',\n",
    "                'Wine',\n",
    "                'Climate',\n",
    "                'Parkinson',\n",
    "                'Breast_Cancer',\n",
    "                'Ionosphere',\n",
    "                'Sonar']\n",
    "\n",
    "p_value = 0.25"
   ]
  },
  {
   "cell_type": "code",
   "execution_count": null,
   "id": "99fed932-74de-4529-9e83-908ebf03f59c",
   "metadata": {},
   "outputs": [],
   "source": [
    "metric = 2 # 0 == Time, 1 == Size, 2 == Ranges Sum, 3 == Coverage"
   ]
  },
  {
   "cell_type": "code",
   "execution_count": null,
   "id": "f3290774-163e-4d0f-99fb-1b5b92e989e3",
   "metadata": {},
   "outputs": [],
   "source": [
    "for dataset_name in datasets:\n",
    "    path = f'Anchors_vs_Twostep_Results/Original_{dataset_name}_{p_value}_results.csv'\n",
    "    df = pd.read_csv(path)\n",
    "    print(rf\"{df['ANCHORS_MEAN'][metric].round(2):.2f} $\\pm$ {df['ANCHORS_STD'][metric].round(2):.2f}\")"
   ]
  },
  {
   "cell_type": "code",
   "execution_count": null,
   "id": "2b2ca165-6b22-419b-b617-507146ef2f1e",
   "metadata": {},
   "outputs": [],
   "source": [
    "for dataset_name in datasets:\n",
    "    path = f'Anchors_vs_Twostep_Results/Original_{dataset_name}_{p_value}_results.csv'\n",
    "    df = pd.read_csv(path)\n",
    "    print(rf\"{df['TWOSTEP_MEAN'][metric].round(2):.2f} $\\pm$ {df['TWOSTEP_STD'][metric].round(2):.2f}\")"
   ]
  },
  {
   "cell_type": "code",
   "execution_count": null,
   "id": "4cbf9128-8ee0-433b-b268-1c3505b7c6c7",
   "metadata": {},
   "outputs": [],
   "source": [
    "for dataset_name in datasets:\n",
    "    path = f'Anchors_vs_Twostep_Results/Original_{dataset_name}_{p_value}_results.csv'\n",
    "    df = pd.read_csv(path)\n",
    "    print(rf\"{df['MEAN_DIFF_%'][metric].round(2)*(-1):.2f}\")"
   ]
  },
  {
   "cell_type": "code",
   "execution_count": null,
   "id": "3e32ca1c-46bf-4bf0-9a3f-82622dec1acc",
   "metadata": {},
   "outputs": [],
   "source": [
    "for dataset_name in datasets:\n",
    "    path = f'Anchors_vs_Twostep_Results/Original_{dataset_name}_{p_value}_results.csv'\n",
    "    df = pd.read_csv(path)\n",
    "    print(rf\"{df['POINTWISE_MEAN_%'][metric].round(2):.2f} $\\pm$ {df['POINTWISE_STD_%'][metric].round(2):.2f}\")"
   ]
  },
  {
   "cell_type": "code",
   "execution_count": null,
   "id": "5b808250-b90d-45eb-99b4-b8729d76c9a3",
   "metadata": {},
   "outputs": [],
   "source": [
    "for dataset_name in datasets:\n",
    "    path = f'Anchors_vs_Twostep_Results/Original_{dataset_name}_{p_value}_results.csv'\n",
    "    df = pd.read_csv(path)\n",
    "    print(rf\"{df['ANCHORS_ERROR_RATE_MEAN%'][metric].round(2):.2f} $\\pm$ {df['ANCHORS_ERROR_RATE_STD%'][metric].round(2):.2f}\")"
   ]
  },
  {
   "cell_type": "code",
   "execution_count": null,
   "id": "a47c45bd-0c6a-4da1-a877-154625fdd837",
   "metadata": {},
   "outputs": [],
   "source": [
    "for dataset_name in datasets:\n",
    "    path = f'Anchors_vs_Twostep_Results/Original_{dataset_name}_{p_value}_results.csv'\n",
    "    df = pd.read_csv(path)\n",
    "    print(rf\"{df['ANCHORS_ERROR_RATE_MEAN%'][metric].round(2):.2f}\")"
   ]
  },
  {
   "cell_type": "code",
   "execution_count": null,
   "id": "151deb9f-4983-4edc-83ba-e5ec3a4c3846",
   "metadata": {},
   "outputs": [],
   "source": [
    "for p in [0.25,0.5,0.75]:\n",
    "    print('\\n')\n",
    "    for dataset in datasets:\n",
    "        path = f'Anchors_vs_Twostep_Results/Original_{dataset}_{p}_results.csv'\n",
    "        df = pd.read_csv(path)\n",
    "        df_anchors = pd.read_csv(f'Anchors_vs_Twostep_Results/Original_{dataset}_0.25_results.csv')\n",
    "        mean_diff = (df['TWOSTEP_MEAN'][metric].round(2) - df_anchors['ANCHORS_MEAN'][metric].round(2))/df_anchors['ANCHORS_MEAN'][metric].round(2) * 100\n",
    "        print(rf\"{mean_diff:.2f}\")"
   ]
  },
  {
   "cell_type": "code",
   "execution_count": null,
   "id": "1bdad1c2-73e2-46ab-9f5d-0e50b16551e2",
   "metadata": {},
   "outputs": [],
   "source": [
    "#below is for artificial instances"
   ]
  },
  {
   "cell_type": "code",
   "execution_count": null,
   "id": "4d5d3f2d-17a8-4a61-9863-e0c7fbb8b425",
   "metadata": {},
   "outputs": [],
   "source": [
    "metric_artificial = 0 #0 == Coverage"
   ]
  },
  {
   "cell_type": "code",
   "execution_count": null,
   "id": "e527ac20-898e-4c4f-b6fa-d519bcb1caba",
   "metadata": {},
   "outputs": [],
   "source": [
    "for dataset_name in datasets:\n",
    "    path = f'Anchors_vs_Twostep_Results/Artificial_{dataset_name}_results.csv'\n",
    "    df = pd.read_csv(path)\n",
    "    print(rf\"{df['ANCHORS_MEAN'][metric_artificial].round(2):.2f} $\\pm$ {df['ANCHORS_STD'][metric_artificial].round(2):.2f}\")"
   ]
  },
  {
   "cell_type": "code",
   "execution_count": null,
   "id": "bd6f02e0-aa09-43e5-8723-0676ba49b499",
   "metadata": {},
   "outputs": [],
   "source": [
    "for dataset_name in datasets:\n",
    "    path = f'Anchors_vs_Twostep_Results/Artificial_{dataset_name}_results.csv'\n",
    "    df = pd.read_csv(path)\n",
    "    print(rf\"{df['TWOSTEP_MEAN'][metric_artificial].round(2):.2f} $\\pm$ {df['TWOSTEP_STD'][metric_artificial].round(2):.2f}\")"
   ]
  },
  {
   "cell_type": "code",
   "execution_count": null,
   "id": "e0590c47-9447-49d8-ab16-b5c7838b7301",
   "metadata": {},
   "outputs": [],
   "source": [
    "for dataset_name in datasets:\n",
    "    path = f'Anchors_vs_Twostep_Results/Artificial_{dataset_name}_results.csv'\n",
    "    df = pd.read_csv(path)\n",
    "    print(rf\"{df['MEAN_DIFF_%'][metric_artificial].round(2):.2f}\")"
   ]
  },
  {
   "cell_type": "code",
   "execution_count": null,
   "id": "b48ce65c-6c73-4963-990a-9d4121c6c9d7",
   "metadata": {},
   "outputs": [],
   "source": [
    "for dataset_name in datasets:\n",
    "    path = f'Anchors_vs_Twostep_Results/Artificial_{dataset_name}_results.csv'\n",
    "    df = pd.read_csv(path)\n",
    "    print(rf\"{df['POINTWISE_MEAN_%'][metric_artificial].round(2):.2f} $\\pm$ {df['POINTWISE_STD_%'][metric_artificial].round(2):.2f}\")"
   ]
  },
  {
   "cell_type": "code",
   "execution_count": null,
   "id": "624a3430-d559-42f0-ba85-bfad008652f7",
   "metadata": {},
   "outputs": [],
   "source": [
    "for dataset_name in datasets:\n",
    "    path = f'Anchors_vs_Twostep_Results/Artificial_{dataset_name}_results.csv'\n",
    "    df = pd.read_csv(path)\n",
    "    print(rf\"{df['ANCHORS_ERROR_RATE%'][metric_artificial].round(2):.2f}\")"
   ]
  },
  {
   "cell_type": "code",
   "execution_count": null,
   "id": "f87c43e5-a345-4a78-a7f0-a69b41b0af38",
   "metadata": {},
   "outputs": [],
   "source": []
  }
 ],
 "metadata": {
  "kernelspec": {
   "display_name": "Python 3 (ipykernel)",
   "language": "python",
   "name": "python3"
  },
  "language_info": {
   "codemirror_mode": {
    "name": "ipython",
    "version": 3
   },
   "file_extension": ".py",
   "mimetype": "text/x-python",
   "name": "python",
   "nbconvert_exporter": "python",
   "pygments_lexer": "ipython3",
   "version": "3.12.3"
  }
 },
 "nbformat": 4,
 "nbformat_minor": 5
}
