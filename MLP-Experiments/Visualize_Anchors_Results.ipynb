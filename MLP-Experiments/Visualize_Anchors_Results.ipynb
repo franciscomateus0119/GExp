{
 "cells": [
  {
   "cell_type": "code",
   "execution_count": 1,
   "id": "d7d14bb7-eda8-4c1d-8cab-f41b2289a950",
   "metadata": {},
   "outputs": [],
   "source": [
    "import pandas as pd\n",
    "import numpy as np"
   ]
  },
  {
   "cell_type": "code",
   "execution_count": 2,
   "id": "ca3cccda-f2ff-4792-996d-d0a4a2781609",
   "metadata": {},
   "outputs": [],
   "source": [
    "datasets = ['Iris',\n",
    "                'Blood_Transfusion',\n",
    "                'Banknote',\n",
    "                'Modeling',\n",
    "                'Column',\n",
    "                'Pima',\n",
    "                'Glass',\n",
    "                'Wine',\n",
    "                'Climate',\n",
    "                'Parkinson',\n",
    "                'Breast_Cancer',\n",
    "                'Ionosphere',\n",
    "                'Sonar']\n",
    "\n",
    "p_value = 0.25"
   ]
  },
  {
   "cell_type": "code",
   "execution_count": 3,
   "id": "99fed932-74de-4529-9e83-908ebf03f59c",
   "metadata": {},
   "outputs": [],
   "source": [
    "metric = 2 # 0 == Time, 1 == Size, 2 == Ranges Sum, 3 == Coverage"
   ]
  },
  {
   "cell_type": "code",
   "execution_count": 4,
   "id": "f3290774-163e-4d0f-99fb-1b5b92e989e3",
   "metadata": {},
   "outputs": [
    {
     "name": "stdout",
     "output_type": "stream",
     "text": [
      "2.56 $\\pm$ 0.49\n",
      "3.28 $\\pm$ 0.30\n",
      "2.59 $\\pm$ 0.52\n",
      "3.12 $\\pm$ 0.72\n",
      "4.62 $\\pm$ 0.91\n",
      "6.31 $\\pm$ 0.62\n",
      "6.81 $\\pm$ 1.33\n",
      "11.14 $\\pm$ 0.37\n",
      "17.30 $\\pm$ 0.59\n",
      "21.01 $\\pm$ 0.49\n",
      "28.60 $\\pm$ 0.54\n",
      "31.60 $\\pm$ 0.65\n",
      "57.11 $\\pm$ 0.94\n"
     ]
    }
   ],
   "source": [
    "for dataset_name in datasets:\n",
    "    path = f'Anchors_vs_Twostep_Results/Original_{dataset_name}_{p_value}_results.csv'\n",
    "    df = pd.read_csv(path)\n",
    "    print(rf\"{df['ANCHORS_MEAN'][metric].round(2):.2f} $\\pm$ {df['ANCHORS_STD'][metric].round(2):.2f}\")"
   ]
  },
  {
   "cell_type": "code",
   "execution_count": 70,
   "id": "2b2ca165-6b22-419b-b617-507146ef2f1e",
   "metadata": {},
   "outputs": [
    {
     "name": "stdout",
     "output_type": "stream",
     "text": [
      "9.86 $\\pm$ 1.16\n",
      "10.27 $\\pm$ 2.75\n",
      "14.18 $\\pm$ 3.66\n",
      "20.42 $\\pm$ 3.57\n",
      "25.73 $\\pm$ 4.37\n",
      "51.28 $\\pm$ 3.86\n"
     ]
    }
   ],
   "source": [
    "for dataset_name in datasets:\n",
    "    path = f'Anchors_vs_Twostep_Results/Original_{dataset_name}_{p_value}_results.csv'\n",
    "    df = pd.read_csv(path)\n",
    "    print(rf\"{df['TWOSTEP_MEAN'][metric].round(2):.2f} $\\pm$ {df['TWOSTEP_STD'][metric].round(2):.2f}\")"
   ]
  },
  {
   "cell_type": "code",
   "execution_count": 56,
   "id": "4cbf9128-8ee0-433b-b268-1c3505b7c6c7",
   "metadata": {},
   "outputs": [
    {
     "name": "stdout",
     "output_type": "stream",
     "text": [
      "11.97\n",
      "53.16\n",
      "75.31\n",
      "44.07\n",
      "63.03\n",
      "87.91\n",
      "87.54\n",
      "93.31\n",
      "99.30\n",
      "97.07\n",
      "98.79\n",
      "94.32\n",
      "59.69\n"
     ]
    }
   ],
   "source": [
    "for dataset_name in datasets:\n",
    "    path = f'Anchors_vs_Twostep_Results/Original_{dataset_name}_{p_value}_results.csv'\n",
    "    df = pd.read_csv(path)\n",
    "    print(rf\"{df['MEAN_DIFF_%'][metric].round(2)*(-1):.2f}\")"
   ]
  },
  {
   "cell_type": "code",
   "execution_count": 19,
   "id": "3e32ca1c-46bf-4bf0-9a3f-82622dec1acc",
   "metadata": {},
   "outputs": [
    {
     "name": "stdout",
     "output_type": "stream",
     "text": [
      "6.53 $\\pm$ 139.38\n",
      "-44.47 $\\pm$ 78.15\n",
      "-67.54 $\\pm$ 34.88\n",
      "14.71 $\\pm$ 232.29\n",
      "-57.23 $\\pm$ 46.35\n",
      "-80.05 $\\pm$ 55.15\n",
      "-72.62 $\\pm$ 31.08\n",
      "-80.53 $\\pm$ 30.44\n",
      "-98.17 $\\pm$ 9.81\n",
      "-94.77 $\\pm$ 7.36\n",
      "-98.55 $\\pm$ 1.03\n",
      "-61.58 $\\pm$ 43.00\n",
      "-22.39 $\\pm$ 34.99\n"
     ]
    }
   ],
   "source": [
    "for dataset_name in datasets:\n",
    "    path = f'Anchors_vs_Twostep_Results/Original_{dataset_name}_{p_value}_results.csv'\n",
    "    df = pd.read_csv(path)\n",
    "    print(rf\"{df['POINTWISE_MEAN_%'][metric].round(2):.2f} $\\pm$ {df['POINTWISE_STD_%'][metric].round(2):.2f}\")"
   ]
  },
  {
   "cell_type": "code",
   "execution_count": 20,
   "id": "5b808250-b90d-45eb-99b4-b8729d76c9a3",
   "metadata": {},
   "outputs": [
    {
     "name": "stdout",
     "output_type": "stream",
     "text": [
      "0.41 $\\pm$ 2.21\n",
      "2.47 $\\pm$ 11.36\n",
      "0.28 $\\pm$ 1.32\n",
      "1.37 $\\pm$ 5.02\n",
      "1.03 $\\pm$ 3.14\n",
      "1.88 $\\pm$ 4.42\n",
      "10.57 $\\pm$ 15.46\n",
      "2.01 $\\pm$ 5.27\n",
      "0.20 $\\pm$ 0.44\n",
      "3.02 $\\pm$ 6.63\n",
      "0.62 $\\pm$ 2.46\n",
      "8.16 $\\pm$ 13.97\n",
      "1.99 $\\pm$ 9.09\n"
     ]
    }
   ],
   "source": [
    "for dataset_name in datasets:\n",
    "    path = f'Anchors_vs_Twostep_Results/Original_{dataset_name}_{p_value}_results.csv'\n",
    "    df = pd.read_csv(path)\n",
    "    print(rf\"{df['ANCHORS_ERROR_RATE_MEAN%'][metric].round(2):.2f} $\\pm$ {df['ANCHORS_ERROR_RATE_STD%'][metric].round(2):.2f}\")"
   ]
  },
  {
   "cell_type": "code",
   "execution_count": 31,
   "id": "a47c45bd-0c6a-4da1-a877-154625fdd837",
   "metadata": {},
   "outputs": [
    {
     "name": "stdout",
     "output_type": "stream",
     "text": [
      "0.41\n",
      "2.47\n",
      "0.28\n",
      "1.37\n",
      "1.03\n",
      "1.88\n",
      "10.57\n",
      "2.01\n",
      "0.20\n",
      "3.02\n",
      "0.62\n",
      "8.16\n",
      "1.99\n"
     ]
    }
   ],
   "source": [
    "for dataset_name in datasets:\n",
    "    path = f'Anchors_vs_Twostep_Results/Original_{dataset_name}_{p_value}_results.csv'\n",
    "    df = pd.read_csv(path)\n",
    "    print(rf\"{df['ANCHORS_ERROR_RATE_MEAN%'][metric].round(2):.2f}\")"
   ]
  },
  {
   "cell_type": "code",
   "execution_count": 5,
   "id": "151deb9f-4983-4edc-83ba-e5ec3a4c3846",
   "metadata": {},
   "outputs": [
    {
     "name": "stdout",
     "output_type": "stream",
     "text": [
      "\n",
      "\n",
      "-17.19\n",
      "-17.07\n",
      "-10.04\n",
      "3.53\n",
      "-16.23\n",
      "-29.79\n",
      "-45.37\n",
      "-46.32\n",
      "-28.84\n",
      "-34.41\n",
      "-41.22\n",
      "-52.75\n",
      "-50.01\n",
      "\n",
      "\n",
      "-16.41\n",
      "-16.77\n",
      "-10.04\n",
      "3.53\n",
      "-16.23\n",
      "-29.64\n",
      "-45.67\n",
      "-45.87\n",
      "-28.79\n",
      "-34.22\n",
      "-40.70\n",
      "-51.99\n",
      "-48.40\n",
      "\n",
      "\n",
      "-16.80\n",
      "-17.07\n",
      "-10.42\n",
      "4.17\n",
      "-16.23\n",
      "-29.79\n",
      "-45.96\n",
      "-45.60\n",
      "-28.67\n",
      "-33.98\n",
      "-40.31\n",
      "-51.17\n",
      "-47.59\n"
     ]
    }
   ],
   "source": [
    "for p in [0.25,0.5,0.75]:\n",
    "    print('\\n')\n",
    "    for dataset in datasets:\n",
    "        path = f'Anchors_vs_Twostep_Results/Original_{dataset}_{p}_results.csv'\n",
    "        df = pd.read_csv(path)\n",
    "        df_anchors = pd.read_csv(f'Anchors_vs_Twostep_Results/Original_{dataset}_0.25_results.csv')\n",
    "        mean_diff = (df['TWOSTEP_MEAN'][metric].round(2) - df_anchors['ANCHORS_MEAN'][metric].round(2))/df_anchors['ANCHORS_MEAN'][metric].round(2) * 100\n",
    "        print(rf\"{mean_diff:.2f}\")"
   ]
  },
  {
   "cell_type": "code",
   "execution_count": null,
   "id": "1bdad1c2-73e2-46ab-9f5d-0e50b16551e2",
   "metadata": {},
   "outputs": [],
   "source": [
    "#below is for artificial instances"
   ]
  },
  {
   "cell_type": "code",
   "execution_count": 32,
   "id": "4d5d3f2d-17a8-4a61-9863-e0c7fbb8b425",
   "metadata": {},
   "outputs": [],
   "source": [
    "metric_artificial = 0 #0 == Coverage"
   ]
  },
  {
   "cell_type": "code",
   "execution_count": 35,
   "id": "e527ac20-898e-4c4f-b6fa-d519bcb1caba",
   "metadata": {},
   "outputs": [
    {
     "name": "stdout",
     "output_type": "stream",
     "text": [
      "14.14 $\\pm$ 11.36\n",
      "30.66 $\\pm$ 27.29\n",
      "14.85 $\\pm$ 10.50\n",
      "7.78 $\\pm$ 5.85\n",
      "27.29 $\\pm$ 22.12\n",
      "10.04 $\\pm$ 9.58\n",
      "12.93 $\\pm$ 17.48\n",
      "6.25 $\\pm$ 4.70\n",
      "38.55 $\\pm$ 18.24\n",
      "27.79 $\\pm$ 20.89\n",
      "17.21 $\\pm$ 19.94\n",
      "7.14 $\\pm$ 6.95\n",
      "3.70 $\\pm$ 5.09\n"
     ]
    }
   ],
   "source": [
    "for dataset_name in datasets:\n",
    "    path = f'Anchors_vs_Twostep_Results/Artificial_{dataset_name}_results.csv'\n",
    "    df = pd.read_csv(path)\n",
    "    print(rf\"{df['ANCHORS_MEAN'][metric_artificial].round(2):.2f} $\\pm$ {df['ANCHORS_STD'][metric_artificial].round(2):.2f}\")"
   ]
  },
  {
   "cell_type": "code",
   "execution_count": 36,
   "id": "bd6f02e0-aa09-43e5-8723-0676ba49b499",
   "metadata": {},
   "outputs": [
    {
     "name": "stdout",
     "output_type": "stream",
     "text": [
      "7.78 $\\pm$ 6.52\n",
      "6.61 $\\pm$ 4.10\n",
      "7.64 $\\pm$ 4.65\n",
      "4.83 $\\pm$ 4.36\n",
      "15.54 $\\pm$ 13.22\n",
      "1.31 $\\pm$ 0.87\n",
      "1.01 $\\pm$ 0.08\n",
      "1.00 $\\pm$ 0.00\n",
      "1.01 $\\pm$ 0.10\n",
      "1.01 $\\pm$ 0.08\n",
      "1.00 $\\pm$ 0.00\n",
      "1.00 $\\pm$ 0.00\n",
      "1.00 $\\pm$ 0.00\n"
     ]
    }
   ],
   "source": [
    "for dataset_name in datasets:\n",
    "    path = f'Anchors_vs_Twostep_Results/Artificial_{dataset_name}_results.csv'\n",
    "    df = pd.read_csv(path)\n",
    "    print(rf\"{df['TWOSTEP_MEAN'][metric_artificial].round(2):.2f} $\\pm$ {df['TWOSTEP_STD'][metric_artificial].round(2):.2f}\")"
   ]
  },
  {
   "cell_type": "code",
   "execution_count": 37,
   "id": "e0590c47-9447-49d8-ab16-b5c7838b7301",
   "metadata": {},
   "outputs": [
    {
     "name": "stdout",
     "output_type": "stream",
     "text": [
      "-44.99\n",
      "-78.45\n",
      "-48.55\n",
      "-37.90\n",
      "-43.05\n",
      "-86.95\n",
      "-92.22\n",
      "-84.01\n",
      "-97.38\n",
      "-96.38\n",
      "-94.19\n",
      "-85.99\n",
      "-72.96\n"
     ]
    }
   ],
   "source": [
    "for dataset_name in datasets:\n",
    "    path = f'Anchors_vs_Twostep_Results/Artificial_{dataset_name}_results.csv'\n",
    "    df = pd.read_csv(path)\n",
    "    print(rf\"{df['MEAN_DIFF_%'][metric_artificial].round(2):.2f}\")"
   ]
  },
  {
   "cell_type": "code",
   "execution_count": 38,
   "id": "b48ce65c-6c73-4963-990a-9d4121c6c9d7",
   "metadata": {},
   "outputs": [
    {
     "name": "stdout",
     "output_type": "stream",
     "text": [
      "-37.63 $\\pm$ 31.47\n",
      "-61.22 $\\pm$ 40.61\n",
      "-14.02 $\\pm$ 129.73\n",
      "-9.41 $\\pm$ 121.00\n",
      "-35.29 $\\pm$ 33.18\n",
      "-64.10 $\\pm$ 41.12\n",
      "-54.84 $\\pm$ 43.10\n",
      "-70.23 $\\pm$ 26.41\n",
      "-95.78 $\\pm$ 9.72\n",
      "-88.20 $\\pm$ 18.61\n",
      "-72.74 $\\pm$ 29.28\n",
      "-55.43 $\\pm$ 41.28\n",
      "-37.54 $\\pm$ 37.10\n"
     ]
    }
   ],
   "source": [
    "for dataset_name in datasets:\n",
    "    path = f'Anchors_vs_Twostep_Results/Artificial_{dataset_name}_results.csv'\n",
    "    df = pd.read_csv(path)\n",
    "    print(rf\"{df['POINTWISE_MEAN_%'][metric_artificial].round(2):.2f} $\\pm$ {df['POINTWISE_STD_%'][metric_artificial].round(2):.2f}\")"
   ]
  },
  {
   "cell_type": "code",
   "execution_count": 41,
   "id": "624a3430-d559-42f0-ba85-bfad008652f7",
   "metadata": {},
   "outputs": [
    {
     "name": "stdout",
     "output_type": "stream",
     "text": [
      "8.08\n",
      "9.01\n",
      "5.25\n",
      "4.77\n",
      "10.63\n",
      "11.34\n",
      "28.34\n",
      "16.94\n",
      "0.41\n",
      "11.20\n",
      "36.05\n",
      "24.13\n",
      "2.55\n"
     ]
    }
   ],
   "source": [
    "for dataset_name in datasets:\n",
    "    path = f'Anchors_vs_Twostep_Results/Artificial_{dataset_name}_results.csv'\n",
    "    df = pd.read_csv(path)\n",
    "    print(rf\"{df['ANCHORS_ERROR_RATE%'][metric_artificial].round(2):.2f}\")"
   ]
  },
  {
   "cell_type": "code",
   "execution_count": null,
   "id": "f87c43e5-a345-4a78-a7f0-a69b41b0af38",
   "metadata": {},
   "outputs": [],
   "source": []
  }
 ],
 "metadata": {
  "kernelspec": {
   "display_name": "Python 3 (ipykernel)",
   "language": "python",
   "name": "python3"
  },
  "language_info": {
   "codemirror_mode": {
    "name": "ipython",
    "version": 3
   },
   "file_extension": ".py",
   "mimetype": "text/x-python",
   "name": "python",
   "nbconvert_exporter": "python",
   "pygments_lexer": "ipython3",
   "version": "3.12.3"
  }
 },
 "nbformat": 4,
 "nbformat_minor": 5
}
