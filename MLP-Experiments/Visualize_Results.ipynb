{
 "cells": [
  {
   "cell_type": "code",
   "execution_count": 1,
   "id": "c2a87596-7f59-444a-8de7-d8deb1648a1c",
   "metadata": {},
   "outputs": [],
   "source": [
    "import pandas as pd\n",
    "import numpy as np"
   ]
  },
  {
   "cell_type": "code",
   "execution_count": 2,
   "id": "001ae3a0-1ef4-494c-a435-d9d9529b36fa",
   "metadata": {},
   "outputs": [],
   "source": [
    "results_list_MLP = ['Iris_results',\n",
    "                'Blood_Transfusion_results',\n",
    "                'Banknote_results',\n",
    "                'Modeling_results',\n",
    "                'Column_results',\n",
    "                'Pima_results',\n",
    "                'Glass_results',\n",
    "                'Wine_results',\n",
    "                'Climate_results',\n",
    "                'Parkinson_results',\n",
    "                'Breast_Cancer_results',\n",
    "                'Ionosphere_results',]"
   ]
  },
  {
   "cell_type": "markdown",
   "id": "8f3f2d8e-e3d2-4fd3-af55-692c4f019cd4",
   "metadata": {},
   "source": [
    "### MLP"
   ]
  },
  {
   "cell_type": "markdown",
   "id": "c1473d51-ac8d-408c-89b2-c4d2d6fe2be9",
   "metadata": {},
   "source": [
    "#### 0.25"
   ]
  },
  {
   "cell_type": "code",
   "execution_count": 3,
   "id": "d32ad797-e2b7-4153-9595-6381a8e94fca",
   "metadata": {},
   "outputs": [
    {
     "name": "stdout",
     "output_type": "stream",
     "text": [
      "2.09 $\\pm$ 0.69\n",
      "2.71 $\\pm$ 0.27\n",
      "2.31 $\\pm$ 0.29\n",
      "3.27 $\\pm$ 0.65\n",
      "3.87 $\\pm$ 1.37\n",
      "4.40 $\\pm$ 0.60\n",
      "3.68 $\\pm$ 0.78\n",
      "5.87 $\\pm$ 1.13\n",
      "12.28 $\\pm$ 1.17\n",
      "13.70 $\\pm$ 3.20\n",
      "16.67 $\\pm$ 2.76\n",
      "14.36 $\\pm$ 3.43\n"
     ]
    },
    {
     "name": "stderr",
     "output_type": "stream",
     "text": [
      "<>:5: SyntaxWarning: invalid escape sequence '\\p'\n",
      "<>:5: SyntaxWarning: invalid escape sequence '\\p'\n",
      "C:\\Users\\Mateus\\AppData\\Local\\Temp\\ipykernel_16428\\2061659384.py:5: SyntaxWarning: invalid escape sequence '\\p'\n",
      "  print(f\"{df['ONESTEP_MEAN'][2].round(2):.2f} $\\pm$ {df['ONESTEP_STD'][2].round(2):.2f}\")\n"
     ]
    }
   ],
   "source": [
    "for dataset in results_list_MLP:\n",
    "    path = dataset+ '/results_0.25.csv'\n",
    "    df = pd.read_csv(path)\n",
    "    #print(f\"{df['ONESTEP_MEAN'][2])[:5]} $\\pm$ {df['ONESTEP_STD'][2])[:5]}\")\n",
    "    print(f\"{df['ONESTEP_MEAN'][2].round(2):.2f} $\\pm$ {df['ONESTEP_STD'][2].round(2):.2f}\")"
   ]
  },
  {
   "cell_type": "code",
   "execution_count": 4,
   "id": "cd52a3c6-7ef7-4fbe-b335-08dd8998561f",
   "metadata": {},
   "outputs": [
    {
     "name": "stdout",
     "output_type": "stream",
     "text": [
      "2.12 $\\pm$ 0.65\n",
      "2.72 $\\pm$ 0.27\n",
      "2.33 $\\pm$ 0.29\n",
      "3.23 $\\pm$ 0.64\n",
      "3.87 $\\pm$ 1.36\n",
      "4.43 $\\pm$ 0.59\n",
      "3.72 $\\pm$ 0.78\n",
      "5.98 $\\pm$ 0.92\n",
      "12.31 $\\pm$ 1.11\n",
      "13.78 $\\pm$ 3.17\n",
      "16.81 $\\pm$ 2.44\n",
      "14.93 $\\pm$ 2.82\n"
     ]
    },
    {
     "name": "stderr",
     "output_type": "stream",
     "text": [
      "<>:5: SyntaxWarning: invalid escape sequence '\\p'\n",
      "<>:5: SyntaxWarning: invalid escape sequence '\\p'\n",
      "C:\\Users\\Mateus\\AppData\\Local\\Temp\\ipykernel_16428\\11286604.py:5: SyntaxWarning: invalid escape sequence '\\p'\n",
      "  print(f\"{df['TWOSTEP_MEAN'][2].round(2):.2f} $\\pm$ {df['TWOSTEP_STD'][2].round(2):.2f}\")\n"
     ]
    }
   ],
   "source": [
    "for dataset in results_list_MLP:\n",
    "    path = dataset+ '/results_0.25.csv'\n",
    "    df = pd.read_csv(path)\n",
    "    #print(f\"{df['TWOSTEP_MEAN'][2])[:5]} $\\pm$ {df['TWOSTEP_STD'][2])[:5]}\")\n",
    "    print(f\"{df['TWOSTEP_MEAN'][2].round(2):.2f} $\\pm$ {df['TWOSTEP_STD'][2].round(2):.2f}\")"
   ]
  },
  {
   "cell_type": "code",
   "execution_count": 5,
   "id": "075a3f34-fbd1-46ee-89d8-052b31dc4270",
   "metadata": {},
   "outputs": [
    {
     "name": "stdout",
     "output_type": "stream",
     "text": [
      "1.44\n",
      "0.37\n",
      "0.87\n",
      "-1.22\n",
      "0.00\n",
      "0.68\n",
      "1.09\n",
      "1.87\n",
      "0.24\n",
      "0.58\n",
      "0.84\n",
      "3.97\n"
     ]
    }
   ],
   "source": [
    "for dataset in results_list_MLP:\n",
    "    path = dataset+ '/results_0.25.csv'\n",
    "    df = pd.read_csv(path)\n",
    "    #print(f\"{df['MEAN_DIFF_%'][2])[:5]}\")\n",
    "    mean_diff = (df['TWOSTEP_MEAN'][2].round(2) - df['ONESTEP_MEAN'][2].round(2))/df['ONESTEP_MEAN'][2].round(2) * 100\n",
    "    print(f\"{mean_diff:.2f}\")"
   ]
  },
  {
   "cell_type": "markdown",
   "id": "5a26d780-8485-4f7e-a8d2-3a2859999d4b",
   "metadata": {},
   "source": [
    "#### 0.50"
   ]
  },
  {
   "cell_type": "code",
   "execution_count": 6,
   "id": "baadca97-afbd-4fb7-913d-1c977a573f76",
   "metadata": {},
   "outputs": [
    {
     "name": "stdout",
     "output_type": "stream",
     "text": [
      "2.14 $\\pm$ 0.63\n",
      "2.73 $\\pm$ 0.27\n",
      "2.33 $\\pm$ 0.29\n",
      "3.23 $\\pm$ 0.63\n",
      "3.87 $\\pm$ 1.36\n",
      "4.44 $\\pm$ 0.59\n",
      "3.70 $\\pm$ 0.80\n",
      "6.03 $\\pm$ 0.79\n",
      "12.32 $\\pm$ 1.08\n",
      "13.82 $\\pm$ 3.10\n",
      "16.96 $\\pm$ 2.17\n",
      "15.17 $\\pm$ 2.51\n"
     ]
    },
    {
     "name": "stderr",
     "output_type": "stream",
     "text": [
      "<>:5: SyntaxWarning: invalid escape sequence '\\p'\n",
      "<>:5: SyntaxWarning: invalid escape sequence '\\p'\n",
      "C:\\Users\\Mateus\\AppData\\Local\\Temp\\ipykernel_16428\\3562356151.py:5: SyntaxWarning: invalid escape sequence '\\p'\n",
      "  print(f\"{df['TWOSTEP_MEAN'][2].round(2):.2f} $\\pm$ {df['TWOSTEP_STD'][2].round(2):.2f}\")\n"
     ]
    }
   ],
   "source": [
    "for dataset in results_list_MLP:\n",
    "    path = dataset+ '/results_0.5.csv'\n",
    "    df = pd.read_csv(path)\n",
    "    #print(f\"{df['TWOSTEP_MEAN'][2])[:5]} $\\pm$ {df['TWOSTEP_STD'][2])[:5]}\")\n",
    "    print(f\"{df['TWOSTEP_MEAN'][2].round(2):.2f} $\\pm$ {df['TWOSTEP_STD'][2].round(2):.2f}\")"
   ]
  },
  {
   "cell_type": "code",
   "execution_count": 7,
   "id": "302a7221-181e-49ca-a96d-5861b4968bc0",
   "metadata": {},
   "outputs": [
    {
     "name": "stdout",
     "output_type": "stream",
     "text": [
      "2.39\n",
      "0.74\n",
      "0.87\n",
      "-1.22\n",
      "0.00\n",
      "0.91\n",
      "0.54\n",
      "2.73\n",
      "0.33\n",
      "0.88\n",
      "1.74\n",
      "5.64\n"
     ]
    }
   ],
   "source": [
    "for dataset in results_list_MLP:\n",
    "    path = dataset+ '/results_0.5.csv'\n",
    "    df = pd.read_csv(path)\n",
    "    #print(f\"{df['MEAN_DIFF_%'][2])[:5]}\")\n",
    "    mean_diff = (df['TWOSTEP_MEAN'][2].round(2) - df['ONESTEP_MEAN'][2].round(2))/df['ONESTEP_MEAN'][2].round(2) * 100\n",
    "    print(f\"{mean_diff:.2f}\")"
   ]
  },
  {
   "cell_type": "markdown",
   "id": "d3de6902-e660-434b-9c39-a849b18e603a",
   "metadata": {},
   "source": [
    "#### 0.75"
   ]
  },
  {
   "cell_type": "code",
   "execution_count": 8,
   "id": "6b99017a-53a8-4ec1-9e4a-8cd3f6581e16",
   "metadata": {},
   "outputs": [
    {
     "name": "stdout",
     "output_type": "stream",
     "text": [
      "2.13 $\\pm$ 0.65\n",
      "2.72 $\\pm$ 0.27\n",
      "2.32 $\\pm$ 0.29\n",
      "3.25 $\\pm$ 0.62\n",
      "3.87 $\\pm$ 1.37\n",
      "4.43 $\\pm$ 0.59\n",
      "3.68 $\\pm$ 0.80\n",
      "6.06 $\\pm$ 0.73\n",
      "12.34 $\\pm$ 1.02\n",
      "13.87 $\\pm$ 3.06\n",
      "17.07 $\\pm$ 2.00\n",
      "15.43 $\\pm$ 2.26\n"
     ]
    },
    {
     "name": "stderr",
     "output_type": "stream",
     "text": [
      "<>:5: SyntaxWarning: invalid escape sequence '\\p'\n",
      "<>:5: SyntaxWarning: invalid escape sequence '\\p'\n",
      "C:\\Users\\Mateus\\AppData\\Local\\Temp\\ipykernel_16428\\3337189914.py:5: SyntaxWarning: invalid escape sequence '\\p'\n",
      "  print(f\"{df['TWOSTEP_MEAN'][2].round(2):.2f} $\\pm$ {df['TWOSTEP_STD'][2].round(2):.2f}\")\n"
     ]
    }
   ],
   "source": [
    "for dataset in results_list_MLP:\n",
    "    path = dataset+ '/results_0.75.csv'\n",
    "    df = pd.read_csv(path)\n",
    "    #print(f\"{df['TWOSTEP_MEAN'][2])[:5]} $\\pm$ {df['TWOSTEP_STD'][2])[:5]}\")\n",
    "    print(f\"{df['TWOSTEP_MEAN'][2].round(2):.2f} $\\pm$ {df['TWOSTEP_STD'][2].round(2):.2f}\")"
   ]
  },
  {
   "cell_type": "code",
   "execution_count": 9,
   "id": "84419b93-15a6-4c3c-ad87-83d329bb671b",
   "metadata": {},
   "outputs": [
    {
     "name": "stdout",
     "output_type": "stream",
     "text": [
      "1.91\n",
      "0.37\n",
      "0.43\n",
      "-0.61\n",
      "0.00\n",
      "0.68\n",
      "0.00\n",
      "3.24\n",
      "0.49\n",
      "1.24\n",
      "2.40\n",
      "7.45\n"
     ]
    }
   ],
   "source": [
    "for dataset in results_list_MLP:\n",
    "    path = dataset+ '/results_0.75.csv'\n",
    "    df = pd.read_csv(path)\n",
    "    #print(f\"{df['MEAN_DIFF_%'][2])[:5]}\")\n",
    "    mean_diff = (df['TWOSTEP_MEAN'][2].round(2) - df['ONESTEP_MEAN'][2].round(2))/df['ONESTEP_MEAN'][2].round(2) * 100\n",
    "    print(f\"{mean_diff:.2f}\")"
   ]
  }
 ],
 "metadata": {
  "kernelspec": {
   "display_name": "Python 3 (ipykernel)",
   "language": "python",
   "name": "python3"
  },
  "language_info": {
   "codemirror_mode": {
    "name": "ipython",
    "version": 3
   },
   "file_extension": ".py",
   "mimetype": "text/x-python",
   "name": "python",
   "nbconvert_exporter": "python",
   "pygments_lexer": "ipython3",
   "version": "3.12.3"
  }
 },
 "nbformat": 4,
 "nbformat_minor": 5
}
