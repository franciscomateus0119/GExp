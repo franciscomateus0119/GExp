{
 "cells": [
  {
   "cell_type": "code",
   "execution_count": null,
   "id": "c2a87596-7f59-444a-8de7-d8deb1648a1c",
   "metadata": {},
   "outputs": [],
   "source": [
    "import pandas as pd\n",
    "import numpy as np"
   ]
  },
  {
   "cell_type": "code",
   "execution_count": null,
   "id": "001ae3a0-1ef4-494c-a435-d9d9529b36fa",
   "metadata": {},
   "outputs": [],
   "source": [
    "results_list_MLP = ['Iris_results',\n",
    "                'Blood_Transfusion_results',\n",
    "                'Banknote_results',\n",
    "                'Modeling_results',\n",
    "                'Column_results',\n",
    "                'Pima_results',\n",
    "                'Glass_results',\n",
    "                'Wine_results',\n",
    "                'Climate_results',\n",
    "                'Parkinson_results',\n",
    "                'Breast_Cancer_results',\n",
    "                'Ionosphere_results',\n",
    "                'Sonar_results']\n",
    "metric = 0 # 0 Time, 1 Size, 2 Rsum, 3 Coverage"
   ]
  },
  {
   "cell_type": "markdown",
   "id": "8f3f2d8e-e3d2-4fd3-af55-692c4f019cd4",
   "metadata": {},
   "source": [
    "### MLP"
   ]
  },
  {
   "cell_type": "markdown",
   "id": "c1473d51-ac8d-408c-89b2-c4d2d6fe2be9",
   "metadata": {},
   "source": [
    "#### 0.25"
   ]
  },
  {
   "cell_type": "code",
   "execution_count": null,
   "id": "d32ad797-e2b7-4153-9595-6381a8e94fca",
   "metadata": {},
   "outputs": [],
   "source": [
    "for dataset in results_list_MLP:\n",
    "    path = dataset+ f'/results_0.25.csv'\n",
    "    df = pd.read_csv(path)\n",
    "    #print(rf\"{df['ONESTEP_MEAN'][metric])[:5]} $\\pm$ {df['ONESTEP_STD'][metric])[:5]}\")\n",
    "    print(rf\"{df['ONESTEP_MEAN'][metric].round(3):.3f} $\\pm$ {df['ONESTEP_STD'][metric].round(3):.3f}\")"
   ]
  },
  {
   "cell_type": "code",
   "execution_count": null,
   "id": "cd52a3c6-7ef7-4fbe-b335-08dd8998561f",
   "metadata": {},
   "outputs": [],
   "source": [
    "for dataset in results_list_MLP:\n",
    "    path = dataset+ f'/results_0.25.csv'\n",
    "    df = pd.read_csv(path)\n",
    "    #print(rf\"{df['TWOSTEP_MEAN'][metric])[:5]} $\\pm$ {df['TWOSTEP_STD'][metric])[:5]}\")\n",
    "    print(rf\"{df['TWOSTEP_MEAN'][metric].round(3):.3f} $\\pm$ {df['TWOSTEP_STD'][metric].round(3):.3f}\")"
   ]
  },
  {
   "cell_type": "code",
   "execution_count": null,
   "id": "075a3f34-fbd1-46ee-89d8-052b31dc4270",
   "metadata": {},
   "outputs": [],
   "source": [
    "for dataset in results_list_MLP:\n",
    "    path = dataset+ f'/results_0.25.csv'\n",
    "    df = pd.read_csv(path)\n",
    "    #print(rf\"{df['MEAN_DIFF_%'][metric])[:5]}\")\n",
    "    mean_diff = (df['TWOSTEP_MEAN'][metric].round(3) - df['ONESTEP_MEAN'][metric].round(3))/df['ONESTEP_MEAN'][metric].round(3) * 100\n",
    "    print(rf\"{mean_diff:.3f}\")"
   ]
  },
  {
   "cell_type": "markdown",
   "id": "5a26d780-8485-4f7e-a8d2-3a2859999d4b",
   "metadata": {},
   "source": [
    "#### 0.50"
   ]
  },
  {
   "cell_type": "code",
   "execution_count": null,
   "id": "baadca97-afbd-4fb7-913d-1c977a573f76",
   "metadata": {},
   "outputs": [],
   "source": [
    "for dataset in results_list_MLP:\n",
    "    path = dataset+ f'/results_0.5.csv'\n",
    "    df = pd.read_csv(path)\n",
    "    #print(rf\"{df['TWOSTEP_MEAN'][metric])[:5]} $\\pm$ {df['TWOSTEP_STD'][metric])[:5]}\")\n",
    "    print(rf\"{df['TWOSTEP_MEAN'][metric].round(3):.3f} $\\pm$ {df['TWOSTEP_STD'][metric].round(3):.3f}\")"
   ]
  },
  {
   "cell_type": "code",
   "execution_count": null,
   "id": "302a7221-181e-49ca-a96d-5861b4968bc0",
   "metadata": {},
   "outputs": [],
   "source": [
    "for dataset in results_list_MLP:\n",
    "    path = dataset+ f'/results_0.5.csv'\n",
    "    df = pd.read_csv(path)\n",
    "    #print(rf\"{df['MEAN_DIFF_%'][metric])[:5]}\")\n",
    "    mean_diff = (df['TWOSTEP_MEAN'][metric].round(3) - df['ONESTEP_MEAN'][metric].round(3))/df['ONESTEP_MEAN'][metric].round(3) * 100\n",
    "    print(rf\"{mean_diff:.3f}\")"
   ]
  },
  {
   "cell_type": "markdown",
   "id": "d3de6902-e660-434b-9c39-a849b18e603a",
   "metadata": {},
   "source": [
    "#### 0.75"
   ]
  },
  {
   "cell_type": "code",
   "execution_count": null,
   "id": "6b99017a-53a8-4ec1-9e4a-8cd3f6581e16",
   "metadata": {},
   "outputs": [],
   "source": [
    "for dataset in results_list_MLP:\n",
    "    path = dataset+ f'/results_0.75.csv'\n",
    "    df = pd.read_csv(path)\n",
    "    #print(rf\"{df['TWOSTEP_MEAN'][metric])[:5]} $\\pm$ {df['TWOSTEP_STD'][metric])[:5]}\")\n",
    "    print(rf\"{df['TWOSTEP_MEAN'][metric].round(3):.3f} $\\pm$ {df['TWOSTEP_STD'][metric].round(3):.3f}\")"
   ]
  },
  {
   "cell_type": "code",
   "execution_count": null,
   "id": "84419b93-15a6-4c3c-ad87-83d329bb671b",
   "metadata": {},
   "outputs": [],
   "source": [
    "for dataset in results_list_MLP:\n",
    "    path = dataset+ f'/results_0.75.csv'\n",
    "    df = pd.read_csv(path)\n",
    "    #print(rf\"{df['MEAN_DIFF_%'][metric])[:5]}\")\n",
    "    mean_diff = (df['TWOSTEP_MEAN'][metric].round(3) - df['ONESTEP_MEAN'][metric].round(3))/df['ONESTEP_MEAN'][metric].round(3) * 100\n",
    "    print(rf\"{mean_diff:.3f}\")"
   ]
  },
  {
   "cell_type": "markdown",
   "id": "648b63cf-10eb-4914-aafe-a2a32ce2d963",
   "metadata": {},
   "source": [
    "#### ALL"
   ]
  },
  {
   "cell_type": "code",
   "execution_count": null,
   "id": "113e49fb-c686-4106-a797-d367d21ddf11",
   "metadata": {},
   "outputs": [],
   "source": [
    "for p in [0.25,0.5,0.75]:\n",
    "    print('\\n')\n",
    "    for dataset in results_list_MLP:\n",
    "        path = dataset+ f'/results_{p}.csv'\n",
    "        df = pd.read_csv(path)\n",
    "        df_onestep = pd.read_csv(dataset+ f'/results_0.25.csv')\n",
    "        mean_diff = (df['TWOSTEP_MEAN'][metric].round(3) - df_onestep['ONESTEP_MEAN'][metric].round(3))/df_onestep['ONESTEP_MEAN'][metric].round(3) * 100\n",
    "        print(rf\"{mean_diff:.2f}\")"
   ]
  },
  {
   "cell_type": "code",
   "execution_count": null,
   "id": "b399814e-7558-451c-a4fa-6ebb85e4b3d5",
   "metadata": {},
   "outputs": [],
   "source": []
  }
 ],
 "metadata": {
  "kernelspec": {
   "display_name": "Python 3 (ipykernel)",
   "language": "python",
   "name": "python3"
  },
  "language_info": {
   "codemirror_mode": {
    "name": "ipython",
    "version": 3
   },
   "file_extension": ".py",
   "mimetype": "text/x-python",
   "name": "python",
   "nbconvert_exporter": "python",
   "pygments_lexer": "ipython3",
   "version": "3.12.3"
  }
 },
 "nbformat": 4,
 "nbformat_minor": 5
}
