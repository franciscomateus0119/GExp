{
 "cells": [
  {
   "cell_type": "code",
   "execution_count": 1,
   "id": "c2a87596-7f59-444a-8de7-d8deb1648a1c",
   "metadata": {},
   "outputs": [],
   "source": [
    "import pandas as pd\n",
    "import numpy as np"
   ]
  },
  {
   "cell_type": "code",
   "execution_count": 2,
   "id": "001ae3a0-1ef4-494c-a435-d9d9529b36fa",
   "metadata": {},
   "outputs": [],
   "source": [
    "results_list_MLP = ['Iris_results',\n",
    "                    'Blood_Transfusion_results',\n",
    "                    'Column_results',\n",
    "                    'Pima_results',\n",
    "                    'Wine_results',\n",
    "                    'Parkinson_results',\n",
    "                    'Breast_Cancer_results',\n",
    "                    'Ionosphere_results'\n",
    "                    ]"
   ]
  },
  {
   "cell_type": "markdown",
   "id": "8f3f2d8e-e3d2-4fd3-af55-692c4f019cd4",
   "metadata": {},
   "source": [
    "### MLP"
   ]
  },
  {
   "cell_type": "markdown",
   "id": "cb72800a-94ca-442b-abe9-6cca95289400",
   "metadata": {},
   "source": [
    "#### 0.25"
   ]
  },
  {
   "cell_type": "code",
   "execution_count": 3,
   "id": "37da533f-2d8d-44dd-82f6-3b0d71efc254",
   "metadata": {},
   "outputs": [
    {
     "name": "stdout",
     "output_type": "stream",
     "text": [
      "19.56 $\\pm$ 14.48\n",
      "149.5 $\\pm$ 113.6\n",
      "12.93 $\\pm$ 13.23\n",
      "7.416 $\\pm$ 8.652\n",
      "1.0 $\\pm$ 0.0\n",
      "1.034 $\\pm$ 0.215\n",
      "1.063 $\\pm$ 0.318\n",
      "1.007 $\\pm$ 0.086\n"
     ]
    },
    {
     "name": "stderr",
     "output_type": "stream",
     "text": [
      "<>:5: SyntaxWarning: invalid escape sequence '\\p'\n",
      "<>:5: SyntaxWarning: invalid escape sequence '\\p'\n",
      "C:\\Users\\Mateus\\AppData\\Local\\Temp\\ipykernel_23348\\3369075343.py:5: SyntaxWarning: invalid escape sequence '\\p'\n",
      "  print(f\"{str(df['ONESTEP_MEAN'][3])[:5]} $\\pm$ {str(df['ONESTEP_STD'][3])[:5]}\")\n"
     ]
    }
   ],
   "source": [
    "for dataset in results_list_MLP:\n",
    "    path = dataset+ '/results_0.25.csv'\n",
    "    df = pd.read_csv(path)\n",
    "    #print(dataset)\n",
    "    print(f\"{str(df['ONESTEP_MEAN'][3])[:5]} $\\pm$ {str(df['ONESTEP_STD'][3])[:5]}\")"
   ]
  },
  {
   "cell_type": "code",
   "execution_count": 4,
   "id": "ba5cdd03-1cb1-48e6-9019-ba365b64394c",
   "metadata": {},
   "outputs": [
    {
     "name": "stdout",
     "output_type": "stream",
     "text": [
      "21.81 $\\pm$ 12.21\n",
      "157.7 $\\pm$ 122.7\n",
      "14.33 $\\pm$ 13.61\n",
      "8.904 $\\pm$ 9.407\n",
      "1.0 $\\pm$ 0.0\n",
      "1.034 $\\pm$ 0.215\n",
      "1.067 $\\pm$ 0.338\n",
      "1.007 $\\pm$ 0.086\n"
     ]
    },
    {
     "name": "stderr",
     "output_type": "stream",
     "text": [
      "<>:4: SyntaxWarning: invalid escape sequence '\\p'\n",
      "<>:4: SyntaxWarning: invalid escape sequence '\\p'\n",
      "C:\\Users\\Mateus\\AppData\\Local\\Temp\\ipykernel_23348\\3838914736.py:4: SyntaxWarning: invalid escape sequence '\\p'\n",
      "  print(f\"{str(df['TWOSTEP_MEAN'][3])[:5]} $\\pm$ {str(df['TWOSTEP_STD'][3])[:5]}\")\n"
     ]
    }
   ],
   "source": [
    "for dataset in results_list_MLP:\n",
    "    path = dataset+ '/results_0.25.csv'\n",
    "    df = pd.read_csv(path)\n",
    "    print(f\"{str(df['TWOSTEP_MEAN'][3])[:5]} $\\pm$ {str(df['TWOSTEP_STD'][3])[:5]}\")"
   ]
  },
  {
   "cell_type": "code",
   "execution_count": 5,
   "id": "56df8a1a-c65d-49ae-8dc9-95558e6b84d4",
   "metadata": {
    "scrolled": true
   },
   "outputs": [
    {
     "name": "stdout",
     "output_type": "stream",
     "text": [
      "11.48\n",
      "5.504\n",
      "10.84\n",
      "20.06\n",
      "0.0\n",
      "0.0\n",
      "0.440\n",
      "0.0\n"
     ]
    }
   ],
   "source": [
    "for dataset in results_list_MLP:\n",
    "    path = dataset+ '/results_0.25.csv'\n",
    "    df = pd.read_csv(path)\n",
    "    print(f\"{str(df['MEAN_DIFF_%'][3])[:5]}\")"
   ]
  },
  {
   "cell_type": "code",
   "execution_count": 6,
   "id": "680806d7-8dca-4c19-ae45-3e127ffc7c48",
   "metadata": {},
   "outputs": [
    {
     "name": "stdout",
     "output_type": "stream",
     "text": [
      "75.14\n",
      "9.639\n",
      "23.58\n",
      "41.13\n",
      "0.0\n",
      "0.340\n",
      "0.390\n",
      "0.0\n"
     ]
    }
   ],
   "source": [
    "for dataset in results_list_MLP:\n",
    "    path = dataset+ '/results_0.25.csv'\n",
    "    df = pd.read_csv(path)\n",
    "    #print(f\"{str(df['POINTWISE_MEAN_%'][3])[:5]} $\\pm$ {str(df['POINTWISE_STD_%'][3])[:5]}\")\n",
    "    print(f\"{str(df['POINTWISE_MEAN_%'][3])[:5]}\")"
   ]
  },
  {
   "cell_type": "markdown",
   "id": "21a47469-1e27-49d0-8be6-2ebae98766d2",
   "metadata": {},
   "source": [
    "#### 0.50"
   ]
  },
  {
   "cell_type": "code",
   "execution_count": 7,
   "id": "715b63a4-7524-4e22-8133-31248ab0b070",
   "metadata": {},
   "outputs": [
    {
     "name": "stdout",
     "output_type": "stream",
     "text": [
      "22.76 $\\pm$ 11.81\n",
      "162.4 $\\pm$ 127.6\n",
      "14.41 $\\pm$ 13.73\n",
      "8.772 $\\pm$ 9.632\n",
      "1.007 $\\pm$ 0.086\n",
      "1.027 $\\pm$ 0.200\n",
      "1.067 $\\pm$ 0.331\n",
      "1.007 $\\pm$ 0.086\n"
     ]
    },
    {
     "name": "stderr",
     "output_type": "stream",
     "text": [
      "<>:4: SyntaxWarning: invalid escape sequence '\\p'\n",
      "<>:4: SyntaxWarning: invalid escape sequence '\\p'\n",
      "C:\\Users\\Mateus\\AppData\\Local\\Temp\\ipykernel_23348\\2528241841.py:4: SyntaxWarning: invalid escape sequence '\\p'\n",
      "  print(f\"{str(df['TWOSTEP_MEAN'][3])[:5]} $\\pm$ {str(df['TWOSTEP_STD'][3])[:5]}\")\n"
     ]
    }
   ],
   "source": [
    "for dataset in results_list_MLP:\n",
    "    path = dataset+ '/results_0.5.csv'\n",
    "    df = pd.read_csv(path)\n",
    "    print(f\"{str(df['TWOSTEP_MEAN'][3])[:5]} $\\pm$ {str(df['TWOSTEP_STD'][3])[:5]}\")"
   ]
  },
  {
   "cell_type": "code",
   "execution_count": 8,
   "id": "319da047-b607-4d8e-b1ff-aa45d7c00d1c",
   "metadata": {
    "scrolled": true
   },
   "outputs": [
    {
     "name": "stdout",
     "output_type": "stream",
     "text": [
      "16.32\n",
      "8.635\n",
      "11.41\n",
      "18.28\n",
      "0.746\n",
      "-0.65\n",
      "0.440\n",
      "0.0\n"
     ]
    }
   ],
   "source": [
    "for dataset in results_list_MLP:\n",
    "    path = dataset+ '/results_0.5.csv'\n",
    "    df = pd.read_csv(path)\n",
    "    print(f\"{str(df['MEAN_DIFF_%'][3])[:5]}\")"
   ]
  },
  {
   "cell_type": "code",
   "execution_count": 9,
   "id": "a6ce2612-77ba-43a8-afa3-0d5e26c34ad7",
   "metadata": {},
   "outputs": [
    {
     "name": "stdout",
     "output_type": "stream",
     "text": [
      "93.83\n",
      "14.04\n",
      "23.53\n",
      "31.43\n",
      "0.746\n",
      "-0.34\n",
      "0.351\n",
      "0.0\n"
     ]
    }
   ],
   "source": [
    "for dataset in results_list_MLP:\n",
    "    path = dataset+ '/results_0.5.csv'\n",
    "    df = pd.read_csv(path)\n",
    "    #print(f\"{str(df['POINTWISE_MEAN_%'][3])[:5]} $\\pm$ {str(df['POINTWISE_STD_%'][3])[:5]}\")\n",
    "    print(f\"{str(df['POINTWISE_MEAN_%'][3])[:5]}\")"
   ]
  },
  {
   "cell_type": "markdown",
   "id": "de60ab52-d1c3-4051-aaff-c48ee11da147",
   "metadata": {},
   "source": [
    "#### 0.75"
   ]
  },
  {
   "cell_type": "code",
   "execution_count": 10,
   "id": "84dd8314-5811-4a87-8f08-24ec39df78e0",
   "metadata": {},
   "outputs": [
    {
     "name": "stdout",
     "output_type": "stream",
     "text": [
      "22.64 $\\pm$ 12.94\n",
      "157.1 $\\pm$ 122.8\n",
      "13.74 $\\pm$ 13.56\n",
      "8.097 $\\pm$ 9.204\n",
      "1.0 $\\pm$ 0.0\n",
      "1.027 $\\pm$ 0.200\n",
      "1.067 $\\pm$ 0.331\n",
      "1.007 $\\pm$ 0.086\n"
     ]
    },
    {
     "name": "stderr",
     "output_type": "stream",
     "text": [
      "<>:4: SyntaxWarning: invalid escape sequence '\\p'\n",
      "<>:4: SyntaxWarning: invalid escape sequence '\\p'\n",
      "C:\\Users\\Mateus\\AppData\\Local\\Temp\\ipykernel_23348\\4084831234.py:4: SyntaxWarning: invalid escape sequence '\\p'\n",
      "  print(f\"{str(df['TWOSTEP_MEAN'][3])[:5]} $\\pm$ {str(df['TWOSTEP_STD'][3])[:5]}\")\n"
     ]
    }
   ],
   "source": [
    "for dataset in results_list_MLP:\n",
    "    path = dataset+ '/results_0.75.csv'\n",
    "    df = pd.read_csv(path)\n",
    "    print(f\"{str(df['TWOSTEP_MEAN'][3])[:5]} $\\pm$ {str(df['TWOSTEP_STD'][3])[:5]}\")"
   ]
  },
  {
   "cell_type": "code",
   "execution_count": 11,
   "id": "4f1647cf-878f-4597-8c74-baedefe17ebe",
   "metadata": {
    "scrolled": true
   },
   "outputs": [
    {
     "name": "stdout",
     "output_type": "stream",
     "text": [
      "15.73\n",
      "5.108\n",
      "6.237\n",
      "9.176\n",
      "0.0\n",
      "-0.65\n",
      "0.440\n",
      "0.0\n"
     ]
    }
   ],
   "source": [
    "for dataset in results_list_MLP:\n",
    "    path = dataset+ '/results_0.75.csv'\n",
    "    df = pd.read_csv(path)\n",
    "    print(f\"{str(df['MEAN_DIFF_%'][3])[:5]}\")"
   ]
  },
  {
   "cell_type": "code",
   "execution_count": 12,
   "id": "8382de55-f3f3-40cc-b97e-9e04f5911c6a",
   "metadata": {},
   "outputs": [
    {
     "name": "stdout",
     "output_type": "stream",
     "text": [
      "73.72\n",
      "8.263\n",
      "11.07\n",
      "12.40\n",
      "0.0\n",
      "-0.34\n",
      "0.351\n",
      "0.0\n"
     ]
    }
   ],
   "source": [
    "for dataset in results_list_MLP:\n",
    "    path = dataset+ '/results_0.75.csv'\n",
    "    df = pd.read_csv(path)\n",
    "    #print(f\"{str(df['POINTWISE_MEAN_%'][3])[:5]} $\\pm$ {str(df['POINTWISE_STD_%'][3])[:5]}\")\n",
    "    print(f\"{str(df['POINTWISE_MEAN_%'][3])[:5]}\")"
   ]
  }
 ],
 "metadata": {
  "kernelspec": {
   "display_name": "Python 3 (ipykernel)",
   "language": "python",
   "name": "python3"
  },
  "language_info": {
   "codemirror_mode": {
    "name": "ipython",
    "version": 3
   },
   "file_extension": ".py",
   "mimetype": "text/x-python",
   "name": "python",
   "nbconvert_exporter": "python",
   "pygments_lexer": "ipython3",
   "version": "3.12.3"
  }
 },
 "nbformat": 4,
 "nbformat_minor": 5
}
