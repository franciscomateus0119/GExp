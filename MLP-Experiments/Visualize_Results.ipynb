{
 "cells": [
  {
   "cell_type": "code",
   "execution_count": 1,
   "id": "c2a87596-7f59-444a-8de7-d8deb1648a1c",
   "metadata": {},
   "outputs": [],
   "source": [
    "import pandas as pd\n",
    "import numpy as np"
   ]
  },
  {
   "cell_type": "code",
   "execution_count": 2,
   "id": "001ae3a0-1ef4-494c-a435-d9d9529b36fa",
   "metadata": {},
   "outputs": [],
   "source": [
    "results_list_MLP = ['Iris_results',\n",
    "                'Blood_Transfusion_results',\n",
    "                'Banknote_results',\n",
    "                'Modeling_results',\n",
    "                'Column_results',\n",
    "                'Pima_results',\n",
    "                'Glass_results',\n",
    "                'Wine_results',\n",
    "                'Climate_results',\n",
    "                'Parkinson_results',\n",
    "                'Breast_Cancer_results',\n",
    "                'Ionosphere_results',]"
   ]
  },
  {
   "cell_type": "markdown",
   "id": "8f3f2d8e-e3d2-4fd3-af55-692c4f019cd4",
   "metadata": {},
   "source": [
    "### MLP"
   ]
  },
  {
   "cell_type": "markdown",
   "id": "cb72800a-94ca-442b-abe9-6cca95289400",
   "metadata": {},
   "source": [
    "#### 0.25"
   ]
  },
  {
   "cell_type": "code",
   "execution_count": 3,
   "id": "37da533f-2d8d-44dd-82f6-3b0d71efc254",
   "metadata": {},
   "outputs": [
    {
     "name": "stdout",
     "output_type": "stream",
     "text": [
      "19.57 $\\pm$ 14.48\n",
      "149.55 $\\pm$ 113.63\n",
      "25.15 $\\pm$ 29.50\n",
      "12.85 $\\pm$ 10.93\n",
      "12.94 $\\pm$ 13.24\n",
      "7.42 $\\pm$ 8.65\n",
      "1.44 $\\pm$ 1.43\n",
      "1.00 $\\pm$ 0.00\n",
      "1.05 $\\pm$ 0.22\n",
      "1.03 $\\pm$ 0.22\n",
      "1.06 $\\pm$ 0.32\n",
      "1.01 $\\pm$ 0.09\n"
     ]
    },
    {
     "name": "stderr",
     "output_type": "stream",
     "text": [
      "<>:6: SyntaxWarning: invalid escape sequence '\\p'\n",
      "<>:6: SyntaxWarning: invalid escape sequence '\\p'\n",
      "C:\\Users\\Mateus\\AppData\\Local\\Temp\\ipykernel_26020\\3061667235.py:6: SyntaxWarning: invalid escape sequence '\\p'\n",
      "  print(f\"{df['ONESTEP_MEAN'][3]:.2f} $\\pm$ {df['ONESTEP_STD'][3]:.2f}\")\n"
     ]
    }
   ],
   "source": [
    "for dataset in results_list_MLP:\n",
    "    path = dataset+ '/results_0.25.csv'\n",
    "    df = pd.read_csv(path)\n",
    "    #print(dataset)\n",
    "    #print(f\"{df['ONESTEP_MEAN'][0])[:5]} $\\pm$ {df['ONESTEP_STD'][0])[:5]}\")\n",
    "    print(f\"{df['ONESTEP_MEAN'][0]:.2f} $\\pm$ {df['ONESTEP_STD'][0]:.2f}\")"
   ]
  },
  {
   "cell_type": "code",
   "execution_count": 4,
   "id": "ba5cdd03-1cb1-48e6-9019-ba365b64394c",
   "metadata": {},
   "outputs": [
    {
     "name": "stdout",
     "output_type": "stream",
     "text": [
      "21.81 $\\pm$ 12.21\n",
      "157.78 $\\pm$ 122.77\n",
      "33.34 $\\pm$ 31.56\n",
      "13.91 $\\pm$ 10.70\n",
      "14.34 $\\pm$ 13.61\n",
      "8.90 $\\pm$ 9.41\n",
      "2.50 $\\pm$ 2.34\n",
      "1.00 $\\pm$ 0.00\n",
      "1.05 $\\pm$ 0.23\n",
      "1.03 $\\pm$ 0.22\n",
      "1.07 $\\pm$ 0.34\n",
      "1.01 $\\pm$ 0.09\n"
     ]
    },
    {
     "name": "stderr",
     "output_type": "stream",
     "text": [
      "<>:5: SyntaxWarning: invalid escape sequence '\\p'\n",
      "<>:5: SyntaxWarning: invalid escape sequence '\\p'\n",
      "C:\\Users\\Mateus\\AppData\\Local\\Temp\\ipykernel_26020\\759317482.py:5: SyntaxWarning: invalid escape sequence '\\p'\n",
      "  print(f\"{df['TWOSTEP_MEAN'][3]:.2f} $\\pm$ {df['TWOSTEP_STD'][3]:.2f}\")\n"
     ]
    }
   ],
   "source": [
    "for dataset in results_list_MLP:\n",
    "    path = dataset+ '/results_0.25.csv'\n",
    "    df = pd.read_csv(path)\n",
    "    #print(f\"{df['TWOSTEP_MEAN'][0])[:5]} $\\pm$ {df['TWOSTEP_STD'][0])[:5]}\")\n",
    "    print(f\"{df['TWOSTEP_MEAN'][0]:.2f} $\\pm$ {df['TWOSTEP_STD'][0]:.2f}\")"
   ]
  },
  {
   "cell_type": "code",
   "execution_count": 5,
   "id": "56df8a1a-c65d-49ae-8dc9-95558e6b84d4",
   "metadata": {
    "scrolled": true
   },
   "outputs": [
    {
     "name": "stdout",
     "output_type": "stream",
     "text": [
      "11.49\n",
      "5.50\n",
      "32.55\n",
      "8.24\n",
      "10.85\n",
      "20.06\n",
      "73.71\n",
      "0.00\n",
      "0.24\n",
      "0.00\n",
      "0.44\n",
      "0.00\n"
     ]
    }
   ],
   "source": [
    "for dataset in results_list_MLP:\n",
    "    path = dataset+ '/results_0.25.csv'\n",
    "    df = pd.read_csv(path)\n",
    "    #print(f\"{df['MEAN_DIFF_%'][0])[:5]}\")\n",
    "    print(f\"{df['MEAN_DIFF_%'][0]:.2f}\")"
   ]
  },
  {
   "cell_type": "code",
   "execution_count": 6,
   "id": "680806d7-8dca-4c19-ae45-3e127ffc7c48",
   "metadata": {},
   "outputs": [],
   "source": [
    "for dataset in results_list_MLP:\n",
    "    path = dataset+ '/results_0.25.csv'\n",
    "    df = pd.read_csv(path)\n",
    "    #print(f\"{str(df['POINTWISE_MEAN_%'][0])[:5]} $\\pm$ {str(df['POINTWISE_STD_%'][0])[:5]}\")\n",
    "    #print(f\"{str(df['POINTWISE_MEAN_%'][0])[:5]}\")"
   ]
  },
  {
   "cell_type": "markdown",
   "id": "21a47469-1e27-49d0-8be6-2ebae98766d2",
   "metadata": {},
   "source": [
    "#### 0.50"
   ]
  },
  {
   "cell_type": "code",
   "execution_count": 7,
   "id": "715b63a4-7524-4e22-8133-31248ab0b070",
   "metadata": {},
   "outputs": [
    {
     "name": "stdout",
     "output_type": "stream",
     "text": [
      "22.76 $\\pm$ 11.81\n",
      "162.46 $\\pm$ 127.68\n",
      "33.85 $\\pm$ 32.21\n",
      "14.46 $\\pm$ 10.99\n",
      "14.41 $\\pm$ 13.73\n",
      "8.77 $\\pm$ 9.63\n",
      "2.24 $\\pm$ 2.11\n",
      "1.01 $\\pm$ 0.09\n",
      "1.05 $\\pm$ 0.23\n",
      "1.03 $\\pm$ 0.20\n",
      "1.07 $\\pm$ 0.33\n",
      "1.01 $\\pm$ 0.09\n"
     ]
    },
    {
     "name": "stderr",
     "output_type": "stream",
     "text": [
      "<>:5: SyntaxWarning: invalid escape sequence '\\p'\n",
      "<>:5: SyntaxWarning: invalid escape sequence '\\p'\n",
      "C:\\Users\\Mateus\\AppData\\Local\\Temp\\ipykernel_26020\\3900578243.py:5: SyntaxWarning: invalid escape sequence '\\p'\n",
      "  print(f\"{df['TWOSTEP_MEAN'][3]:.2f} $\\pm$ {df['TWOSTEP_STD'][3]:.2f}\")\n"
     ]
    }
   ],
   "source": [
    "for dataset in results_list_MLP:\n",
    "    path = dataset+ '/results_0.5.csv'\n",
    "    df = pd.read_csv(path)\n",
    "    #print(f\"{df['TWOSTEP_MEAN'][0])[:5]} $\\pm$ {df['TWOSTEP_STD'][0])[:5]}\")\n",
    "    print(f\"{df['TWOSTEP_MEAN'][0]:.2f} $\\pm$ {df['TWOSTEP_STD'][0]:.2f}\")"
   ]
  },
  {
   "cell_type": "code",
   "execution_count": 8,
   "id": "319da047-b607-4d8e-b1ff-aa45d7c00d1c",
   "metadata": {
    "scrolled": true
   },
   "outputs": [
    {
     "name": "stdout",
     "output_type": "stream",
     "text": [
      "16.33\n",
      "8.64\n",
      "34.59\n",
      "12.48\n",
      "11.41\n",
      "18.28\n",
      "55.67\n",
      "0.75\n",
      "0.24\n",
      "-0.66\n",
      "0.44\n",
      "0.00\n"
     ]
    }
   ],
   "source": [
    "for dataset in results_list_MLP:\n",
    "    path = dataset+ '/results_0.5.csv'\n",
    "    df = pd.read_csv(path)\n",
    "    #print(f\"{df['MEAN_DIFF_%'][0])[:5]}\")\n",
    "    print(f\"{df['MEAN_DIFF_%'][0]:.2f}\")"
   ]
  },
  {
   "cell_type": "code",
   "execution_count": 9,
   "id": "a6ce2612-77ba-43a8-afa3-0d5e26c34ad7",
   "metadata": {},
   "outputs": [],
   "source": [
    "for dataset in results_list_MLP:\n",
    "    path = dataset+ '/results_0.5.csv'\n",
    "    df = pd.read_csv(path)\n",
    "    #print(f\"{str(df['POINTWISE_MEAN_%'][0])[:5]} $\\pm$ {str(df['POINTWISE_STD_%'][0])[:5]}\")\n",
    "    #print(f\"{str(df['POINTWISE_MEAN_%'][0])[:5]}\")"
   ]
  },
  {
   "cell_type": "markdown",
   "id": "de60ab52-d1c3-4051-aaff-c48ee11da147",
   "metadata": {},
   "source": [
    "#### 0.75"
   ]
  },
  {
   "cell_type": "code",
   "execution_count": 10,
   "id": "84dd8314-5811-4a87-8f08-24ec39df78e0",
   "metadata": {},
   "outputs": [
    {
     "name": "stdout",
     "output_type": "stream",
     "text": [
      "22.65 $\\pm$ 12.95\n",
      "157.19 $\\pm$ 122.89\n",
      "31.05 $\\pm$ 31.59\n",
      "14.14 $\\pm$ 10.88\n",
      "13.74 $\\pm$ 13.57\n",
      "8.10 $\\pm$ 9.20\n",
      "1.69 $\\pm$ 1.68\n",
      "1.00 $\\pm$ 0.00\n",
      "1.05 $\\pm$ 0.23\n",
      "1.03 $\\pm$ 0.20\n",
      "1.07 $\\pm$ 0.33\n",
      "1.01 $\\pm$ 0.09\n"
     ]
    },
    {
     "name": "stderr",
     "output_type": "stream",
     "text": [
      "<>:5: SyntaxWarning: invalid escape sequence '\\p'\n",
      "<>:5: SyntaxWarning: invalid escape sequence '\\p'\n",
      "C:\\Users\\Mateus\\AppData\\Local\\Temp\\ipykernel_26020\\1909715411.py:5: SyntaxWarning: invalid escape sequence '\\p'\n",
      "  print(f\"{df['TWOSTEP_MEAN'][3]:.2f} $\\pm$ {df['TWOSTEP_STD'][3]:.2f}\")\n"
     ]
    }
   ],
   "source": [
    "for dataset in results_list_MLP:\n",
    "    path = dataset+ '/results_0.75.csv'\n",
    "    df = pd.read_csv(path)\n",
    "    #print(f\"{df['TWOSTEP_MEAN'][0])[:5]} $\\pm$ {df['TWOSTEP_STD'][0])[:5]}\")\n",
    "    print(f\"{df['TWOSTEP_MEAN'][0]:.2f} $\\pm$ {df['TWOSTEP_STD'][0]:.2f}\")"
   ]
  },
  {
   "cell_type": "code",
   "execution_count": 11,
   "id": "4f1647cf-878f-4597-8c74-baedefe17ebe",
   "metadata": {
    "scrolled": true
   },
   "outputs": [
    {
     "name": "stdout",
     "output_type": "stream",
     "text": [
      "15.74\n",
      "5.11\n",
      "23.43\n",
      "10.04\n",
      "6.24\n",
      "9.18\n",
      "17.53\n",
      "0.00\n",
      "0.24\n",
      "-0.66\n",
      "0.44\n",
      "0.00\n"
     ]
    }
   ],
   "source": [
    "for dataset in results_list_MLP:\n",
    "    path = dataset+ '/results_0.75.csv'\n",
    "    df = pd.read_csv(path)\n",
    "    #print(f\"{df['MEAN_DIFF_%'][0])[:5]}\")\n",
    "    print(f\"{df['MEAN_DIFF_%'][0]:.2f}\")"
   ]
  },
  {
   "cell_type": "code",
   "execution_count": 12,
   "id": "8382de55-f3f3-40cc-b97e-9e04f5911c6a",
   "metadata": {},
   "outputs": [],
   "source": [
    "for dataset in results_list_MLP:\n",
    "    path = dataset+ '/results_0.75.csv'\n",
    "    df = pd.read_csv(path)\n",
    "    #print(f\"{str(df['POINTWISE_MEAN_%'][0])[:5]} $\\pm$ {str(df['POINTWISE_STD_%'][0])[:5]}\")\n",
    "    #print(f\"{str(df['POINTWISE_MEAN_%'][0])[:5]}\")"
   ]
  }
 ],
 "metadata": {
  "kernelspec": {
   "display_name": "Python 3 (ipykernel)",
   "language": "python",
   "name": "python3"
  },
  "language_info": {
   "codemirror_mode": {
    "name": "ipython",
    "version": 3
   },
   "file_extension": ".py",
   "mimetype": "text/x-python",
   "name": "python",
   "nbconvert_exporter": "python",
   "pygments_lexer": "ipython3",
   "version": "3.12.3"
  }
 },
 "nbformat": 4,
 "nbformat_minor": 5
}
