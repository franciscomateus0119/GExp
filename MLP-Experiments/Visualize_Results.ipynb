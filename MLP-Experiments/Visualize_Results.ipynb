{
 "cells": [
  {
   "cell_type": "code",
   "execution_count": 1,
   "id": "c2a87596-7f59-444a-8de7-d8deb1648a1c",
   "metadata": {},
   "outputs": [],
   "source": [
    "import pandas as pd\n",
    "import numpy as np"
   ]
  },
  {
   "cell_type": "code",
   "execution_count": 2,
   "id": "001ae3a0-1ef4-494c-a435-d9d9529b36fa",
   "metadata": {},
   "outputs": [],
   "source": [
    "results_list_MLP = ['Iris_results',\n",
    "                'Blood_Transfusion_results',\n",
    "                'Banknote_results',\n",
    "                'Modeling_results',\n",
    "                'Column_results',\n",
    "                'Pima_results',\n",
    "                'Glass_results',\n",
    "                'Wine_results',\n",
    "                'Climate_results',\n",
    "                'Parkinson_results',\n",
    "                'Breast_Cancer_results',\n",
    "                'Ionosphere_results',]"
   ]
  },
  {
   "cell_type": "markdown",
   "id": "8f3f2d8e-e3d2-4fd3-af55-692c4f019cd4",
   "metadata": {},
   "source": [
    "### MLP"
   ]
  },
  {
   "cell_type": "markdown",
   "id": "cb72800a-94ca-442b-abe9-6cca95289400",
   "metadata": {},
   "source": [
    "#### 0.25"
   ]
  },
  {
   "cell_type": "code",
   "execution_count": 3,
   "id": "37da533f-2d8d-44dd-82f6-3b0d71efc254",
   "metadata": {},
   "outputs": [
    {
     "name": "stdout",
     "output_type": "stream",
     "text": [
      "2.09 $\\pm$ 0.69\n",
      "2.71 $\\pm$ 0.27\n",
      "2.31 $\\pm$ 0.29\n",
      "3.27 $\\pm$ 0.65\n",
      "3.87 $\\pm$ 1.37\n",
      "4.40 $\\pm$ 0.60\n",
      "3.68 $\\pm$ 0.78\n",
      "5.87 $\\pm$ 1.13\n",
      "12.28 $\\pm$ 1.17\n",
      "13.70 $\\pm$ 3.20\n",
      "16.67 $\\pm$ 2.76\n",
      "14.36 $\\pm$ 3.43\n"
     ]
    },
    {
     "name": "stderr",
     "output_type": "stream",
     "text": [
      "<>:6: SyntaxWarning: invalid escape sequence '\\p'\n",
      "<>:6: SyntaxWarning: invalid escape sequence '\\p'\n",
      "C:\\Users\\Mateus\\AppData\\Local\\Temp\\ipykernel_28652\\165343524.py:6: SyntaxWarning: invalid escape sequence '\\p'\n",
      "  print(f\"{df['ONESTEP_MEAN'][2]:.2f} $\\pm$ {df['ONESTEP_STD'][2]:.2f}\")\n"
     ]
    }
   ],
   "source": [
    "for dataset in results_list_MLP:\n",
    "    path = dataset+ '/results_0.25.csv'\n",
    "    df = pd.read_csv(path)\n",
    "    #print(dataset)\n",
    "    #print(f\"{df['ONESTEP_MEAN'][2])[:5]} $\\pm$ {df['ONESTEP_STD'][2])[:5]}\")\n",
    "    print(f\"{df['ONESTEP_MEAN'][2]:.2f} $\\pm$ {df['ONESTEP_STD'][2]:.2f}\")"
   ]
  },
  {
   "cell_type": "code",
   "execution_count": 4,
   "id": "ba5cdd03-1cb1-48e6-9019-ba365b64394c",
   "metadata": {},
   "outputs": [
    {
     "name": "stdout",
     "output_type": "stream",
     "text": [
      "2.12 $\\pm$ 0.65\n",
      "2.72 $\\pm$ 0.27\n",
      "2.33 $\\pm$ 0.29\n",
      "3.23 $\\pm$ 0.64\n",
      "3.87 $\\pm$ 1.36\n",
      "4.43 $\\pm$ 0.59\n",
      "3.72 $\\pm$ 0.78\n",
      "5.98 $\\pm$ 0.92\n",
      "12.31 $\\pm$ 1.11\n",
      "13.78 $\\pm$ 3.17\n",
      "16.81 $\\pm$ 2.44\n",
      "14.93 $\\pm$ 2.82\n"
     ]
    },
    {
     "name": "stderr",
     "output_type": "stream",
     "text": [
      "<>:5: SyntaxWarning: invalid escape sequence '\\p'\n",
      "<>:5: SyntaxWarning: invalid escape sequence '\\p'\n",
      "C:\\Users\\Mateus\\AppData\\Local\\Temp\\ipykernel_28652\\2010396934.py:5: SyntaxWarning: invalid escape sequence '\\p'\n",
      "  print(f\"{df['TWOSTEP_MEAN'][2]:.2f} $\\pm$ {df['TWOSTEP_STD'][2]:.2f}\")\n"
     ]
    }
   ],
   "source": [
    "for dataset in results_list_MLP:\n",
    "    path = dataset+ '/results_0.25.csv'\n",
    "    df = pd.read_csv(path)\n",
    "    #print(f\"{df['TWOSTEP_MEAN'][2])[:5]} $\\pm$ {df['TWOSTEP_STD'][2])[:5]}\")\n",
    "    print(f\"{df['TWOSTEP_MEAN'][2]:.2f} $\\pm$ {df['TWOSTEP_STD'][2]:.2f}\")"
   ]
  },
  {
   "cell_type": "code",
   "execution_count": 5,
   "id": "56df8a1a-c65d-49ae-8dc9-95558e6b84d4",
   "metadata": {
    "scrolled": true
   },
   "outputs": [
    {
     "name": "stdout",
     "output_type": "stream",
     "text": [
      "1.49\n",
      "0.48\n",
      "0.56\n",
      "-1.22\n",
      "0.10\n",
      "0.58\n",
      "1.01\n",
      "1.90\n",
      "0.23\n",
      "0.56\n",
      "0.83\n",
      "3.94\n"
     ]
    }
   ],
   "source": [
    "for dataset in results_list_MLP:\n",
    "    path = dataset+ '/results_0.25.csv'\n",
    "    df = pd.read_csv(path)\n",
    "    #print(f\"{df['MEAN_DIFF_%'][2])[:5]}\")\n",
    "    print(f\"{df['MEAN_DIFF_%'][2]:.2f}\")"
   ]
  },
  {
   "cell_type": "code",
   "execution_count": 6,
   "id": "680806d7-8dca-4c19-ae45-3e127ffc7c48",
   "metadata": {},
   "outputs": [],
   "source": [
    "for dataset in results_list_MLP:\n",
    "    path = dataset+ '/results_0.25.csv'\n",
    "    df = pd.read_csv(path)\n",
    "    #print(f\"{str(df['POINTWISE_MEAN_%'][2])[:5]} $\\pm$ {str(df['POINTWISE_STD_%'][2])[:5]}\")\n",
    "    #print(f\"{str(df['POINTWISE_MEAN_%'][2])[:5]}\")"
   ]
  },
  {
   "cell_type": "markdown",
   "id": "21a47469-1e27-49d0-8be6-2ebae98766d2",
   "metadata": {},
   "source": [
    "#### 0.50"
   ]
  },
  {
   "cell_type": "code",
   "execution_count": 7,
   "id": "715b63a4-7524-4e22-8133-31248ab0b070",
   "metadata": {},
   "outputs": [
    {
     "name": "stdout",
     "output_type": "stream",
     "text": [
      "2.14 $\\pm$ 0.63\n",
      "2.73 $\\pm$ 0.27\n",
      "2.33 $\\pm$ 0.29\n",
      "3.23 $\\pm$ 0.63\n",
      "3.87 $\\pm$ 1.36\n",
      "4.44 $\\pm$ 0.59\n",
      "3.70 $\\pm$ 0.80\n",
      "6.03 $\\pm$ 0.79\n",
      "12.32 $\\pm$ 1.08\n",
      "13.82 $\\pm$ 3.10\n",
      "16.96 $\\pm$ 2.17\n",
      "15.17 $\\pm$ 2.51\n"
     ]
    },
    {
     "name": "stderr",
     "output_type": "stream",
     "text": [
      "<>:5: SyntaxWarning: invalid escape sequence '\\p'\n",
      "<>:5: SyntaxWarning: invalid escape sequence '\\p'\n",
      "C:\\Users\\Mateus\\AppData\\Local\\Temp\\ipykernel_28652\\1516539924.py:5: SyntaxWarning: invalid escape sequence '\\p'\n",
      "  print(f\"{df['TWOSTEP_MEAN'][2]:.2f} $\\pm$ {df['TWOSTEP_STD'][2]:.2f}\")\n"
     ]
    }
   ],
   "source": [
    "for dataset in results_list_MLP:\n",
    "    path = dataset+ '/results_0.5.csv'\n",
    "    df = pd.read_csv(path)\n",
    "    #print(f\"{df['TWOSTEP_MEAN'][2])[:5]} $\\pm$ {df['TWOSTEP_STD'][2])[:5]}\")\n",
    "    print(f\"{df['TWOSTEP_MEAN'][2]:.2f} $\\pm$ {df['TWOSTEP_STD'][2]:.2f}\")"
   ]
  },
  {
   "cell_type": "code",
   "execution_count": 8,
   "id": "319da047-b607-4d8e-b1ff-aa45d7c00d1c",
   "metadata": {
    "scrolled": true
   },
   "outputs": [
    {
     "name": "stdout",
     "output_type": "stream",
     "text": [
      "2.47\n",
      "0.62\n",
      "0.56\n",
      "-1.23\n",
      "0.14\n",
      "0.80\n",
      "0.43\n",
      "2.61\n",
      "0.30\n",
      "0.83\n",
      "1.74\n",
      "5.62\n"
     ]
    }
   ],
   "source": [
    "for dataset in results_list_MLP:\n",
    "    path = dataset+ '/results_0.5.csv'\n",
    "    df = pd.read_csv(path)\n",
    "    #print(f\"{df['MEAN_DIFF_%'][2])[:5]}\")\n",
    "    print(f\"{df['MEAN_DIFF_%'][2]:.2f}\")"
   ]
  },
  {
   "cell_type": "code",
   "execution_count": 9,
   "id": "a6ce2612-77ba-43a8-afa3-0d5e26c34ad7",
   "metadata": {},
   "outputs": [],
   "source": [
    "for dataset in results_list_MLP:\n",
    "    path = dataset+ '/results_0.5.csv'\n",
    "    df = pd.read_csv(path)\n",
    "    #print(f\"{str(df['POINTWISE_MEAN_%'][2])[:5]} $\\pm$ {str(df['POINTWISE_STD_%'][2])[:5]}\")\n",
    "    #print(f\"{str(df['POINTWISE_MEAN_%'][2])[:5]}\")"
   ]
  },
  {
   "cell_type": "markdown",
   "id": "de60ab52-d1c3-4051-aaff-c48ee11da147",
   "metadata": {},
   "source": [
    "#### 0.75"
   ]
  },
  {
   "cell_type": "code",
   "execution_count": 10,
   "id": "84dd8314-5811-4a87-8f08-24ec39df78e0",
   "metadata": {
    "scrolled": true
   },
   "outputs": [
    {
     "name": "stdout",
     "output_type": "stream",
     "text": [
      "2.13 $\\pm$ 0.65\n",
      "2.72 $\\pm$ 0.27\n",
      "2.32 $\\pm$ 0.29\n",
      "3.25 $\\pm$ 0.62\n",
      "3.87 $\\pm$ 1.37\n",
      "4.43 $\\pm$ 0.59\n",
      "3.68 $\\pm$ 0.80\n",
      "6.06 $\\pm$ 0.73\n",
      "12.34 $\\pm$ 1.02\n",
      "13.87 $\\pm$ 3.06\n",
      "17.07 $\\pm$ 2.00\n",
      "15.43 $\\pm$ 2.26\n"
     ]
    },
    {
     "name": "stderr",
     "output_type": "stream",
     "text": [
      "<>:5: SyntaxWarning: invalid escape sequence '\\p'\n",
      "<>:5: SyntaxWarning: invalid escape sequence '\\p'\n",
      "C:\\Users\\Mateus\\AppData\\Local\\Temp\\ipykernel_28652\\519960214.py:5: SyntaxWarning: invalid escape sequence '\\p'\n",
      "  print(f\"{df['TWOSTEP_MEAN'][2]:.2f} $\\pm$ {df['TWOSTEP_STD'][2]:.2f}\")\n"
     ]
    }
   ],
   "source": [
    "for dataset in results_list_MLP:\n",
    "    path = dataset+ '/results_0.75.csv'\n",
    "    df = pd.read_csv(path)\n",
    "    #print(f\"{df['TWOSTEP_MEAN'][2])[:5]} $\\pm$ {df['TWOSTEP_STD'][2])[:5]}\")\n",
    "    print(f\"{df['TWOSTEP_MEAN'][2]:.2f} $\\pm$ {df['TWOSTEP_STD'][2]:.2f}\")"
   ]
  },
  {
   "cell_type": "code",
   "execution_count": 11,
   "id": "4f1647cf-878f-4597-8c74-baedefe17ebe",
   "metadata": {
    "scrolled": true
   },
   "outputs": [
    {
     "name": "stdout",
     "output_type": "stream",
     "text": [
      "1.99\n",
      "0.46\n",
      "0.32\n",
      "-0.58\n",
      "0.10\n",
      "0.60\n",
      "-0.02\n",
      "3.18\n",
      "0.52\n",
      "1.20\n",
      "2.43\n",
      "7.42\n"
     ]
    }
   ],
   "source": [
    "for dataset in results_list_MLP:\n",
    "    path = dataset+ '/results_0.75.csv'\n",
    "    df = pd.read_csv(path)\n",
    "    #print(f\"{df['MEAN_DIFF_%'][2])[:5]}\")\n",
    "    print(f\"{df['MEAN_DIFF_%'][2]:.2f}\")"
   ]
  },
  {
   "cell_type": "code",
   "execution_count": 12,
   "id": "8382de55-f3f3-40cc-b97e-9e04f5911c6a",
   "metadata": {},
   "outputs": [],
   "source": [
    "for dataset in results_list_MLP:\n",
    "    path = dataset+ '/results_0.75.csv'\n",
    "    df = pd.read_csv(path)\n",
    "    #print(f\"{str(df['POINTWISE_MEAN_%'][2])[:5]} $\\pm$ {str(df['POINTWISE_STD_%'][2])[:5]}\")\n",
    "    #print(f\"{str(df['POINTWISE_MEAN_%'][2])[:5]}\")"
   ]
  }
 ],
 "metadata": {
  "kernelspec": {
   "display_name": "Python 3 (ipykernel)",
   "language": "python",
   "name": "python3"
  },
  "language_info": {
   "codemirror_mode": {
    "name": "ipython",
    "version": 3
   },
   "file_extension": ".py",
   "mimetype": "text/x-python",
   "name": "python",
   "nbconvert_exporter": "python",
   "pygments_lexer": "ipython3",
   "version": "3.12.3"
  }
 },
 "nbformat": 4,
 "nbformat_minor": 5
}
