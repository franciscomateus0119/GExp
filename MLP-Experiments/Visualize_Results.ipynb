{
 "cells": [
  {
   "cell_type": "code",
   "execution_count": 1,
   "id": "c2a87596-7f59-444a-8de7-d8deb1648a1c",
   "metadata": {},
   "outputs": [],
   "source": [
    "import pandas as pd\n",
    "import numpy as np"
   ]
  },
  {
   "cell_type": "code",
   "execution_count": 2,
   "id": "001ae3a0-1ef4-494c-a435-d9d9529b36fa",
   "metadata": {},
   "outputs": [],
   "source": [
    "results_list_MLP = ['Iris_results',\n",
    "                'Blood_Transfusion_results',\n",
    "                'Banknote_results',\n",
    "                'Modeling_results',\n",
    "                'Column_results',\n",
    "                'Pima_results',\n",
    "                'Glass_results',\n",
    "                'Wine_results',\n",
    "                'Climate_results',\n",
    "                'Parkinson_results',\n",
    "                'Breast_Cancer_results',\n",
    "                'Ionosphere_results',\n",
    "                'Sonar_results']\n",
    "metric = 0 # 0 Time, 1 Size, 2 Rsum, 3 Coverage"
   ]
  },
  {
   "cell_type": "markdown",
   "id": "8f3f2d8e-e3d2-4fd3-af55-692c4f019cd4",
   "metadata": {},
   "source": [
    "### MLP"
   ]
  },
  {
   "cell_type": "markdown",
   "id": "c1473d51-ac8d-408c-89b2-c4d2d6fe2be9",
   "metadata": {},
   "source": [
    "#### 0.25"
   ]
  },
  {
   "cell_type": "code",
   "execution_count": 3,
   "id": "d32ad797-e2b7-4153-9595-6381a8e94fca",
   "metadata": {},
   "outputs": [
    {
     "name": "stdout",
     "output_type": "stream",
     "text": [
      "0.163 $\\pm$ 0.018\n",
      "0.136 $\\pm$ 0.015\n",
      "0.157 $\\pm$ 0.016\n",
      "0.177 $\\pm$ 0.021\n",
      "0.184 $\\pm$ 0.022\n",
      "0.264 $\\pm$ 0.065\n",
      "0.336 $\\pm$ 0.066\n",
      "0.453 $\\pm$ 0.062\n",
      "0.534 $\\pm$ 0.120\n",
      "0.803 $\\pm$ 0.137\n",
      "1.696 $\\pm$ 0.345\n",
      "1.941 $\\pm$ 0.750\n",
      "55.806 $\\pm$ 58.496\n"
     ]
    }
   ],
   "source": [
    "for dataset in results_list_MLP:\n",
    "    path = dataset+ f'/results_0.25.csv'\n",
    "    df = pd.read_csv(path)\n",
    "    #print(rf\"{df['ONESTEP_MEAN'][metric])[:5]} $\\pm$ {df['ONESTEP_STD'][metric])[:5]}\")\n",
    "    print(rf\"{df['ONESTEP_MEAN'][metric].round(3):.3f} $\\pm$ {df['ONESTEP_STD'][metric].round(3):.3f}\")"
   ]
  },
  {
   "cell_type": "code",
   "execution_count": 4,
   "id": "cd52a3c6-7ef7-4fbe-b335-08dd8998561f",
   "metadata": {},
   "outputs": [
    {
     "name": "stdout",
     "output_type": "stream",
     "text": [
      "0.210 $\\pm$ 0.042\n",
      "0.156 $\\pm$ 0.020\n",
      "0.196 $\\pm$ 0.026\n",
      "0.227 $\\pm$ 0.042\n",
      "0.243 $\\pm$ 0.046\n",
      "0.379 $\\pm$ 0.167\n",
      "0.523 $\\pm$ 0.117\n",
      "0.706 $\\pm$ 0.093\n",
      "0.810 $\\pm$ 0.181\n",
      "1.306 $\\pm$ 0.276\n",
      "3.025 $\\pm$ 0.558\n",
      "4.024 $\\pm$ 1.220\n",
      "125.712 $\\pm$ 99.375\n"
     ]
    }
   ],
   "source": [
    "for dataset in results_list_MLP:\n",
    "    path = dataset+ f'/results_0.25.csv'\n",
    "    df = pd.read_csv(path)\n",
    "    #print(rf\"{df['TWOSTEP_MEAN'][metric])[:5]} $\\pm$ {df['TWOSTEP_STD'][metric])[:5]}\")\n",
    "    print(rf\"{df['TWOSTEP_MEAN'][metric].round(3):.3f} $\\pm$ {df['TWOSTEP_STD'][metric].round(3):.3f}\")"
   ]
  },
  {
   "cell_type": "code",
   "execution_count": 5,
   "id": "075a3f34-fbd1-46ee-89d8-052b31dc4270",
   "metadata": {},
   "outputs": [
    {
     "name": "stdout",
     "output_type": "stream",
     "text": [
      "28.834\n",
      "14.706\n",
      "24.841\n",
      "28.249\n",
      "32.065\n",
      "43.561\n",
      "55.655\n",
      "55.850\n",
      "51.685\n",
      "62.640\n",
      "78.361\n",
      "107.316\n",
      "125.266\n"
     ]
    }
   ],
   "source": [
    "for dataset in results_list_MLP:\n",
    "    path = dataset+ f'/results_0.25.csv'\n",
    "    df = pd.read_csv(path)\n",
    "    #print(rf\"{df['MEAN_DIFF_%'][metric])[:5]}\")\n",
    "    mean_diff = (df['TWOSTEP_MEAN'][metric].round(3) - df['ONESTEP_MEAN'][metric].round(3))/df['ONESTEP_MEAN'][metric].round(3) * 100\n",
    "    print(rf\"{mean_diff:.3f}\")"
   ]
  },
  {
   "cell_type": "markdown",
   "id": "5a26d780-8485-4f7e-a8d2-3a2859999d4b",
   "metadata": {},
   "source": [
    "#### 0.50"
   ]
  },
  {
   "cell_type": "code",
   "execution_count": 6,
   "id": "baadca97-afbd-4fb7-913d-1c977a573f76",
   "metadata": {},
   "outputs": [
    {
     "name": "stdout",
     "output_type": "stream",
     "text": [
      "0.205 $\\pm$ 0.033\n",
      "0.156 $\\pm$ 0.018\n",
      "0.200 $\\pm$ 0.026\n",
      "0.233 $\\pm$ 0.045\n",
      "0.240 $\\pm$ 0.035\n",
      "0.390 $\\pm$ 0.076\n",
      "0.501 $\\pm$ 0.102\n",
      "0.707 $\\pm$ 0.064\n",
      "0.837 $\\pm$ 0.272\n",
      "1.389 $\\pm$ 0.328\n",
      "3.197 $\\pm$ 0.620\n",
      "4.555 $\\pm$ 1.642\n",
      "190.586 $\\pm$ 143.844\n"
     ]
    }
   ],
   "source": [
    "for dataset in results_list_MLP:\n",
    "    path = dataset+ f'/results_0.5.csv'\n",
    "    df = pd.read_csv(path)\n",
    "    #print(rf\"{df['TWOSTEP_MEAN'][metric])[:5]} $\\pm$ {df['TWOSTEP_STD'][metric])[:5]}\")\n",
    "    print(rf\"{df['TWOSTEP_MEAN'][metric].round(3):.3f} $\\pm$ {df['TWOSTEP_STD'][metric].round(3):.3f}\")"
   ]
  },
  {
   "cell_type": "code",
   "execution_count": 7,
   "id": "302a7221-181e-49ca-a96d-5861b4968bc0",
   "metadata": {},
   "outputs": [
    {
     "name": "stdout",
     "output_type": "stream",
     "text": [
      "21.302\n",
      "13.869\n",
      "26.582\n",
      "32.386\n",
      "26.984\n",
      "48.289\n",
      "54.154\n",
      "62.903\n",
      "58.523\n",
      "71.059\n",
      "93.523\n",
      "141.005\n",
      "245.459\n"
     ]
    }
   ],
   "source": [
    "for dataset in results_list_MLP:\n",
    "    path = dataset+ f'/results_0.5.csv'\n",
    "    df = pd.read_csv(path)\n",
    "    #print(rf\"{df['MEAN_DIFF_%'][metric])[:5]}\")\n",
    "    mean_diff = (df['TWOSTEP_MEAN'][metric].round(3) - df['ONESTEP_MEAN'][metric].round(3))/df['ONESTEP_MEAN'][metric].round(3) * 100\n",
    "    print(rf\"{mean_diff:.3f}\")"
   ]
  },
  {
   "cell_type": "markdown",
   "id": "d3de6902-e660-434b-9c39-a849b18e603a",
   "metadata": {},
   "source": [
    "#### 0.75"
   ]
  },
  {
   "cell_type": "code",
   "execution_count": 8,
   "id": "6b99017a-53a8-4ec1-9e4a-8cd3f6581e16",
   "metadata": {},
   "outputs": [
    {
     "name": "stdout",
     "output_type": "stream",
     "text": [
      "0.210 $\\pm$ 0.036\n",
      "0.158 $\\pm$ 0.022\n",
      "0.197 $\\pm$ 0.028\n",
      "0.236 $\\pm$ 0.048\n",
      "0.244 $\\pm$ 0.041\n",
      "0.386 $\\pm$ 0.068\n",
      "0.511 $\\pm$ 0.146\n",
      "0.713 $\\pm$ 0.065\n",
      "0.804 $\\pm$ 0.129\n",
      "1.397 $\\pm$ 0.349\n",
      "3.421 $\\pm$ 0.732\n",
      "4.949 $\\pm$ 1.710\n",
      "253.226 $\\pm$ 189.480\n"
     ]
    }
   ],
   "source": [
    "for dataset in results_list_MLP:\n",
    "    path = dataset+ f'/results_0.75.csv'\n",
    "    df = pd.read_csv(path)\n",
    "    #print(rf\"{df['TWOSTEP_MEAN'][metric])[:5]} $\\pm$ {df['TWOSTEP_STD'][metric])[:5]}\")\n",
    "    print(rf\"{df['TWOSTEP_MEAN'][metric].round(3):.3f} $\\pm$ {df['TWOSTEP_STD'][metric].round(3):.3f}\")"
   ]
  },
  {
   "cell_type": "code",
   "execution_count": 9,
   "id": "84419b93-15a6-4c3c-ad87-83d329bb671b",
   "metadata": {},
   "outputs": [
    {
     "name": "stdout",
     "output_type": "stream",
     "text": [
      "26.506\n",
      "14.493\n",
      "25.478\n",
      "33.333\n",
      "28.421\n",
      "47.328\n",
      "50.294\n",
      "63.158\n",
      "58.580\n",
      "74.625\n",
      "79.769\n",
      "155.762\n",
      "349.596\n"
     ]
    }
   ],
   "source": [
    "for dataset in results_list_MLP:\n",
    "    path = dataset+ f'/results_0.75.csv'\n",
    "    df = pd.read_csv(path)\n",
    "    #print(rf\"{df['MEAN_DIFF_%'][metric])[:5]}\")\n",
    "    mean_diff = (df['TWOSTEP_MEAN'][metric].round(3) - df['ONESTEP_MEAN'][metric].round(3))/df['ONESTEP_MEAN'][metric].round(3) * 100\n",
    "    print(rf\"{mean_diff:.3f}\")"
   ]
  },
  {
   "cell_type": "markdown",
   "id": "648b63cf-10eb-4914-aafe-a2a32ce2d963",
   "metadata": {},
   "source": [
    "#### ALL"
   ]
  },
  {
   "cell_type": "code",
   "execution_count": 11,
   "id": "113e49fb-c686-4106-a797-d367d21ddf11",
   "metadata": {},
   "outputs": [
    {
     "name": "stdout",
     "output_type": "stream",
     "text": [
      "\n",
      "\n",
      "28.83\n",
      "14.71\n",
      "24.84\n",
      "28.25\n",
      "32.07\n",
      "43.56\n",
      "55.65\n",
      "55.85\n",
      "51.69\n",
      "62.64\n",
      "78.36\n",
      "107.32\n",
      "125.27\n",
      "\n",
      "\n",
      "25.77\n",
      "14.71\n",
      "27.39\n",
      "31.64\n",
      "30.43\n",
      "47.73\n",
      "49.11\n",
      "56.07\n",
      "56.74\n",
      "72.98\n",
      "88.50\n",
      "134.67\n",
      "241.52\n",
      "\n",
      "\n",
      "28.83\n",
      "16.18\n",
      "25.48\n",
      "33.33\n",
      "32.61\n",
      "46.21\n",
      "52.08\n",
      "57.40\n",
      "50.56\n",
      "73.97\n",
      "101.71\n",
      "154.97\n",
      "353.76\n"
     ]
    }
   ],
   "source": [
    "for p in [0.25,0.5,0.75]:\n",
    "    print('\\n')\n",
    "    for dataset in results_list_MLP:\n",
    "        path = dataset+ f'/results_{p}.csv'\n",
    "        df = pd.read_csv(path)\n",
    "        df_onestep = pd.read_csv(dataset+ f'/results_0.25.csv')\n",
    "        mean_diff = (df['TWOSTEP_MEAN'][metric].round(3) - df_onestep['ONESTEP_MEAN'][metric].round(3))/df_onestep['ONESTEP_MEAN'][metric].round(3) * 100\n",
    "        print(rf\"{mean_diff:.2f}\")"
   ]
  },
  {
   "cell_type": "code",
   "execution_count": null,
   "id": "b399814e-7558-451c-a4fa-6ebb85e4b3d5",
   "metadata": {},
   "outputs": [],
   "source": []
  }
 ],
 "metadata": {
  "kernelspec": {
   "display_name": "Python 3 (ipykernel)",
   "language": "python",
   "name": "python3"
  },
  "language_info": {
   "codemirror_mode": {
    "name": "ipython",
    "version": 3
   },
   "file_extension": ".py",
   "mimetype": "text/x-python",
   "name": "python",
   "nbconvert_exporter": "python",
   "pygments_lexer": "ipython3",
   "version": "3.12.3"
  }
 },
 "nbformat": 4,
 "nbformat_minor": 5
}
