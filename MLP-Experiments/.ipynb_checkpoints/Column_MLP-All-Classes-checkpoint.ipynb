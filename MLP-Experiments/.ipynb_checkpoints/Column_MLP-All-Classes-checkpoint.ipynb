{
 "cells": [
  {
   "cell_type": "code",
   "execution_count": null,
   "id": "a50f05f7-5f70-44e3-a154-d448a34155d6",
   "metadata": {
    "tags": []
   },
   "outputs": [],
   "source": [
    "import docplex\n",
    "import pandas as pd\n",
    "import tensorflow as tf\n",
    "import numpy as np\n",
    "import utility\n",
    "import copy\n",
    "import mlp_explainer\n",
    "import mymetrics\n",
    "from sklearn.preprocessing import MinMaxScaler\n",
    "from sklearn import datasets\n",
    "from sklearn.model_selection import train_test_split\n",
    "from milp import codify_network\n",
    "from teste import get_minimal_explanation\n",
    "from sklearn import metrics\n",
    "import time\n",
    "import dataframe_image as dfi"
   ]
  },
  {
   "cell_type": "code",
   "execution_count": null,
   "id": "51b77688-1364-4f79-b3b1-9f30f5fba025",
   "metadata": {
    "tags": []
   },
   "outputs": [],
   "source": [
    "#Column Dataset\n",
    "df = pd.read_csv('./datasets/column_2C.dat', sep=\" \", names=['pelvic_incidence', 'pelvic_tilt', 'lumbar_lordosis_angle', 'sacral_slope', 'pelvic_radius', 'degree_spondylolisthesis','target'])\n",
    "df['target']=np.where(df['target']=='AB',1,0)\n",
    "\n",
    "scaler = MinMaxScaler()\n",
    "scaler.fit(df.values[:, :-1])\n",
    "scaled_df = scaler.transform(df.values[:, :-1])\n",
    "lower_bound = scaled_df.min()\n",
    "upper_bound = scaled_df.max()\n",
    "print(lower_bound, upper_bound)\n",
    "df_scaled = pd.DataFrame(scaled_df, columns=df.columns[:-1])\n",
    "targets = (utility.check_targets_0_1(df.values[:,-1])).astype(np.int32)\n",
    "df_scaled['target'] = targets\n",
    "columns = df_scaled.columns\n",
    "dir_path = 'Column'\n",
    "dataset_name = 'Column'\n",
    "display(df_scaled)"
   ]
  },
  {
   "cell_type": "code",
   "execution_count": null,
   "id": "482f0ed7-ffeb-4f9b-a7d1-4590caa730d0",
   "metadata": {
    "tags": []
   },
   "outputs": [],
   "source": [
    "X_train, X_test, y_train, y_test = train_test_split(scaled_df, targets, test_size=0.3,random_state=50,stratify=targets)\n",
    "X = np.concatenate((X_train,X_test),axis=0)\n",
    "y = np.concatenate((y_train,y_test),axis=0)\n",
    "\n",
    "training_data = pd.DataFrame(X_train, columns = columns[:-1])\n",
    "training_data[columns[-1]] = y_train\n",
    "testing_data = pd.DataFrame(X_test, columns = columns[:-1])\n",
    "testing_data[columns[-1]] = y_test\n",
    "dataframe = pd.concat([training_data, testing_data])\n",
    "data = dataframe.to_numpy()\n",
    "n_classes = dataframe['target'].nunique()\n",
    "\n",
    "original_bounds = [[dataframe[dataframe.columns[i]].min(),dataframe[dataframe.columns[i]].max()] for i in range(len(dataframe.columns[:-1]))]\n",
    "keras_model = tf.keras.models.load_model(f'new_models/{dataset_name}.h5')"
   ]
  },
  {
   "cell_type": "code",
   "execution_count": null,
   "id": "f0271f8c-4ee7-440b-81c8-f6cbb73cbdc5",
   "metadata": {
    "tags": []
   },
   "outputs": [],
   "source": [
    "mp_model, output_bounds = codify_network(keras_model, dataframe, 'fischetti', relax_constraints=False)"
   ]
  },
  {
   "cell_type": "code",
   "execution_count": null,
   "id": "df0fdeab-f0c7-4079-ae50-b90a8262b0f1",
   "metadata": {
    "tags": []
   },
   "outputs": [],
   "source": [
    "predictions = []\n",
    "negative_predictions = []\n",
    "positive_predictions = []\n",
    "negative_indexes = []\n",
    "positive_indexes = []\n",
    "data = testing_data.to_numpy()\n",
    "for i in range(len(data)):\n",
    "    predictions.append(mlp_explainer.model_classification_output(k_model=keras_model, net_input=data[i, :-1])[1].numpy())\n",
    "    if predictions[-1] == 0:\n",
    "        negative_indexes.append(i)\n",
    "        negative_predictions.append(data[i, :-1])\n",
    "    else:\n",
    "        positive_indexes.append(i)\n",
    "        positive_predictions.append(data[i, :-1])\n",
    "print(\"Accuracy Test Data:\", metrics.accuracy_score(testing_data.to_numpy()[:, -1], predictions))"
   ]
  },
  {
   "cell_type": "code",
   "execution_count": null,
   "id": "8c828902-07c9-472f-af54-f1d7bcf8568d",
   "metadata": {
    "tags": []
   },
   "outputs": [],
   "source": [
    "cols = list(testing_data.columns)\n",
    "if 'target' not in cols:\n",
    "    cols.append('target')\n",
    "predicted_dataset = []\n",
    "classes = np.array([0, 1],dtype='int')\n",
    "for instance in (testing_data.to_numpy()[:, :-1][negative_indexes]):\n",
    "    instance = np.append(instance, classes[0].astype('int'))\n",
    "    predicted_dataset.append(instance)\n",
    "for instance in (testing_data.to_numpy()[:, :-1][positive_indexes]):\n",
    "    instance = np.append(instance, classes[1])\n",
    "    predicted_dataset.append(instance)\n",
    "predicted_dataset = np.asarray(predicted_dataset)\n",
    "pred_dataset_df = pd.DataFrame(predicted_dataset, columns=cols)\n",
    "pred_dataset_df['target'] = pred_dataset_df['target'].astype('int')"
   ]
  },
  {
   "cell_type": "code",
   "execution_count": null,
   "id": "1887131a-f006-46c8-8f7d-97f869cd7006",
   "metadata": {
    "tags": []
   },
   "outputs": [],
   "source": [
    "metrics_dataframes = []\n",
    "times_direct = []\n",
    "sizes_direct = []\n",
    "rsum_direct = []\n",
    "coverage_direct = []\n",
    "pos_exp_direct = []\n",
    "neg_exp_direct = []"
   ]
  },
  {
   "cell_type": "code",
   "execution_count": null,
   "id": "29d16944-1ca7-4e33-bd38-5b6d8f06fb95",
   "metadata": {
    "tags": []
   },
   "outputs": [],
   "source": [
    "original_bounds"
   ]
  },
  {
   "cell_type": "code",
   "execution_count": null,
   "id": "dcadc0cf-f635-424a-873a-c4d0ae0e284a",
   "metadata": {
    "tags": []
   },
   "outputs": [],
   "source": [
    "negative_direct_explanations = []\n",
    "coverage_direct = []\n",
    "for i, sample in enumerate((testing_data.to_numpy()[:, :-1][negative_indexes])):\n",
    "    start = time.perf_counter()\n",
    "    explanation, minimal = mlp_explainer.run_explanation(sample = sample, n_classes=n_classes, kmodel=keras_model, model=mp_model, output_bounds=output_bounds, og_bounds=original_bounds, enable_log=False,\n",
    "                                                         )\n",
    "    end = time.perf_counter()\n",
    "    negative_direct_explanations.append(explanation)\n",
    "    times_direct.append(end-start)\n",
    "    sizes_direct.append(len(minimal))\n",
    "    rsum_direct.append(mymetrics.range_sum(negative_direct_explanations[-1]))\n",
    "    coverage_direct.append(len(mymetrics.calculate_coverage(testing_data, negative_direct_explanations[-1])))"
   ]
  },
  {
   "cell_type": "code",
   "execution_count": null,
   "id": "a3c9e3c7-2f23-489c-8932-dd86ee862aaa",
   "metadata": {
    "tags": []
   },
   "outputs": [],
   "source": [
    "positive_direct_explanations = []\n",
    "for i, sample in enumerate((testing_data.to_numpy()[:, :-1][positive_indexes])):\n",
    "    start = time.perf_counter()\n",
    "    explanation, minimal = mlp_explainer.run_explanation(sample = sample, n_classes=n_classes, kmodel=keras_model, model=mp_model, output_bounds=output_bounds, og_bounds=original_bounds, enable_log=False,\n",
    "                                                         )\n",
    "    end = time.perf_counter()\n",
    "    positive_direct_explanations.append(explanation)\n",
    "    times_direct.append(end-start)\n",
    "    sizes_direct.append(len(minimal))\n",
    "    rsum_direct.append(mymetrics.range_sum(positive_direct_explanations[-1]))\n",
    "    coverage_direct.append(len(mymetrics.calculate_coverage(testing_data, positive_direct_explanations[-1])))"
   ]
  },
  {
   "cell_type": "code",
   "execution_count": null,
   "id": "0c5f7928-588c-43fd-8dd9-d4085f3c5299",
   "metadata": {
    "tags": []
   },
   "outputs": [],
   "source": [
    "p_values = [0.50] #[0.25, 0.50, 0.75]\n",
    "for p_value in p_values:\n",
    "    print(f\"p = {p_value}\")\n",
    "    times_twostep = []\n",
    "    sizes_twostep = []\n",
    "    rsum_twostep = []\n",
    "    coverage_twostep = []\n",
    "    pos_exp_twostep = []\n",
    "    neg_exp_twostep = []\n",
    "    negative_twostep_explanations = []\n",
    "    \n",
    "    for i, sample in enumerate((testing_data.to_numpy()[:, :-1][negative_indexes])):\n",
    "        start = time.perf_counter()\n",
    "        explanation, minimal = mlp_explainer.run_explanation_doublestep(sample = sample, n_classes=n_classes, kmodel=keras_model, model=mp_model, output_bounds=output_bounds, og_bounds=original_bounds, p=p_value)\n",
    "        end = time.perf_counter()\n",
    "        negative_twostep_explanations.append(explanation)\n",
    "        times_twostep.append(end-start)\n",
    "        sizes_twostep.append(len(minimal))\n",
    "        rsum_twostep.append(mymetrics.range_sum(negative_twostep_explanations[-1]))\n",
    "        coverage_twostep.append(len(mymetrics.calculate_coverage(testing_data, negative_twostep_explanations[-1])))\n",
    "\n",
    "    \n",
    "    positive_twostep_explanations = []\n",
    "    for i, sample in enumerate((testing_data.to_numpy()[:, :-1][positive_indexes])):\n",
    "        start = time.perf_counter()\n",
    "        explanation, minimal = mlp_explainer.run_explanation_doublestep(sample = sample, n_classes=n_classes, kmodel=keras_model, model=mp_model, output_bounds=output_bounds, og_bounds=original_bounds, p=p_value, enable_log=False)\n",
    "        end = time.perf_counter()\n",
    "        positive_twostep_explanations.append(explanation)\n",
    "        times_twostep.append(end-start)\n",
    "        sizes_twostep.append(len(minimal))\n",
    "        rsum_twostep.append(mymetrics.range_sum(positive_twostep_explanations[-1]))\n",
    "        coverage_twostep.append(len(mymetrics.calculate_coverage(testing_data, positive_twostep_explanations[-1])))\n",
    "\n",
    "    time_mean_twostep = sum(times_twostep)/len(times_twostep)\n",
    "    time_std_twostep = np.std(times_twostep)\n",
    "    sizes_mean_twostep = sum(sizes_twostep)/len(sizes_twostep)\n",
    "    sizes_std_twostep = np.std(sizes_twostep)\n",
    "    rsum_mean_twostep = sum(rsum_twostep)/len(rsum_twostep)\n",
    "    rsum_std_twostep = np.std(rsum_twostep)\n",
    "    coverage_mean_twostep = sum(coverage_twostep)/len(coverage_twostep)\n",
    "    coverage_std_twostep = np.std(coverage_twostep)\n",
    "\n",
    "    time_mean_direct = sum(times_direct)/len(times_direct)\n",
    "    time_std_direct = np.std(times_direct)\n",
    "    sizes_mean_direct = sum(sizes_direct)/len(sizes_direct)\n",
    "    sizes_std_direct = np.std(sizes_direct)\n",
    "    rsum_mean_direct = sum(rsum_direct)/len(rsum_direct)\n",
    "    rsum_std_direct = np.std(rsum_direct)\n",
    "    coverage_mean_direct = sum(coverage_direct)/len(coverage_direct)\n",
    "    coverage_std_direct = np.std(coverage_direct)\n",
    "\n",
    "    all_metrics_names = ['Metric','Direct_MEAN','Direct_STD','Twostep_MEAN','Twostep_STD']\n",
    "\n",
    "    all_metrics_mean_df  = pd.DataFrame(columns=all_metrics_names)\n",
    "    pattern_row = ['Time',time_mean_direct, time_std_direct, time_mean_twostep,time_std_twostep]\n",
    "    all_metrics_mean_df.loc[len(all_metrics_mean_df), :] = pattern_row\n",
    "\n",
    "    pattern_row = ['Size', sizes_mean_direct, sizes_std_direct, sizes_mean_twostep,sizes_std_twostep]\n",
    "    all_metrics_mean_df.loc[len(all_metrics_mean_df), :] = pattern_row\n",
    "\n",
    "    pattern_row = ['Ranges_Sum', rsum_mean_direct, rsum_std_direct, rsum_mean_twostep,rsum_std_twostep]\n",
    "    all_metrics_mean_df.loc[len(all_metrics_mean_df), :] = pattern_row\n",
    "\n",
    "\n",
    "    pattern_row = ['Coverage', coverage_mean_direct, coverage_std_direct, coverage_mean_twostep,coverage_std_twostep]\n",
    "    all_metrics_mean_df.loc[len(all_metrics_mean_df), :] = pattern_row\n",
    "\n",
    "    display(all_metrics_mean_df)"
   ]
  },
  {
   "cell_type": "code",
   "execution_count": null,
   "id": "a6161475-d6c0-41ef-a5b3-0d4ede1ab1b1",
   "metadata": {},
   "outputs": [],
   "source": [
    "# dfi.export(all_metrics_mean_df, './saved_dataframe_image/'+dataset_name +\"_\"+ str(p_values[0])+'.jpg')\n",
    "# all_metrics_mean_df.to_csv('./saved_dataframe_csv/'+dataset_name +\"_\"+ str(p_values[0])+'.csv',index=False)"
   ]
  }
 ],
 "metadata": {
  "kernelspec": {
   "display_name": "Python 3 (ipykernel)",
   "language": "python",
   "name": "python3"
  },
  "language_info": {
   "codemirror_mode": {
    "name": "ipython",
    "version": 3
   },
   "file_extension": ".py",
   "mimetype": "text/x-python",
   "name": "python",
   "nbconvert_exporter": "python",
   "pygments_lexer": "ipython3",
   "version": "3.10.14"
  }
 },
 "nbformat": 4,
 "nbformat_minor": 5
}
