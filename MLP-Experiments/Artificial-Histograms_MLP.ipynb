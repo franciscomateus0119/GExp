{
 "cells": [
  {
   "cell_type": "code",
   "execution_count": 1,
   "id": "6bab70ac-bd39-462c-9e6c-6a002ec46b51",
   "metadata": {},
   "outputs": [],
   "source": [
    "import docplex\n",
    "import pandas as pd\n",
    "import tensorflow as tf\n",
    "import numpy as np\n",
    "import utility\n",
    "import copy\n",
    "import mlp_explainer\n",
    "import mymetrics\n",
    "import time\n",
    "import os\n",
    "from sklearn.preprocessing import MinMaxScaler\n",
    "from sklearn import datasets\n",
    "from sklearn.model_selection import train_test_split\n",
    "from milp import codify_network\n",
    "from teste import get_minimal_explanation\n",
    "from sklearn.metrics import classification_report"
   ]
  },
  {
   "cell_type": "code",
   "execution_count": 4,
   "id": "25c179e1-cfc6-4ee2-a54d-3bea5a48541a",
   "metadata": {},
   "outputs": [
    {
     "name": "stdout",
     "output_type": "stream",
     "text": [
      "[[0. 1.]\n",
      " [0. 1.]\n",
      " [0. 1.]\n",
      " [0. 1.]]\n"
     ]
    }
   ],
   "source": [
    "# Load Dataset\n",
    "dataset_name = 'Iris' #Iris, Wine, Vertebral-Column, Pima, Parkinsons, Breast_Cancer, Blood_Transfusion, Ionosphere, Glass, Climate, Modeling, Banknote, Sonar\n",
    "#df_artificial = pd.read_csv('datasets/artificial/'+f'{dataset_name}_artificial.csv')\n",
    "loaded_bounds = np.load(f'bounds/{dataset_name}_data_bounds.npz')\n",
    "original_bounds = loaded_bounds['original_bounds']\n",
    "keras_model = tf.keras.models.load_model(f'new_models/{dataset_name}.h5')\n",
    "mp_model, output_bounds = #Load this from pickle\n",
    "print(original_bounds)\n",
    "np.random.seed(50)"
   ]
  },
  {
   "cell_type": "code",
   "execution_count": 5,
   "id": "e3674393-5b0c-4eab-b90e-d47929da0477",
   "metadata": {},
   "outputs": [],
   "source": [
    "d = 0.1\n",
    "p_value = 0.25\n",
    "X_test = pd.read_csv(f'{dataset_name}_results/{dataset_name}_X_test.csv')\n",
    "onestep_coverages = []\n",
    "twostep_coverages = []"
   ]
  },
  {
   "cell_type": "code",
   "execution_count": null,
   "id": "d83a9238-c36f-48ec-a603-c4187c328d63",
   "metadata": {},
   "outputs": [],
   "source": [
    "for instance in X_test.values[:2]:\n",
    "    #bounds based on original_bounds (for artificial)    \n",
    "    \n",
    "    twostep_coverages = []\n",
    "    twostep_explanations = []\n",
    "    for j in range(len(pred_dataset_df['target'].unique())):\n",
    "        for i, sample in enumerate((testing_data.to_numpy()[:, :-1][class_indexes[j]])):  \n",
    "            explanation, minimal = mlp_explainer.run_explanation_doublestep(sample = sample, n_classes=n_classes, kmodel=keras_model, model=mp_model, output_bounds=output_bounds, og_bounds=original_bounds, p=p_value)\n",
    "            twostep_explanations.append(explanation)\n",
    "            twostep_coverages.append(len(mymetrics.calculate_coverage(testing_data, twostep_explanations[-1])))\n",
    "    \n",
    "            explanation, minimal = mlp_explainer.run_explanation(sample = sample, n_classes=n_classes, kmodel=keras_model, model=mp_model, output_bounds=output_bounds, og_bounds=original_bounds, enable_log=False,                                                  )\n",
    "            onestep_explanations.append(explanation)\n",
    "            onestep_coverages.append(len(mymetrics.calculate_coverage(testing_data, onestep_explanations[-1])))\n",
    "        \n",
    "def compute_mean_std(arr):\n",
    "    return np.mean(arr), np.std(arr)\n",
    "\n",
    "def relative_percentage_diff(new, old):\n",
    "    if np.any(old == 0):\n",
    "        print(f'Warning: found possible division by zero')\n",
    "        return np.where(old != 0, ((new - old) / old) * 100, np.nan)\n",
    "    return ((new - old) / old) * 100\n",
    "    \n",
    "onestep_coverages = np.array(onestep_coverages)\n",
    "twostep_coverages = np.array(twostep_coverages)\n",
    "\n",
    "(coverage_mean_onestep, coverage_std_onestep) = compute_mean_std(onestep_coverages)\n",
    "(coverage_mean_twostep, coverage_std_twostep) = compute_mean_std(twostep_coverages)\n",
    "\n",
    "coverage_mean_diff = relative_percentage_diff(coverage_mean_twostep, coverage_mean_onestep)\n",
    "coverage_std_diff = relative_percentage_diff(coverage_std_twostep, coverage_std_onestep)\n",
    "\n",
    "coverage_relative_pointwise = relative_percentage_diff(twostep_coverages, onestep_coverages)\n",
    "coverage_relative_mean = np.mean(coverage_relative_pointwise)\n",
    "coverage_relative_std = np.std(coverage_relative_pointwise)\n",
    "\n",
    "# Organize Data\n",
    "all_metrics_data = {\n",
    "    'Metric': ['Coverage'],\n",
    "    'ONESTEP_MEAN': [coverage_mean_onestep],\n",
    "    'ONESTEP_STD': [coverage_std_onestep],\n",
    "    'TWOSTEP_MEAN': [coverage_mean_twostep],\n",
    "    'TWOSTEP_STD': [coverage_std_twostep],\n",
    "    'MEAN_DIFF_%': [coverage_mean_diff],\n",
    "    'STD_DIFF_%': [coverage_std_diff],\n",
    "    'POINTWISE_MEAN_%': [coverage_relative_mean],\n",
    "    'POINTWISE_STD_%': [coverage_relative_std]\n",
    "}\n",
    "# Display and save\n",
    "all_metrics_df = pd.DataFrame(all_metrics_data)\n",
    "display(all_metrics_df)\n",
    "#all_metrics_df.to_csv(f'{dataset_name}_results/coverage_results_artificial_{p}.csv', index=False)\n",
    "\n",
    "#Save Raw Metric Data\n",
    "raw_df = pd.DataFrame({\n",
    "    \"onestep_coverages\": onestep_coverages, \n",
    "    \"twostep_coverages\": twostep_coverages,\n",
    "    \"coverage_relative_%\": coverage_relative_pointwise\n",
    "})\n",
    "\n",
    "display(raw_df)\n",
    "#raw_df.to_csv(f\"{dataset_name}_results/coverage_raw_metric_data_{p}.csv\", index=False)"
   ]
  }
 ],
 "metadata": {
  "kernelspec": {
   "display_name": "Python 3 (ipykernel)",
   "language": "python",
   "name": "python3"
  },
  "language_info": {
   "codemirror_mode": {
    "name": "ipython",
    "version": 3
   },
   "file_extension": ".py",
   "mimetype": "text/x-python",
   "name": "python",
   "nbconvert_exporter": "python",
   "pygments_lexer": "ipython3",
   "version": "3.12.3"
  }
 },
 "nbformat": 4,
 "nbformat_minor": 5
}
