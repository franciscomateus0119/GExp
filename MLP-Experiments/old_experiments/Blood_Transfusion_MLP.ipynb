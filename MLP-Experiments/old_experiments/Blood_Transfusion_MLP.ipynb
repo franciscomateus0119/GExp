{
 "cells": [
  {
   "cell_type": "code",
   "execution_count": 1,
   "id": "a50f05f7-5f70-44e3-a154-d448a34155d6",
   "metadata": {
    "tags": []
   },
   "outputs": [],
   "source": [
    "import docplex\n",
    "import pandas as pd\n",
    "import tensorflow as tf\n",
    "import numpy as np\n",
    "import utility\n",
    "import copy\n",
    "import mlp_explainer\n",
    "import mymetrics\n",
    "from sklearn.preprocessing import MinMaxScaler\n",
    "from sklearn import datasets\n",
    "from sklearn.model_selection import train_test_split\n",
    "from milp import codify_network\n",
    "from teste import get_minimal_explanation\n",
    "from sklearn import metrics\n",
    "import time\n",
    "import dataframe_image as dfi"
   ]
  },
  {
   "cell_type": "code",
   "execution_count": 2,
   "id": "51b77688-1364-4f79-b3b1-9f30f5fba025",
   "metadata": {
    "tags": []
   },
   "outputs": [
    {
     "name": "stdout",
     "output_type": "stream",
     "text": [
      "0.0 1.0\n",
      "Original Targets:  [0 1] \n",
      "Desired Targets: [0,1]\n",
      "Is original the desired [0, 1]?  True\n"
     ]
    },
    {
     "data": {
      "text/html": [
       "<div>\n",
       "<style scoped>\n",
       "    .dataframe tbody tr th:only-of-type {\n",
       "        vertical-align: middle;\n",
       "    }\n",
       "\n",
       "    .dataframe tbody tr th {\n",
       "        vertical-align: top;\n",
       "    }\n",
       "\n",
       "    .dataframe thead th {\n",
       "        text-align: right;\n",
       "    }\n",
       "</style>\n",
       "<table border=\"1\" class=\"dataframe\">\n",
       "  <thead>\n",
       "    <tr style=\"text-align: right;\">\n",
       "      <th></th>\n",
       "      <th>Recency (months)</th>\n",
       "      <th>Frequency (times)</th>\n",
       "      <th>Monetary (c.c. blood)</th>\n",
       "      <th>Time (months)</th>\n",
       "      <th>target</th>\n",
       "    </tr>\n",
       "  </thead>\n",
       "  <tbody>\n",
       "    <tr>\n",
       "      <th>0</th>\n",
       "      <td>0.027027</td>\n",
       "      <td>1.000000</td>\n",
       "      <td>1.000000</td>\n",
       "      <td>1.000000</td>\n",
       "      <td>1</td>\n",
       "    </tr>\n",
       "    <tr>\n",
       "      <th>1</th>\n",
       "      <td>0.000000</td>\n",
       "      <td>0.244898</td>\n",
       "      <td>0.244898</td>\n",
       "      <td>0.270833</td>\n",
       "      <td>1</td>\n",
       "    </tr>\n",
       "    <tr>\n",
       "      <th>2</th>\n",
       "      <td>0.013514</td>\n",
       "      <td>0.306122</td>\n",
       "      <td>0.306122</td>\n",
       "      <td>0.343750</td>\n",
       "      <td>1</td>\n",
       "    </tr>\n",
       "    <tr>\n",
       "      <th>3</th>\n",
       "      <td>0.027027</td>\n",
       "      <td>0.387755</td>\n",
       "      <td>0.387755</td>\n",
       "      <td>0.447917</td>\n",
       "      <td>1</td>\n",
       "    </tr>\n",
       "    <tr>\n",
       "      <th>4</th>\n",
       "      <td>0.013514</td>\n",
       "      <td>0.469388</td>\n",
       "      <td>0.469388</td>\n",
       "      <td>0.781250</td>\n",
       "      <td>0</td>\n",
       "    </tr>\n",
       "    <tr>\n",
       "      <th>...</th>\n",
       "      <td>...</td>\n",
       "      <td>...</td>\n",
       "      <td>...</td>\n",
       "      <td>...</td>\n",
       "      <td>...</td>\n",
       "    </tr>\n",
       "    <tr>\n",
       "      <th>743</th>\n",
       "      <td>0.310811</td>\n",
       "      <td>0.020408</td>\n",
       "      <td>0.020408</td>\n",
       "      <td>0.375000</td>\n",
       "      <td>0</td>\n",
       "    </tr>\n",
       "    <tr>\n",
       "      <th>744</th>\n",
       "      <td>0.283784</td>\n",
       "      <td>0.020408</td>\n",
       "      <td>0.020408</td>\n",
       "      <td>0.520833</td>\n",
       "      <td>0</td>\n",
       "    </tr>\n",
       "    <tr>\n",
       "      <th>745</th>\n",
       "      <td>0.310811</td>\n",
       "      <td>0.040816</td>\n",
       "      <td>0.040816</td>\n",
       "      <td>0.625000</td>\n",
       "      <td>0</td>\n",
       "    </tr>\n",
       "    <tr>\n",
       "      <th>746</th>\n",
       "      <td>0.527027</td>\n",
       "      <td>0.000000</td>\n",
       "      <td>0.000000</td>\n",
       "      <td>0.385417</td>\n",
       "      <td>0</td>\n",
       "    </tr>\n",
       "    <tr>\n",
       "      <th>747</th>\n",
       "      <td>0.972973</td>\n",
       "      <td>0.000000</td>\n",
       "      <td>0.000000</td>\n",
       "      <td>0.729167</td>\n",
       "      <td>0</td>\n",
       "    </tr>\n",
       "  </tbody>\n",
       "</table>\n",
       "<p>748 rows × 5 columns</p>\n",
       "</div>"
      ],
      "text/plain": [
       "     Recency (months)  Frequency (times)  Monetary (c.c. blood)  \\\n",
       "0            0.027027           1.000000               1.000000   \n",
       "1            0.000000           0.244898               0.244898   \n",
       "2            0.013514           0.306122               0.306122   \n",
       "3            0.027027           0.387755               0.387755   \n",
       "4            0.013514           0.469388               0.469388   \n",
       "..                ...                ...                    ...   \n",
       "743          0.310811           0.020408               0.020408   \n",
       "744          0.283784           0.020408               0.020408   \n",
       "745          0.310811           0.040816               0.040816   \n",
       "746          0.527027           0.000000               0.000000   \n",
       "747          0.972973           0.000000               0.000000   \n",
       "\n",
       "     Time (months)  target  \n",
       "0         1.000000       1  \n",
       "1         0.270833       1  \n",
       "2         0.343750       1  \n",
       "3         0.447917       1  \n",
       "4         0.781250       0  \n",
       "..             ...     ...  \n",
       "743       0.375000       0  \n",
       "744       0.520833       0  \n",
       "745       0.625000       0  \n",
       "746       0.385417       0  \n",
       "747       0.729167       0  \n",
       "\n",
       "[748 rows x 5 columns]"
      ]
     },
     "metadata": {},
     "output_type": "display_data"
    }
   ],
   "source": [
    "#Blood Transfusion Dataset\n",
    "df = pd.read_csv('./datasets/blood_transfusion.csv')\n",
    "scaler = MinMaxScaler()\n",
    "scaler.fit(df.values[:, :-1])\n",
    "scaled_df = scaler.transform(df.values[:, :-1])\n",
    "lower_bound = scaled_df.min()\n",
    "upper_bound = scaled_df.max()\n",
    "print(lower_bound, upper_bound)\n",
    "df_scaled = pd.DataFrame(scaled_df, columns=df.columns[:-1])\n",
    "targets = (utility.check_targets_0_1(df.values[:,-1])).astype(np.int32)\n",
    "df_scaled['target'] = targets\n",
    "columns = df_scaled.columns\n",
    "dir_path = 'Blood_Transfusion'\n",
    "dataset_name = 'Blood_Transfusion'\n",
    "display(df_scaled)"
   ]
  },
  {
   "cell_type": "code",
   "execution_count": 3,
   "id": "482f0ed7-ffeb-4f9b-a7d1-4590caa730d0",
   "metadata": {
    "tags": []
   },
   "outputs": [],
   "source": [
    "X_train, X_test, y_train, y_test = train_test_split(scaled_df, targets, test_size=0.3,random_state=50,stratify=targets)\n",
    "X = np.concatenate((X_train,X_test),axis=0)\n",
    "y = np.concatenate((y_train,y_test),axis=0)\n",
    "\n",
    "training_data = pd.DataFrame(X_train, columns = columns[:-1])\n",
    "training_data[columns[-1]] = y_train\n",
    "testing_data = pd.DataFrame(X_test, columns = columns[:-1])\n",
    "testing_data[columns[-1]] = y_test\n",
    "dataframe = pd.concat([training_data, testing_data])\n",
    "data = dataframe.to_numpy()\n",
    "n_classes = dataframe['target'].nunique()\n",
    "\n",
    "original_bounds = [[dataframe[dataframe.columns[i]].min(),dataframe[dataframe.columns[i]].max()] for i in range(len(dataframe.columns[:-1]))]\n",
    "keras_model = tf.keras.models.load_model(f'new_models/{dataset_name}.h5')"
   ]
  },
  {
   "cell_type": "code",
   "execution_count": 4,
   "id": "f0271f8c-4ee7-440b-81c8-f6cbb73cbdc5",
   "metadata": {
    "tags": []
   },
   "outputs": [],
   "source": [
    "mp_model, output_bounds = codify_network(keras_model, dataframe, 'fischetti', relax_constraints=False)"
   ]
  },
  {
   "cell_type": "code",
   "execution_count": 5,
   "id": "df0fdeab-f0c7-4079-ae50-b90a8262b0f1",
   "metadata": {
    "tags": []
   },
   "outputs": [
    {
     "name": "stdout",
     "output_type": "stream",
     "text": [
      "Accuracy Test Data: 0.8044444444444444\n"
     ]
    }
   ],
   "source": [
    "predictions = []\n",
    "possible_classes = np.unique(y_test)\n",
    "class_indexes = []\n",
    "class_predictions = []\n",
    "for i in range(n_classes):\n",
    "    class_indexes.append([])\n",
    "    class_predictions.append([])\n",
    "possible_classes, class_indexes, class_predictions\n",
    "data = testing_data.to_numpy()\n",
    "for i in range(len(data)):\n",
    "    predictions.append(mlp_explainer.model_classification_output(k_model=keras_model, net_input=data[i, :-1])[1].numpy())    \n",
    "    for j,p_class in enumerate(possible_classes):\n",
    "        if predictions[-1] == p_class:\n",
    "            class_indexes[j].append(i)\n",
    "            class_predictions[j].append(data[i, :-1])\n",
    "print(\"Accuracy Test Data:\", metrics.accuracy_score(testing_data.to_numpy()[:, -1], predictions))"
   ]
  },
  {
   "cell_type": "code",
   "execution_count": 6,
   "id": "8c828902-07c9-472f-af54-f1d7bcf8568d",
   "metadata": {
    "tags": []
   },
   "outputs": [],
   "source": [
    "cols = list(testing_data.columns)\n",
    "if 'target' not in cols:\n",
    "    cols.append('target')\n",
    "predicted_dataset = []\n",
    "for i,pos_class in enumerate(np.unique(y_test)):\n",
    "    for instance in (testing_data.to_numpy()[:, :-1][class_indexes[i]]):\n",
    "        instance = np.append(instance, pos_class.astype('int'))\n",
    "        predicted_dataset.append(instance)\n",
    "predicted_dataset = np.asarray(predicted_dataset)\n",
    "pred_dataset_df = pd.DataFrame(predicted_dataset, columns=cols)\n",
    "pred_dataset_df['target'] = pred_dataset_df['target'].astype('int')"
   ]
  },
  {
   "cell_type": "code",
   "execution_count": 7,
   "id": "1887131a-f006-46c8-8f7d-97f869cd7006",
   "metadata": {
    "tags": []
   },
   "outputs": [],
   "source": [
    "metrics_dataframes = []\n",
    "times_onestep = []\n",
    "sizes_onestep = []\n",
    "rsum_onestep = []\n",
    "coverage_onestep = []\n",
    "pos_exp_onestep = []\n",
    "neg_exp_onestep = []"
   ]
  },
  {
   "cell_type": "code",
   "execution_count": 8,
   "id": "29d16944-1ca7-4e33-bd38-5b6d8f06fb95",
   "metadata": {
    "tags": []
   },
   "outputs": [
    {
     "data": {
      "text/plain": [
       "[[0.0, 1.0], [0.0, 1.0], [0.0, 1.0], [0.0, 0.9999999999999999]]"
      ]
     },
     "execution_count": 8,
     "metadata": {},
     "output_type": "execute_result"
    }
   ],
   "source": [
    "original_bounds"
   ]
  },
  {
   "cell_type": "code",
   "execution_count": 9,
   "id": "dcadc0cf-f635-424a-873a-c4d0ae0e284a",
   "metadata": {
    "tags": []
   },
   "outputs": [],
   "source": [
    "onestep_explanations = []\n",
    "for j in range(len(pred_dataset_df['target'].unique())):\n",
    "    for i, sample in enumerate((testing_data.to_numpy()[:, :-1][class_indexes[j]])):\n",
    "        start = time.perf_counter()\n",
    "        explanation, minimal = mlp_explainer.run_explanation(sample = sample, n_classes=n_classes, kmodel=keras_model, model=mp_model, output_bounds=output_bounds, og_bounds=original_bounds, enable_log=False,\n",
    "                                                             )\n",
    "        end = time.perf_counter()\n",
    "        onestep_explanations.append(explanation)\n",
    "        times_onestep.append(end-start)\n",
    "        sizes_onestep.append(len(minimal))\n",
    "        rsum_onestep.append(mymetrics.range_sum(onestep_explanations[-1]))\n",
    "        coverage_onestep.append(len(mymetrics.calculate_coverage(testing_data, onestep_explanations[-1])))"
   ]
  },
  {
   "cell_type": "code",
   "execution_count": 10,
   "id": "a3c9e3c7-2f23-489c-8932-dd86ee862aaa",
   "metadata": {
    "tags": []
   },
   "outputs": [
    {
     "name": "stdout",
     "output_type": "stream",
     "text": [
      "p = 0.5\n"
     ]
    },
    {
     "data": {
      "text/html": [
       "<div>\n",
       "<style scoped>\n",
       "    .dataframe tbody tr th:only-of-type {\n",
       "        vertical-align: middle;\n",
       "    }\n",
       "\n",
       "    .dataframe tbody tr th {\n",
       "        vertical-align: top;\n",
       "    }\n",
       "\n",
       "    .dataframe thead th {\n",
       "        text-align: right;\n",
       "    }\n",
       "</style>\n",
       "<table border=\"1\" class=\"dataframe\">\n",
       "  <thead>\n",
       "    <tr style=\"text-align: right;\">\n",
       "      <th></th>\n",
       "      <th>Metric</th>\n",
       "      <th>Onestep_MEAN</th>\n",
       "      <th>Onestep_STD</th>\n",
       "      <th>Twostep_MEAN</th>\n",
       "      <th>Twostep_STD</th>\n",
       "    </tr>\n",
       "  </thead>\n",
       "  <tbody>\n",
       "    <tr>\n",
       "      <th>0</th>\n",
       "      <td>Time</td>\n",
       "      <td>0.162615</td>\n",
       "      <td>0.029907</td>\n",
       "      <td>0.217222</td>\n",
       "      <td>0.05509</td>\n",
       "    </tr>\n",
       "    <tr>\n",
       "      <th>1</th>\n",
       "      <td>Size</td>\n",
       "      <td>2.48</td>\n",
       "      <td>0.618816</td>\n",
       "      <td>2.48</td>\n",
       "      <td>0.618816</td>\n",
       "    </tr>\n",
       "    <tr>\n",
       "      <th>2</th>\n",
       "      <td>Ranges_Sum</td>\n",
       "      <td>2.065543</td>\n",
       "      <td>0.131282</td>\n",
       "      <td>2.079298</td>\n",
       "      <td>0.125852</td>\n",
       "    </tr>\n",
       "    <tr>\n",
       "      <th>3</th>\n",
       "      <td>Coverage</td>\n",
       "      <td>62.657778</td>\n",
       "      <td>40.271117</td>\n",
       "      <td>76.4</td>\n",
       "      <td>40.40418</td>\n",
       "    </tr>\n",
       "  </tbody>\n",
       "</table>\n",
       "</div>"
      ],
      "text/plain": [
       "       Metric Onestep_MEAN Onestep_STD Twostep_MEAN Twostep_STD\n",
       "0        Time     0.162615    0.029907     0.217222     0.05509\n",
       "1        Size         2.48    0.618816         2.48    0.618816\n",
       "2  Ranges_Sum     2.065543    0.131282     2.079298    0.125852\n",
       "3    Coverage    62.657778   40.271117         76.4    40.40418"
      ]
     },
     "metadata": {},
     "output_type": "display_data"
    }
   ],
   "source": [
    "p_values = [0.50] #[0.25, 0.50, 0.75]\n",
    "for p_value in p_values:\n",
    "    print(f\"p = {p_value}\")\n",
    "    times_twostep = []\n",
    "    sizes_twostep = []\n",
    "    rsum_twostep = []\n",
    "    coverage_twostep = []\n",
    "    twostep_explanations = []\n",
    "    for j in range(len(pred_dataset_df['target'].unique())):\n",
    "        for i, sample in enumerate((testing_data.to_numpy()[:, :-1][class_indexes[j]])):\n",
    "            start = time.perf_counter()\n",
    "            \n",
    "            explanation, minimal = mlp_explainer.run_explanation_doublestep(sample = sample, n_classes=n_classes, kmodel=keras_model, model=mp_model, output_bounds=output_bounds, og_bounds=original_bounds, p=p_value)\n",
    "            end = time.perf_counter()\n",
    "            twostep_explanations.append(explanation)\n",
    "            times_twostep.append(end-start)\n",
    "            sizes_twostep.append(len(minimal))\n",
    "            rsum_twostep.append(mymetrics.range_sum(twostep_explanations[-1]))\n",
    "            \n",
    "            coverage_twostep.append(len(mymetrics.calculate_coverage(testing_data, twostep_explanations[-1])))\n",
    "\n",
    "    time_mean_twostep = sum(times_twostep)/len(times_twostep)\n",
    "    time_std_twostep = np.std(times_twostep)\n",
    "    sizes_mean_twostep = sum(sizes_twostep)/len(sizes_twostep)\n",
    "    sizes_std_twostep = np.std(sizes_twostep)\n",
    "    rsum_mean_twostep = sum(rsum_twostep)/len(rsum_twostep)\n",
    "    rsum_std_twostep = np.std(rsum_twostep)\n",
    "\n",
    "    coverage_mean_twostep = sum(coverage_twostep)/len(coverage_twostep)\n",
    "    coverage_std_twostep = np.std(coverage_twostep)\n",
    "\n",
    "    time_mean_onestep = sum(times_onestep)/len(times_onestep)\n",
    "    time_std_onestep = np.std(times_onestep)\n",
    "    sizes_mean_onestep = sum(sizes_onestep)/len(sizes_onestep)\n",
    "    sizes_std_onestep = np.std(sizes_onestep)\n",
    "    rsum_mean_onestep = sum(rsum_onestep)/len(rsum_onestep)\n",
    "    rsum_std_onestep = np.std(rsum_onestep)\n",
    "\n",
    "    coverage_mean_onestep = sum(coverage_onestep)/len(coverage_onestep)\n",
    "    coverage_std_onestep = np.std(coverage_onestep)\n",
    "\n",
    "    all_metrics_names = ['Metric','Onestep_MEAN','Onestep_STD','Twostep_MEAN','Twostep_STD']\n",
    "\n",
    "    all_metrics_mean_df  = pd.DataFrame(columns=all_metrics_names)\n",
    "    pattern_row = ['Time',time_mean_onestep, time_std_onestep, time_mean_twostep,time_std_twostep]\n",
    "    all_metrics_mean_df.loc[len(all_metrics_mean_df), :] = pattern_row\n",
    "\n",
    "    pattern_row = ['Size', sizes_mean_onestep, sizes_std_onestep, sizes_mean_twostep,sizes_std_twostep]\n",
    "    all_metrics_mean_df.loc[len(all_metrics_mean_df), :] = pattern_row\n",
    "\n",
    "    pattern_row = ['Ranges_Sum', rsum_mean_onestep, rsum_std_onestep, rsum_mean_twostep,rsum_std_twostep]\n",
    "    all_metrics_mean_df.loc[len(all_metrics_mean_df), :] = pattern_row\n",
    "\n",
    "    pattern_row = ['Coverage', coverage_mean_onestep, coverage_std_onestep, coverage_mean_twostep,coverage_std_twostep]\n",
    "    all_metrics_mean_df.loc[len(all_metrics_mean_df), :] = pattern_row\n",
    "\n",
    "    metrics_dataframes.append(all_metrics_mean_df)\n",
    "\n",
    "    display(all_metrics_mean_df)"
   ]
  },
  {
   "cell_type": "code",
   "execution_count": 11,
   "id": "a6161475-d6c0-41ef-a5b3-0d4ede1ab1b1",
   "metadata": {},
   "outputs": [],
   "source": [
    "# dfi.export(all_metrics_mean_df, './saved_dataframe_image/'+dataset_name +\"_\"+ str(p_values[0])+'.jpg')\n",
    "# all_metrics_mean_df.to_csv('./saved_dataframe_csv/'+dataset_name +\"_\"+ str(p_values[0])+'.csv',index=False)"
   ]
  },
  {
   "cell_type": "code",
   "execution_count": null,
   "id": "5665448e-2b8f-42dc-9bfb-5b1d9c91cde5",
   "metadata": {},
   "outputs": [],
   "source": []
  }
 ],
 "metadata": {
  "kernelspec": {
   "display_name": "Python 3 (ipykernel)",
   "language": "python",
   "name": "python3"
  },
  "language_info": {
   "codemirror_mode": {
    "name": "ipython",
    "version": 3
   },
   "file_extension": ".py",
   "mimetype": "text/x-python",
   "name": "python",
   "nbconvert_exporter": "python",
   "pygments_lexer": "ipython3",
   "version": "3.10.14"
  }
 },
 "nbformat": 4,
 "nbformat_minor": 5
}
